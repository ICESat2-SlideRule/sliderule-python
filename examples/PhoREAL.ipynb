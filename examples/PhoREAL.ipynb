{
 "cells": [
  {
   "cell_type": "code",
   "execution_count": null,
   "id": "c98afbcd-664e-41bf-ac31-512834f895e0",
   "metadata": {},
   "outputs": [],
   "source": [
    "from sliderule import icesat2\n",
    "import matplotlib.pyplot as plt\n",
    "import matplotlib\n",
    "import geopandas"
   ]
  },
  {
   "cell_type": "code",
   "execution_count": null,
   "id": "b8167cbe-3fe3-4dc9-a5ad-0cbba51c8a07",
   "metadata": {},
   "outputs": [],
   "source": [
    "icesat2.init(\"localhost\", verbose=True, organization=None)"
   ]
  },
  {
   "cell_type": "code",
   "execution_count": null,
   "id": "e9e1e28f-2c14-4aa6-8a8f-958741b84bc4",
   "metadata": {
    "tags": []
   },
   "outputs": [],
   "source": [
    "asset = \"nsidc-s3\"\n",
    "resource = \"ATL03_20190314093716_11600203_005_01.h5\"\n",
    "region = icesat2.toregion(\"../tests/data/dicksonfjord.geojson\")\n",
    "parms = { \n",
    "    \"poly\": region['poly'],\n",
    "    \"cnf\": \"atl03_high\",\n",
    "    \"ats\": 5.0,\n",
    "    \"cnt\": 5,\n",
    "    \"len\": 20.0,\n",
    "    \"res\": 10.0,\n",
    "    \"phoreal\": {\"binsize\": 2.0}\n",
    "}\n",
    "gdf = icesat2.atl08p(parms, asset=asset, resources=[resource])"
   ]
  },
  {
   "cell_type": "code",
   "execution_count": null,
   "id": "1e090852-ebbd-4803-a4fc-1882f7e8c92f",
   "metadata": {},
   "outputs": [],
   "source": [
    "gdf.head()"
   ]
  },
  {
   "cell_type": "code",
   "execution_count": null,
   "id": "6ac8a9ed-5cf0-4af6-ba66-da6edf6170ed",
   "metadata": {},
   "outputs": [],
   "source": []
  }
 ],
 "metadata": {
  "kernelspec": {
   "display_name": "Python 3 (ipykernel)",
   "language": "python",
   "name": "python3"
  },
  "language_info": {
   "codemirror_mode": {
    "name": "ipython",
    "version": 3
   },
   "file_extension": ".py",
   "mimetype": "text/x-python",
   "name": "python",
   "nbconvert_exporter": "python",
   "pygments_lexer": "ipython3",
   "version": "3.8.15"
  }
 },
 "nbformat": 4,
 "nbformat_minor": 5
}
