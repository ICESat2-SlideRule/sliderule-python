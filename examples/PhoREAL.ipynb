{
 "cells": [
  {
   "cell_type": "code",
   "execution_count": null,
   "id": "c98afbcd-664e-41bf-ac31-512834f895e0",
   "metadata": {},
   "outputs": [],
   "source": [
    "# imports\n",
    "from sliderule import icesat2\n",
    "import matplotlib.pyplot as plt\n",
    "import matplotlib\n",
    "import geopandas"
   ]
  },
  {
   "cell_type": "code",
   "execution_count": null,
   "id": "b8167cbe-3fe3-4dc9-a5ad-0cbba51c8a07",
   "metadata": {},
   "outputs": [],
   "source": [
    "# initialize client (notebook only processes one granule, so one node is sufficient)\n",
    "icesat2.init(\"slideruleearth.io\", verbose=True, organization=\"developers\", desired_nodes=1)"
   ]
  },
  {
   "cell_type": "code",
   "execution_count": null,
   "id": "9b655669-041a-4d63-bbe9-b133575c5aea",
   "metadata": {},
   "outputs": [],
   "source": [
    "# processing parameters\n",
    "parms = {\n",
    "    \"poly\": sliderule.toregion('grandmesa.geojson')['poly'],\n",
    "    \"t0\": '2019-11-14T00:00:00Z',\n",
    "    \"t1\": '2019-11-15T00:00:00Z',\n",
    "    \"srt\": icesat2.SRT_LAND,\n",
    "    \"len\": 100,\n",
    "    \"res\": 50,\n",
    "    \"pass_invalid\": True, \n",
    "    \"atl08_class\": [\"atl08_ground\", \"atl08_canopy\", \"atl08_top_of_canopy\"],\n",
    "    \"phoreal\": {\"binsize\": 1.0, \"geoloc\": \"mean\", \"use_abs_h\": False, \"send_waveform\": True}\n",
    "}"
   ]
  },
  {
   "cell_type": "code",
   "execution_count": null,
   "id": "5bae81e6-03c3-41ed-8cdd-0e264bf3c54c",
   "metadata": {},
   "outputs": [],
   "source": [
    "# atl08 request\n",
    "atl08 = icesat2.atl08p(parms, asset=\"nsidc-s3\", keep_id=True)"
   ]
  },
  {
   "cell_type": "code",
   "execution_count": null,
   "id": "09af4f32-2b28-4008-be1a-6908f4e5e825",
   "metadata": {},
   "outputs": [],
   "source": [
    "# print dataframe\n",
    "atl08"
   ]
  },
  {
   "cell_type": "code",
   "execution_count": null,
   "id": "97f4a1b0-91c0-49d6-a7e9-666c88a7266d",
   "metadata": {},
   "outputs": [],
   "source": [
    "# create 75th percentile column and separate out ground tracks\n",
    "atl08['75'] = atl08.apply(lambda row : row[\"canopy_h_metrics\"][icesat2.P['75']], axis = 1)\n",
    "canopy_gt1l = atl08[atl08['gt'] == icesat2.GT1L]"
   ]
  },
  {
   "cell_type": "code",
   "execution_count": null,
   "id": "afd1c997-25ed-4d22-813b-d0c61a25e8be",
   "metadata": {},
   "outputs": [],
   "source": [
    "# plot canopy height\n",
    "canopy_gt1l[\"h_canopy\"].plot()"
   ]
  },
  {
   "cell_type": "code",
   "execution_count": null,
   "id": "001dd88a-499c-463a-be73-d85e1dc002c0",
   "metadata": {},
   "outputs": [],
   "source": [
    "# cplot 75th percentile\n",
    "canopy_gt1l['75'].plot()"
   ]
  },
  {
   "cell_type": "code",
   "execution_count": null,
   "id": "6ad199e5-2096-4863-a06f-dbef507bfd93",
   "metadata": {},
   "outputs": [],
   "source": [
    "# Create Sample Waveform Plots\n",
    "num_plots = 5\n",
    "waveform_index = [100, 200, 300, 400, 500]\n",
    "fig,ax = plt.subplots(num=1, ncols=num_plots, sharey=True, figsize=(12, 6))\n",
    "for x in range(num_plots):\n",
    "    ax[x].plot([x for x in range(len(canopy_gt1l['waveform'][waveform_index[x]]))], canopy_gt1l['waveform'][waveform_index[x]], zorder=1, linewidth=1.0, color='mediumseagreen')\n",
    "plt.show()"
   ]
  },
  {
   "cell_type": "code",
   "execution_count": null,
   "id": "73cf1c1e-6daa-41c2-b487-115ea570bd29",
   "metadata": {},
   "outputs": [],
   "source": [
    "# atl06 request\n",
    "atl06 = icesat2.atl06p(parms, asset=\"nsidc-s3\", keep_id=True)"
   ]
  },
  {
   "cell_type": "code",
   "execution_count": null,
   "id": "150c9142-9cd4-4cba-9d6e-36614d5f04c1",
   "metadata": {},
   "outputs": [],
   "source": [
    "# merge dataframes\n",
    "gdf = geopandas.pd.merge(atl08, atl06, on='extent_id', how='left', suffixes=('.atl08','.atl06')).set_axis(atl08.index)\n",
    "gdf"
   ]
  },
  {
   "cell_type": "code",
   "execution_count": null,
   "id": "3595aa7d-0b05-4a45-9eba-b30a384f66be",
   "metadata": {},
   "outputs": [],
   "source": []
  }
 ],
 "metadata": {
  "kernelspec": {
   "display_name": "Python 3 (ipykernel)",
   "language": "python",
   "name": "python3"
  },
  "language_info": {
   "codemirror_mode": {
    "name": "ipython",
    "version": 3
   },
   "file_extension": ".py",
   "mimetype": "text/x-python",
   "name": "python",
   "nbconvert_exporter": "python",
   "pygments_lexer": "ipython3",
   "version": "3.8.15"
  }
 },
 "nbformat": 4,
 "nbformat_minor": 5
}
