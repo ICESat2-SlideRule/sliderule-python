{
 "cells": [
  {
   "cell_type": "code",
   "execution_count": null,
   "id": "c98afbcd-664e-41bf-ac31-512834f895e0",
   "metadata": {},
   "outputs": [],
   "source": [
    "# imports\n",
    "from sliderule import icesat2\n",
    "import matplotlib.pyplot as plt\n",
    "import matplotlib\n",
    "import geopandas"
   ]
  },
  {
   "cell_type": "code",
   "execution_count": null,
   "id": "b8167cbe-3fe3-4dc9-a5ad-0cbba51c8a07",
   "metadata": {},
   "outputs": [],
   "source": [
    "# initialize client\n",
    "icesat2.init(\"slideruleearth.io\", verbose=True, organization=\"developers\", desired_nodes=7)"
   ]
  },
  {
   "cell_type": "code",
   "execution_count": null,
   "id": "9b655669-041a-4d63-bbe9-b133575c5aea",
   "metadata": {},
   "outputs": [],
   "source": [
    "# processing parameters\n",
    "parms = {\n",
    "    \"poly\": icesat2.toregion('grandmesa.geojson')['poly'],\n",
    "    \"t0\": '2019-11-14T00:00:00Z',\n",
    "    \"t1\": '2019-11-15T00:00:00Z',\n",
    "    \"srt\": icesat2.SRT_LAND,\n",
    "    \"len\": 100,\n",
    "    \"res\": 50,\n",
    "    \"pass_invalid\": True, \n",
    "    \"cnf\": [icesat2.CNF_POSSIBLE_TEP, icesat2.CNF_NOT_CONSIDERED, icesat2.CNF_BACKGROUND, icesat2.CNF_WITHIN_10M, icesat2.CNF_SURFACE_LOW, icesat2.CNF_SURFACE_MEDIUM, icesat2.CNF_SURFACE_HIGH], \n",
    "    \"atl08_class\": [\"atl08_noise\", \"atl08_ground\", \"atl08_canopy\", \"atl08_top_of_canopy\", \"atl08_unclassified\"],\n",
    "    \"yapc\": {\"knn\": 0, \"win_h\": 6, \"win_x\": 11, \"min_ph\": 4, \"score\": 0}, \n",
    "    \"phoreal\": {\"binsize\": 1.0}\n",
    "}"
   ]
  },
  {
   "cell_type": "code",
   "execution_count": null,
   "id": "4e4ae1aa-4c55-46eb-b974-d135ff7d1f7f",
   "metadata": {},
   "outputs": [],
   "source": [
    "# atl06 request\n",
    "atl06 = icesat2.atl06p(parms, asset=\"nsidc-s3\", keep_id=True)"
   ]
  },
  {
   "cell_type": "code",
   "execution_count": null,
   "id": "5bae81e6-03c3-41ed-8cdd-0e264bf3c54c",
   "metadata": {},
   "outputs": [],
   "source": [
    "# atl08 request\n",
    "atl08 = icesat2.atl08p(parms, asset=\"nsidc-s3\", keep_id=True)"
   ]
  },
  {
   "cell_type": "code",
   "execution_count": null,
   "id": "9ee9086a-ec76-408a-a190-8a98b11a0465",
   "metadata": {},
   "outputs": [],
   "source": [
    "# merge dataframes\n",
    "gdf = geopandas.pd.merge(atl08, atl06, on='extent_id', how='left', suffixes=('.atl08','.atl06')).set_axis(atl08.index)"
   ]
  },
  {
   "cell_type": "code",
   "execution_count": null,
   "id": "6eee520d-0401-4571-af71-c030bf8e0969",
   "metadata": {
    "tags": []
   },
   "outputs": [],
   "source": [
    "# display geodataframe\n",
    "gdf"
   ]
  },
  {
   "cell_type": "code",
   "execution_count": null,
   "id": "001dd88a-499c-463a-be73-d85e1dc002c0",
   "metadata": {},
   "outputs": [],
   "source": [
    "# calculate and plot 75th percentile\n",
    "gdf['75'] = gdf.apply(lambda row : row[\"percentiles\"][14], axis = 1)\n",
    "gdf['75'].plot()"
   ]
  },
  {
   "cell_type": "code",
   "execution_count": null,
   "id": "49b5ea52-0feb-4b85-8308-1041d34d7316",
   "metadata": {},
   "outputs": [],
   "source": []
  }
 ],
 "metadata": {
  "kernelspec": {
   "display_name": "Python 3 (ipykernel)",
   "language": "python",
   "name": "python3"
  },
  "language_info": {
   "codemirror_mode": {
    "name": "ipython",
    "version": 3
   },
   "file_extension": ".py",
   "mimetype": "text/x-python",
   "name": "python",
   "nbconvert_exporter": "python",
   "pygments_lexer": "ipython3",
   "version": "3.8.15"
  }
 },
 "nbformat": 4,
 "nbformat_minor": 5
}
