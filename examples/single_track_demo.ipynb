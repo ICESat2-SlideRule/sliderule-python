{
 "cells": [
  {
   "cell_type": "markdown",
   "source": [
    "## Single Track Demo\n",
    "\n",
    "Process a single ATL03 granule using SlideRule's ATL06-SR algorithm and compare the results to the existing ATL06 data product.\n",
    "\n",
    "### What is demonstrated\n",
    "\n",
    "* The `icesat2.atl06` API is used to perform a SlideRule processing request of a single ATL03 granule\n",
    "* The `icesat2.h5` API is used to read existing ATL06 datasets\n",
    "* The `matplotlib` package is used to plot the elevation profile of all three tracks in the granule (with the first track overlaid with the expected profile)\n",
    "* The `cartopy` package is used to produce different plots representing the geolocation of the gridded elevations produced by SlideRule.\n",
    "\n",
    "### Points of interest\n",
    "\n",
    "Most use cases for SlideRule use the higher level `icesat2.atl06p` API which works on a region of interest; but this notebook shows some of the capabilities of SlideRule for working on individual granules."
   ],
   "metadata": {}
  },
  {
   "cell_type": "code",
   "execution_count": null,
   "source": [
    "import sys\n",
    "\n",
    "import pandas as pd\n",
    "import numpy as np\n",
    "import math\n",
    "\n",
    "from sliderule import icesat2"
   ],
   "outputs": [],
   "metadata": {}
  },
  {
   "cell_type": "code",
   "execution_count": null,
   "source": [
    "# Configure Session #\n",
    "icesat2.init(\"icesat2sliderule.org\", True)\n",
    "resource = \"_20181019065445_03150111_003_01.h5\""
   ],
   "outputs": [],
   "metadata": {}
  },
  {
   "cell_type": "code",
   "execution_count": null,
   "source": [
    "#\n",
    "# Distance between two coordinates\n",
    "#\n",
    "def geodist(lat1, lon1, lat2, lon2):\n",
    "\n",
    "    lat1 = math.radians(lat1)\n",
    "    lon1 = math.radians(lon1)\n",
    "    lat2 = math.radians(lat2)\n",
    "    lon2 = math.radians(lon2)\n",
    "\n",
    "    dlon = lon2 - lon1\n",
    "    dlat = lat2 - lat1\n",
    "\n",
    "    dist = math.sin(dlat / 2)**2 + math.cos(lat1) * math.cos(lat2) * math.sin(dlon / 2)**2\n",
    "    dist = 2.0 * math.atan2(math.sqrt(dist), math.sqrt(1.0 - dist))\n",
    "    dist = 6373.0 * dist\n",
    "\n",
    "    return dist"
   ],
   "outputs": [],
   "metadata": {}
  },
  {
   "cell_type": "code",
   "execution_count": null,
   "source": [
    "#\n",
    "# ATL06 Read Request\n",
    "#\n",
    "def expread(resource, asset):\n",
    "\n",
    "    # Read ATL06 Data\n",
    "    segments    = icesat2.h5(\"/gt1r/land_ice_segments/segment_id\",  resource, asset)\n",
    "    heights     = icesat2.h5(\"/gt1r/land_ice_segments/h_li\",        resource, asset)\n",
    "    latitudes   = icesat2.h5(\"/gt1r/land_ice_segments/latitude\",    resource, asset)\n",
    "    longitudes  = icesat2.h5(\"/gt1r/land_ice_segments/longitude\",   resource, asset)\n",
    "\n",
    "    # Build Dataframe of SlideRule Responses    \n",
    "    lat_origin = latitudes[0]\n",
    "    lon_origin = longitudes[0]\n",
    "    distances = [geodist(lat_origin, lon_origin, latitudes[i], longitudes[i]) for i in range(len(heights))]\n",
    "    df = pd.DataFrame(data=list(zip(heights, distances, latitudes, longitudes)), index=segments, columns=[\"h_mean\", \"distance\", \"latitude\", \"longitude\"])\n",
    "\n",
    "    # Filter Dataframe\n",
    "    df = df[df[\"h_mean\"] < 25000.0]\n",
    "    df = df[df[\"h_mean\"] > -25000.0]\n",
    "    df = df[df[\"distance\"] < 4000.0]\n",
    "\n",
    "    # Return DataFrame\n",
    "    print(\"Retrieved {} points from ATL06, returning {} points\".format(len(heights), len(df.values)))\n",
    "    return df"
   ],
   "outputs": [],
   "metadata": {}
  },
  {
   "cell_type": "code",
   "execution_count": null,
   "source": [
    "#\n",
    "# SlideRule Processing Request\n",
    "#\n",
    "def algoexec(resource):\n",
    "\n",
    "    # Build ATL06 Request\n",
    "    parms = {\n",
    "        \"cnf\": 4,\n",
    "        \"ats\": 20.0,\n",
    "        \"cnt\": 10,\n",
    "        \"len\": 40.0,\n",
    "        \"res\": 20.0,\n",
    "        \"maxi\": 1\n",
    "    }\n",
    "\n",
    "    # Request ATL06 Data\n",
    "    rsps = icesat2.atl06(parms, resource, as_numpy=False)\n",
    "\n",
    "    # Calculate Distances\n",
    "    lat_origin = rsps[\"lat\"][0]\n",
    "    lon_origin = rsps[\"lon\"][0]\n",
    "    distances = [geodist(lat_origin, lon_origin, rsps[\"lat\"][i], rsps[\"lon\"][i]) for i in range(len(rsps[\"h_mean\"]))]\n",
    "\n",
    "    # Build Dataframe of SlideRule Responses\n",
    "    gdf = icesat2.todataframe(rsps, fields=[\"h_mean\", \"lat\", \"lon\", \"spot\"])\n",
    "    gdf = gdf.assign(distance=distances)\n",
    "    \n",
    "    # Return DataFrame\n",
    "    print(\"Reference Ground Tracks: {} to {}\".format(min(rsps[\"rgt\"]), max(rsps[\"rgt\"])))\n",
    "    print(\"Cycle: {} to {}\".format(min(rsps[\"cycle\"]), max(rsps[\"cycle\"])))\n",
    "    print(\"Retrieved {} points from SlideRule\".format(len(rsps[\"h_mean\"])))\n",
    "    return gdf"
   ],
   "outputs": [],
   "metadata": {}
  },
  {
   "cell_type": "code",
   "execution_count": null,
   "source": [
    "# Execute SlideRule Algorithm\n",
    "act = algoexec(\"ATL03\"+resource)"
   ],
   "outputs": [],
   "metadata": {}
  },
  {
   "cell_type": "code",
   "execution_count": null,
   "source": [
    "# Read ATL06 Expected Results\n",
    "exp = expread(\"ATL06\"+resource, \"atlas-s3\")"
   ],
   "outputs": [],
   "metadata": {}
  },
  {
   "cell_type": "code",
   "execution_count": null,
   "source": [
    "# Build Standard (Expected) Dataset\n",
    "standard1 = exp.sort_values(by=['distance'])\n",
    "\n",
    "# Build Track (Actual) Datasets\n",
    "track1 = act[act[\"spot\"].isin([1, 2])].sort_values(by=['distance'])\n",
    "track2 = act[act[\"spot\"].isin([3, 4])].sort_values(by=['distance'])\n",
    "track3 = act[act[\"spot\"].isin([5, 6])].sort_values(by=['distance'])"
   ],
   "outputs": [],
   "metadata": {}
  },
  {
   "cell_type": "markdown",
   "source": [
    "## Matplotlib Plots"
   ],
   "metadata": {}
  },
  {
   "cell_type": "code",
   "execution_count": null,
   "source": [
    "# Import MatPlotLib Package\n",
    "import matplotlib.pyplot as plt"
   ],
   "outputs": [],
   "metadata": {}
  },
  {
   "cell_type": "code",
   "execution_count": null,
   "source": [
    "# Create Elevation Plot\n",
    "fig = plt.figure(num=None, figsize=(12, 6))\n",
    "\n",
    "# Plot Track 1 Elevations\n",
    "ax1 = plt.subplot(131)\n",
    "ax1.set_title(\"Along Track 1 Elevations\")\n",
    "ax1.plot(track1[\"distance\"].values, track1[\"h_mean\"].values, linewidth=1.0, color='b')\n",
    "ax1.plot(standard1[\"distance\"].values, standard1[\"h_mean\"].values, linewidth=1.0, color='g')\n",
    "\n",
    "# Plot Track 2 Elevations\n",
    "ax2 = plt.subplot(132)\n",
    "ax2.set_title(\"Along Track 2 Elevations\")\n",
    "ax2.plot(track2[\"distance\"].values, track2[\"h_mean\"].values, linewidth=1.0, color='b')\n",
    "\n",
    "# Plot Track 3 Elevations\n",
    "ax3 = plt.subplot(133)\n",
    "ax3.set_title(\"Along Track 3 Elevations\")\n",
    "ax3.plot(track3[\"distance\"].values, track3[\"h_mean\"].values, linewidth=1.0, color='b')\n",
    "\n",
    "# Show Plot\n",
    "plt.show()"
   ],
   "outputs": [],
   "metadata": {}
  },
  {
   "cell_type": "markdown",
   "source": [
    "## Cartopy Plots"
   ],
   "metadata": {}
  },
  {
   "cell_type": "code",
   "execution_count": null,
   "source": [
    "import cartopy\n",
    "import matplotlib.ticker as mticker\n",
    "from cartopy.mpl.gridliner import LONGITUDE_FORMATTER, LATITUDE_FORMATTER"
   ],
   "outputs": [],
   "metadata": {}
  },
  {
   "cell_type": "code",
   "execution_count": null,
   "source": [
    "# Create PlateCarree Plot\n",
    "fig = plt.figure(num=None, figsize=(24, 12))\n",
    "\n",
    "################################\n",
    "# add global plot\n",
    "################################\n",
    "ax1 = plt.subplot(121,projection=cartopy.crs.PlateCarree())\n",
    "ax1.set_title(\"Ground Tracks\")\n",
    "\n",
    "# add coastlines with filled land and lakes\n",
    "ax1.add_feature(cartopy.feature.LAND, zorder=0, edgecolor='black')\n",
    "ax1.add_feature(cartopy.feature.LAKES)\n",
    "ax1.set_extent((-180,180,-90,90),crs=cartopy.crs.PlateCarree())\n",
    "\n",
    "# format grid lines\n",
    "gl = ax1.gridlines(crs=cartopy.crs.PlateCarree(), draw_labels=True, linewidth=1, color='gray', alpha=0.5, linestyle='--')\n",
    "gl.xformatter = LONGITUDE_FORMATTER\n",
    "gl.yformatter = LATITUDE_FORMATTER\n",
    "gl.xlocator = mticker.FixedLocator([-180, -120, -60, 0, 60, 120, 180])\n",
    "gl.ylocator = mticker.FixedLocator([-90, -60, -30, 0, 30, 60, 90])\n",
    "\n",
    "# plot ground tracks\n",
    "ax1.plot(track1[\"lon\"], track1[\"lat\"], linewidth=1.5, color='r',zorder=2, transform=cartopy.crs.Geodetic())\n",
    "\n",
    "################################\n",
    "# add zoomed plot\n",
    "################################\n",
    "ax2 = plt.subplot(122,projection=cartopy.crs.PlateCarree())\n",
    "ax2.set_title(\"Ground Tracks\")\n",
    "\n",
    "# add coastlines with filled land and lakes\n",
    "ax2.add_feature(cartopy.feature.LAND, zorder=0, edgecolor='black')\n",
    "ax2.add_feature(cartopy.feature.LAKES)\n",
    "ax2.set_extent((-80,-60,-90,-70),crs=cartopy.crs.PlateCarree())\n",
    "\n",
    "# format grid lines\n",
    "gl = ax2.gridlines(crs=cartopy.crs.PlateCarree(), draw_labels=True, linewidth=1, color='gray', alpha=0.5, linestyle='--')\n",
    "gl.xformatter = LONGITUDE_FORMATTER\n",
    "gl.yformatter = LATITUDE_FORMATTER\n",
    "\n",
    "# plot ground tracks\n",
    "ax2.plot(track1[\"lon\"], track1[\"lat\"], linewidth=1.5, color='r',zorder=2, transform=cartopy.crs.Geodetic())\n",
    "\n",
    "# show plot\n",
    "plt.show()"
   ],
   "outputs": [],
   "metadata": {}
  },
  {
   "cell_type": "code",
   "execution_count": null,
   "source": [
    "# Select Projection\n",
    "#p = cartopy.crs.PlateCarree()\n",
    "#p = cartopy.crs.LambertAzimuthalEqualArea()\n",
    "p = cartopy.crs.SouthPolarStereo()\n",
    "\n",
    "# Create SouthPolar Plot\n",
    "fig = plt.figure(num=None, figsize=(12, 6))\n",
    "\n",
    "ax1 = plt.axes(projection=p)\n",
    "ax1.gridlines()\n",
    "\n",
    "# Plot Ground Tracks\n",
    "ax1.set_title(\"Ground Tracks\")\n",
    "ax1.plot(track1[\"lon\"].values,track1[\"lat\"].values,linewidth=1.5, color='r',zorder=2, transform=cartopy.crs.Geodetic())\n",
    "\n",
    "# Plot Bounding Box\n",
    "box_lon = [-70, -70, -65, -65, -70]\n",
    "box_lat = [-80, -82.5, -82.5, -80, -80]\n",
    "ax1.plot(box_lon, box_lat, linewidth=1.5, color='b', zorder=2, transform=cartopy.crs.Geodetic())\n",
    "\n",
    "# add coastlines with filled land and lakes\n",
    "ax1.add_feature(cartopy.feature.LAND, zorder=0, edgecolor='black')\n",
    "ax1.add_feature(cartopy.feature.LAKES)\n",
    "\n",
    "# add margin around plot for context\n",
    "ax1.set_xmargin(1.0)\n",
    "ax1.set_ymargin(1.0)\n",
    "\n",
    "# show plot\n",
    "plt.show()"
   ],
   "outputs": [],
   "metadata": {}
  },
  {
   "cell_type": "code",
   "execution_count": null,
   "source": [],
   "outputs": [],
   "metadata": {}
  },
  {
   "cell_type": "code",
   "execution_count": null,
   "source": [],
   "outputs": [],
   "metadata": {}
  }
 ],
 "metadata": {
  "kernelspec": {
   "name": "python3",
   "display_name": "Python 3.9.5 64-bit"
  },
  "language_info": {
   "codemirror_mode": {
    "name": "ipython",
    "version": 3
   },
   "file_extension": ".py",
   "mimetype": "text/x-python",
   "name": "python",
   "nbconvert_exporter": "python",
   "pygments_lexer": "ipython3",
   "version": "3.9.5"
  },
  "interpreter": {
   "hash": "d7f94b8b1e41b02170d45ac71ce2d6b011e7cd56207b4c480f5292088bcfab93"
  }
 },
 "nbformat": 4,
 "nbformat_minor": 4
}