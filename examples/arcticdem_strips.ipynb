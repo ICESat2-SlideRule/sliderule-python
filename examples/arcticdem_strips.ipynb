{
 "cells": [
  {
   "cell_type": "code",
   "execution_count": null,
   "id": "acb12a75-1636-471a-9649-48a408801d4f",
   "metadata": {},
   "outputs": [],
   "source": [
    "#\n",
    "# Import Packages\n",
    "#\n",
    "import sliderule\n",
    "from sliderule import icesat2"
   ]
  },
  {
   "cell_type": "code",
   "execution_count": null,
   "id": "b8167cbe-3fe3-4dc9-a5ad-0cbba51c8a07",
   "metadata": {},
   "outputs": [],
   "source": [
    "#\n",
    "# Initialize SlideRule Python Client\n",
    "#\n",
    "#icesat2.init(\"slideruleearth.io\", verbose=True, organization=\"uw\", desired_nodes=1)\n",
    "icesat2.init(\"localhost\", verbose=True, organization=None)"
   ]
  },
  {
   "cell_type": "code",
   "execution_count": null,
   "id": "98ef750a-e88b-4125-b951-d1e29ce50ce2",
   "metadata": {
    "tags": []
   },
   "outputs": [],
   "source": [
    "#\n",
    "# Make Processing Request to SlideRule - ATL06-SR with corresponding ArcticDEM Strip Samples\n",
    "#\n",
    "asset = \"nsidc-s3\"\n",
    "resource = \"ATL03_20190314093716_11600203_005_01.h5\"\n",
    "region = sliderule.toregion(\"../tests/data/dicksonfjord.geojson\")\n",
    "parms = { \"poly\": region['poly'],\n",
    "          \"cnf\": \"atl03_high\",\n",
    "          \"ats\": 5.0,\n",
    "          \"cnt\": 5,\n",
    "          \"len\": 20.0,\n",
    "          \"res\": 10.0,\n",
    "          \"maxi\": 1,\n",
    "          \"samples\": {\"strips\": {\"asset\": \"arcticdem-strips\", \"with_flags\": True}} }\n",
    "gdf = icesat2.atl06p(parms, asset=asset, resources=[resource])"
   ]
  },
  {
   "cell_type": "code",
   "execution_count": null,
   "id": "aaa8b95e-f195-4a8e-8a5f-6a250840e57a",
   "metadata": {},
   "outputs": [],
   "source": [
    "#\n",
    "# Display GeoDataFrame\n",
    "#\n",
    "gdf"
   ]
  },
  {
   "cell_type": "code",
   "execution_count": null,
   "id": "04fbe729-1dc4-411e-ba74-58e3671637b7",
   "metadata": {},
   "outputs": [],
   "source": [
    "#\n",
    "# Print Out File Directory\n",
    "#\n",
    "gdf.attrs['file_directory']"
   ]
  },
  {
   "cell_type": "code",
   "execution_count": null,
   "id": "d2fa07bb-1b89-446c-adb0-916b24eed74e",
   "metadata": {},
   "outputs": [],
   "source": [
    "#\n",
    "# Demonstrate How to Get Source Raster Filename for First Strip Sample corresponding to First ATL06-SR Elevation\n",
    "#\n",
    "filedir = gdf.attrs['file_directory']\n",
    "filedir[gdf['strips.file_id'][0][0]]"
   ]
  },
  {
   "cell_type": "code",
   "execution_count": null,
   "id": "4e8fe135-bc15-4b8b-887f-ae16ac81487f",
   "metadata": {},
   "outputs": [],
   "source": [
    "#\n",
    "# Print File IDs for Strips (notice they are numpy arrays)\n",
    "#\n",
    "gdf['strips.file_id']"
   ]
  },
  {
   "cell_type": "code",
   "execution_count": null,
   "id": "cb63af4a-ac60-4433-a91b-96b0e114305f",
   "metadata": {},
   "outputs": [],
   "source": [
    "#\n",
    "# Print Values for Strips (notice they are numpy arrays)\n",
    "#\n",
    "gdf['strips.value']"
   ]
  },
  {
   "cell_type": "code",
   "execution_count": null,
   "id": "eed8f243-dd0c-4473-a952-fcb2bb863e3c",
   "metadata": {},
   "outputs": [],
   "source": []
  }
 ],
 "metadata": {
  "kernelspec": {
   "display_name": "Python 3 (ipykernel)",
   "language": "python",
   "name": "python3"
  },
  "language_info": {
   "codemirror_mode": {
    "name": "ipython",
    "version": 3
   },
   "file_extension": ".py",
   "mimetype": "text/x-python",
   "name": "python",
   "nbconvert_exporter": "python",
   "pygments_lexer": "ipython3",
   "version": "3.8.15"
  }
 },
 "nbformat": 4,
 "nbformat_minor": 5
}
