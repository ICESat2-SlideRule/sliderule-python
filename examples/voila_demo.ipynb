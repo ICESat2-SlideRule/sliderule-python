{
 "cells": [
  {
   "cell_type": "markdown",
   "metadata": {},
   "source": [
    "# SlideRule Voila Demo\n",
    "\n",
    "SlideRule is an on-demand science data processing service that runs in the cloud and responds to REST API calls to process and return science results.\n",
    "\n",
    "This web page demonstrates a simple use of SlideRule to return elevations within a small region of interest using processing parameters specified at the time of the request.  The web page is implemented inside a Jupyter Notebook using SlideRule's Python client, and is statically served using Voila.  The source code for what you see here can be found at: https://github.com/ICESat2-SlideRule/sliderule-python/blob/main/examples/voila_demo.ipynb. \n",
    "\n",
    "For more information on SlideRule, how to install it and use it for your own analysis applications, please see our website at [icesat2sliderule.org](http://icesat2sliderule.org)."
   ]
  },
  {
   "cell_type": "code",
   "execution_count": 1,
   "metadata": {},
   "outputs": [],
   "source": [
    "# load the necessary packages\n",
    "from sliderule import icesat2, ipysliderule, io\n",
    "import ipywidgets as widgets\n",
    "import geopandas\n",
    "import logging\n",
    "import warnings\n",
    "import time"
   ]
  },
  {
   "cell_type": "code",
   "execution_count": 2,
   "metadata": {},
   "outputs": [],
   "source": [
    "# turn off warnings for demo\n",
    "warnings.filterwarnings('ignore')"
   ]
  },
  {
   "cell_type": "code",
   "execution_count": 3,
   "metadata": {},
   "outputs": [],
   "source": [
    "# create global variables\n",
    "url_textbox = None\n",
    "gdf = None\n",
    "parms = None\n",
    "results = []"
   ]
  },
  {
   "cell_type": "code",
   "execution_count": 4,
   "metadata": {},
   "outputs": [],
   "source": [
    "# callback for handling results\n",
    "def demoCB(resource, result, index, total):\n",
    "    global gdf, parms, results\n",
    "    print(f'SlideRule processing request... [{index}/{total}] {resource} returned {len(results)} elevations\\r', end=\"\")\n",
    "    results.append(result)\n",
    "\n",
    "# build and transmit requests to SlideRule\n",
    "def runSlideRule():\n",
    "    global url_textbox, gdf, parms, results\n",
    "    \n",
    "    # set the url for the sliderule service\n",
    "    if url_textbox.value == 'local':\n",
    "        url = 'host.docker.internal'\n",
    "    else:\n",
    "        url = url_textbox.value\n",
    "    icesat2.init(url, loglevel=logging.WARNING)\n",
    "\n",
    "    # sliderule asset and data release\n",
    "    asset = SRwidgets.asset.value\n",
    "    release = SRwidgets.release.value\n",
    "\n",
    "    # build sliderule parameters using latest values from widget\n",
    "    parms = {\n",
    "        # surface type: 0-land, 1-ocean, 2-sea ice, 3-land ice, 4-inland water\n",
    "        \"srt\": SRwidgets.surface_type.index,\n",
    "        # length of ATL06-SR segment in meters\n",
    "        \"len\": SRwidgets.length.value,\n",
    "        # step distance for successive ATL06-SR segments in meters\n",
    "        \"res\": SRwidgets.step.value,\n",
    "        # confidence level for PE selection\n",
    "        \"cnf\": SRwidgets.confidence.value,\n",
    "        # ATL08 land surface classifications\n",
    "        \"atl08_class\": list(SRwidgets.land_class.value),\n",
    "        # maximum iterations, not including initial least-squares-fit selection\n",
    "        \"maxi\": SRwidgets.iteration.value,\n",
    "        # minimum along track spread\n",
    "        \"ats\": SRwidgets.spread.value,\n",
    "        # minimum PE count\n",
    "        \"cnt\": SRwidgets.count.value,\n",
    "        # minimum height of PE window in meters\n",
    "        \"H_min_win\": SRwidgets.window.value,\n",
    "        # maximum robust dispersion in meters\n",
    "        \"sigma_r_max\": SRwidgets.sigma.value\n",
    "    }\n",
    "\n",
    "    # clear existing geodataframe\n",
    "    results = []\n",
    "    gdf = icesat2.__emptyframe()\n",
    "\n",
    "    # for each region of interest\n",
    "    for poly in m.regions:\n",
    "        # add polygon from map to sliderule parameters\n",
    "        parms[\"poly\"] = poly \n",
    "        # make the request to the SlideRule (ATL06-SR) endpoint\n",
    "        # and pass it the request parameters to request ATL06 Data\n",
    "        icesat2.atl06p(parms, asset, callback=demoCB, version=release)\n",
    "\n",
    "    gdf = geopandas.pd.concat(results)\n",
    "    return gdf"
   ]
  },
  {
   "cell_type": "markdown",
   "metadata": {},
   "source": [
    "### Step 1: Select Region of Interest"
   ]
  },
  {
   "cell_type": "code",
   "execution_count": 5,
   "metadata": {},
   "outputs": [
    {
     "data": {
      "application/vnd.jupyter.widget-view+json": {
       "model_id": "bdaff17a9fec4d89be4d431e68a58825",
       "version_major": 2,
       "version_minor": 0
      },
      "text/plain": [
       "Map(center=[39, -108], controls=(ZoomControl(options=['position', 'zoom_in_text', 'zoom_in_title', 'zoom_out_t…"
      ]
     },
     "metadata": {},
     "output_type": "display_data"
    }
   ],
   "source": [
    "# create ipyleaflet map in specified projection\n",
    "m = ipysliderule.leaflet('Global')\n",
    "m.map"
   ]
  },
  {
   "cell_type": "markdown",
   "metadata": {},
   "source": [
    "### Step 2: Choose Processing Parameters and Run SlideRule"
   ]
  },
  {
   "cell_type": "code",
   "execution_count": 6,
   "metadata": {},
   "outputs": [
    {
     "data": {
      "application/vnd.jupyter.widget-view+json": {
       "model_id": "15f7570a836b45da9feebb8b20768f8f",
       "version_major": 2,
       "version_minor": 0
      },
      "text/plain": [
       "Output()"
      ]
     },
     "metadata": {},
     "output_type": "display_data"
    },
    {
     "data": {
      "application/vnd.jupyter.widget-view+json": {
       "model_id": "f922e413e8d44040838eaf58ce470ee2",
       "version_major": 2,
       "version_minor": 0
      },
      "text/plain": [
       "Button(description='Run SlideRule!', style=ButtonStyle())"
      ]
     },
     "metadata": {},
     "output_type": "display_data"
    },
    {
     "data": {
      "application/vnd.jupyter.widget-view+json": {
       "model_id": "869bd36f55284dd9acf07bd65f62628f",
       "version_major": 2,
       "version_minor": 0
      },
      "text/plain": [
       "Text(value='local', description='URL:', placeholder='Input box for SlideRule url')"
      ]
     },
     "metadata": {},
     "output_type": "display_data"
    },
    {
     "data": {
      "application/vnd.jupyter.widget-view+json": {
       "model_id": "f1692111ca4d42ce859ba397860b1c73",
       "version_major": 2,
       "version_minor": 0
      },
      "text/plain": [
       "VBox(children=(Dropdown(description='Surface Type:', options=('Land', 'Ocean', 'Sea ice', 'Land ice', 'Inland …"
      ]
     },
     "metadata": {},
     "output_type": "display_data"
    }
   ],
   "source": [
    "# button action\n",
    "def on_button_clicked1(b):\n",
    "    with output1:\n",
    "        print(f'SlideRule processing request... initiated\\r', end=\"\")\n",
    "        perf_start = time.perf_counter()\n",
    "        gdf = runSlideRule()\n",
    "        perf_duration = time.perf_counter() - perf_start\n",
    "        print(f'SlideRule processing request... completed in {perf_duration:.3f} seconds; returned {gdf.shape[0]} records                                   ')\n",
    "        m.GeoData(gdf, column_name=\"h_mean\", cmap=\"viridis\")\n",
    "\n",
    "# create button to run sliderule\n",
    "button1 = widgets.Button(description=\"Run SlideRule!\")\n",
    "output1 = widgets.Output()\n",
    "button1.on_click(on_button_clicked1)\n",
    "display(output1)\n",
    "display(button1)\n",
    "\n",
    "# url input text box\n",
    "url_textbox = widgets.Text(\n",
    "    value='local',\n",
    "    placeholder='Input box for SlideRule url',\n",
    "    description='URL:',\n",
    "    disabled=False\n",
    ")\n",
    "display(url_textbox)\n",
    "\n",
    "# display widgets for setting SlideRule parameters\n",
    "SRwidgets = ipysliderule.widgets()\n",
    "widgets.VBox([\n",
    "    SRwidgets.surface_type,\n",
    "    SRwidgets.length,\n",
    "    SRwidgets.step,\n",
    "    SRwidgets.confidence,\n",
    "    SRwidgets.land_class,\n",
    "    SRwidgets.iteration,\n",
    "    SRwidgets.spread,\n",
    "    SRwidgets.count,\n",
    "    SRwidgets.window,\n",
    "    SRwidgets.sigma,\n",
    "])"
   ]
  },
  {
   "cell_type": "markdown",
   "metadata": {},
   "source": [
    "See http://icesat2sliderule.org/rtd/user_guide/ICESat-2.html#elevations for descriptions of each column"
   ]
  },
  {
   "cell_type": "markdown",
   "metadata": {},
   "source": [
    "### Step 3: Explore Data Points and Refresh Plot"
   ]
  },
  {
   "cell_type": "code",
   "execution_count": 7,
   "metadata": {},
   "outputs": [
    {
     "data": {
      "application/vnd.jupyter.widget-view+json": {
       "model_id": "a1290c7b34a64afa8d397cdd68dec6e8",
       "version_major": 2,
       "version_minor": 0
      },
      "text/plain": [
       "Button(description='Refresh Plot', style=ButtonStyle())"
      ]
     },
     "metadata": {},
     "output_type": "display_data"
    },
    {
     "data": {
      "application/vnd.jupyter.widget-view+json": {
       "model_id": "1585242961704ce0a3de95719a36ef6c",
       "version_major": 2,
       "version_minor": 0
      },
      "text/plain": [
       "Output()"
      ]
     },
     "metadata": {},
     "output_type": "display_data"
    }
   ],
   "source": [
    "# refresh action\n",
    "def on_refresh_clicked(b):\n",
    "    global gdf\n",
    "    with refresh_output:\n",
    "        m.GeoData(gdf, column_name=SRwidgets.variable.value, cmap=SRwidgets.colormap)\n",
    "\n",
    "# create button to display geodataframe        \n",
    "refresh_button = widgets.Button(description=\"Refresh Plot\")\n",
    "refresh_output = widgets.Output()\n",
    "refresh_button.on_click(on_refresh_clicked)\n",
    "display(refresh_button, refresh_output)"
   ]
  },
  {
   "cell_type": "code",
   "execution_count": 8,
   "metadata": {},
   "outputs": [
    {
     "data": {
      "application/vnd.jupyter.widget-view+json": {
       "model_id": "f7f48ab7912d402b93ba5a4b58bcd6a1",
       "version_major": 2,
       "version_minor": 0
      },
      "text/plain": [
       "VBox(children=(Dropdown(description='Variable:', options=('h_mean', 'h_sigma', 'dh_fit_dx', 'dh_fit_dy', 'rms_…"
      ]
     },
     "metadata": {},
     "output_type": "display_data"
    }
   ],
   "source": [
    "widgets.VBox([\n",
    "    SRwidgets.variable,\n",
    "    SRwidgets.cmap,\n",
    "    SRwidgets.reverse\n",
    "])"
   ]
  },
  {
   "cell_type": "markdown",
   "metadata": {},
   "source": [
    "### Step 4: Plot Photon Cloud of Ground Track\n",
    "\n",
    "Enter the reference ground track, the cycle, and the individual ground track (10: GT1L, 20: GT1R, 30: GT2L, 40: GT2R, 50: GT3L, 60: GT3R) in the input boxes below.  If you click on an individual elevation in the map, it will automatically fill in these inputs with the values corresponding to the elevation you clicked."
   ]
  },
  {
   "cell_type": "code",
   "execution_count": 25,
   "metadata": {},
   "outputs": [
    {
     "data": {
      "application/vnd.jupyter.widget-view+json": {
       "model_id": "c5df6d17317b4f2b9007c72ec5830a72",
       "version_major": 2,
       "version_minor": 0
      },
      "text/plain": [
       "Text(value='0', description='RGT:', placeholder='Input box for reference groud track')"
      ]
     },
     "metadata": {},
     "output_type": "display_data"
    },
    {
     "data": {
      "application/vnd.jupyter.widget-view+json": {
       "model_id": "7ecbe2b7177e413a9c995c0ca8c9e4f7",
       "version_major": 2,
       "version_minor": 0
      },
      "text/plain": [
       "Text(value='0', description='Cycle:', placeholder='Input box for cycle')"
      ]
     },
     "metadata": {},
     "output_type": "display_data"
    },
    {
     "data": {
      "application/vnd.jupyter.widget-view+json": {
       "model_id": "67574240100f4af8b934362f4f0f69ec",
       "version_major": 2,
       "version_minor": 0
      },
      "text/plain": [
       "Text(value='0', description='Track:', placeholder='Input box for ground track')"
      ]
     },
     "metadata": {},
     "output_type": "display_data"
    }
   ],
   "source": [
    "# reference ground track\n",
    "rgt_textbox = widgets.Text(\n",
    "    value='0',\n",
    "    placeholder='Input box for reference groud track',\n",
    "    description='RGT:',\n",
    "    disabled=False\n",
    ")\n",
    "\n",
    "# cycle input text box\n",
    "cycle_textbox = widgets.Text(\n",
    "    value='0',\n",
    "    placeholder='Input box for cycle',\n",
    "    description='Cycle:',\n",
    "    disabled=False\n",
    ")\n",
    "\n",
    "# ground track input text box\n",
    "gt_textbox = widgets.Text(\n",
    "    value='0',\n",
    "    placeholder='Input box for ground track',\n",
    "    description='Track:',\n",
    "    disabled=False\n",
    ")\n",
    "\n",
    "display(rgt_textbox)\n",
    "display(cycle_textbox)\n",
    "display(gt_textbox)\n",
    "\n",
    "\n",
    "def click_handler(feature):\n",
    "    if \"properties\" in feature:\n",
    "        if \"rgt\" in feature[\"properties\"] and \"cycle\" in feature[\"properties\"] and \"gt\" in feature[\"properties\"]:\n",
    "            rgt_textbox.value = str(feature[\"properties\"][\"rgt\"])\n",
    "            cycle_textbox.value = str(feature[\"properties\"][\"cycle\"])\n",
    "            gt_textbox.value = str(feature[\"properties\"][\"gt\"])\n",
    "    \n",
    "m.add_selected_callback(click_handler)"
   ]
  },
  {
   "cell_type": "code",
   "execution_count": 18,
   "metadata": {},
   "outputs": [
    {
     "data": {
      "text/plain": [
       "{'color': '#481a6c',\n",
       " 'cycle': 7,\n",
       " 'data': 1787.1917187580084,\n",
       " 'delta_time': 72131407.26136187,\n",
       " 'dh_fit_dx': -0.00022532057634627733,\n",
       " 'dh_fit_dy': 0,\n",
       " 'distance': 4334196.715702076,\n",
       " 'gt': 20,\n",
       " 'h_mean': 1787.1917187580084,\n",
       " 'h_sigma': 0.017651501867300558,\n",
       " 'n_fit_photons': 61,\n",
       " 'pflags': 0,\n",
       " 'rgt': 295,\n",
       " 'rms_misfit': 0.12450543485313496,\n",
       " 'segment_id': 216122,\n",
       " 'spot': 1,\n",
       " 'w_surface_window_final': 3,\n",
       " 'style': {'fillColor': '#481a6c', 'color': '#481a6c'}}"
      ]
     },
     "execution_count": 18,
     "metadata": {},
     "output_type": "execute_result"
    }
   ],
   "source": [
    "m.selected_feature"
   ]
  },
  {
   "cell_type": "code",
   "execution_count": null,
   "metadata": {},
   "outputs": [],
   "source": []
  }
 ],
 "metadata": {
  "interpreter": {
   "hash": "31f2aee4e71d21fbe5cf8b01ff0e069b9275f58929596ceb00d14d90e3e16cd6"
  },
  "kernelspec": {
   "display_name": "Python 3 (ipykernel)",
   "language": "python",
   "name": "python3"
  },
  "language_info": {
   "codemirror_mode": {
    "name": "ipython",
    "version": 3
   },
   "file_extension": ".py",
   "mimetype": "text/x-python",
   "name": "python",
   "nbconvert_exporter": "python",
   "pygments_lexer": "ipython3",
   "version": "3.8.12"
  },
  "toc-showtags": false
 },
 "nbformat": 4,
 "nbformat_minor": 4
}
