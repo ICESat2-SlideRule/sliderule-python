{
 "cells": [
  {
   "cell_type": "markdown",
   "metadata": {},
   "source": [
    "# SlideRule Voila Demo\n",
    "\n",
    "SlideRule is an on-demand science data processing service that runs in the cloud and responds to REST API calls to process and return science results.\n",
    "\n",
    "This web page demonstrates a simple use of SlideRule to return elevations within a small region of interest using processing parameters specified at the time of the request.  The web page is implemented inside a Jupyter Notebook using SlideRule's Python client, and is statically served using Voila.  The source code for what you see here can be found at: https://github.com/ICESat2-SlideRule/sliderule-python/blob/main/examples/voila_demo.ipynb. \n",
    "\n",
    "For more information on SlideRule, how to install it and use it for your own analysis applications, please see our website at [icesat2sliderule.org](http://icesat2sliderule.org)."
   ]
  },
  {
   "cell_type": "code",
   "execution_count": null,
   "metadata": {},
   "outputs": [],
   "source": [
    "# load the necessary packages\n",
    "from sliderule import icesat2, ipysliderule, io\n",
    "import ipywidgets as widgets\n",
    "import geopandas\n",
    "import logging\n",
    "import warnings\n",
    "import time"
   ]
  },
  {
   "cell_type": "code",
   "execution_count": null,
   "metadata": {},
   "outputs": [],
   "source": [
    "# turn off warnings for demo\n",
    "warnings.filterwarnings('ignore')"
   ]
  },
  {
   "cell_type": "code",
   "execution_count": null,
   "metadata": {},
   "outputs": [],
   "source": [
    "# create global variables\n",
    "url_textbox = None\n",
    "atl06_rsps = None\n",
    "parms = None\n",
    "results = []\n",
    "SRwidgets = ipysliderule.widgets()"
   ]
  },
  {
   "cell_type": "markdown",
   "metadata": {},
   "source": [
    "### Step 1: Select Region of Interest\n",
    "\n",
    "Use the map to draw a polygon or bounding box around your region of interest."
   ]
  },
  {
   "cell_type": "code",
   "execution_count": null,
   "metadata": {},
   "outputs": [],
   "source": [
    "# create ipyleaflet map in specified projection\n",
    "m = ipysliderule.leaflet('Global')\n",
    "m.map"
   ]
  },
  {
   "cell_type": "markdown",
   "metadata": {},
   "source": [
    "### Step 2: Choose Processing Parameters and Run SlideRule\n",
    "\n",
    "Select the processing parameters you want to use to calculate gridded elevations for the region of interest you created above.  After you are done, click the \"Run SlideRule!\" button to initiate the request to SlideRule.  Depending on the size of your processing request, the response should take anywhere from 15 to 300 seconds.  Once all granules have been processed, the above map will be updated with a scatter plot of the different elevations."
   ]
  },
  {
   "cell_type": "code",
   "execution_count": null,
   "metadata": {},
   "outputs": [],
   "source": [
    "# callback for handling results\n",
    "def demoCB(resource, result, index, total):\n",
    "    global parms, results\n",
    "    print(f'SlideRule processing request... [{index}/{total}] {resource} returned {len(results)} elevations\\r', end=\"\")\n",
    "    results.append(result)\n",
    "\n",
    "# build and transmit requests to SlideRule\n",
    "def runSlideRule():\n",
    "    global url_textbox, parms, results\n",
    "    \n",
    "    # set the url for the sliderule service\n",
    "    if url_textbox.value == 'local':\n",
    "        url = 'host.docker.internal'\n",
    "    else:\n",
    "        url = url_textbox.value\n",
    "    icesat2.init(url, loglevel=logging.WARNING)\n",
    "\n",
    "    # sliderule asset and data release\n",
    "    asset = SRwidgets.asset.value\n",
    "\n",
    "    # build sliderule parameters using latest values from widget\n",
    "    parms = {\n",
    "        # surface type: 0-land, 1-ocean, 2-sea ice, 3-land ice, 4-inland water\n",
    "        \"srt\": SRwidgets.surface_type.index,\n",
    "        # length of ATL06-SR segment in meters\n",
    "        \"len\": SRwidgets.length.value,\n",
    "        # step distance for successive ATL06-SR segments in meters\n",
    "        \"res\": SRwidgets.step.value,\n",
    "        # confidence level for PE selection\n",
    "        \"cnf\": SRwidgets.confidence.value,\n",
    "        # ATL08 land surface classifications\n",
    "        \"atl08_class\": list(SRwidgets.land_class.value),\n",
    "        # maximum iterations, not including initial least-squares-fit selection\n",
    "        \"maxi\": SRwidgets.iteration.value,\n",
    "        # minimum along track spread\n",
    "        \"ats\": SRwidgets.spread.value,\n",
    "        # minimum PE count\n",
    "        \"cnt\": SRwidgets.count.value,\n",
    "        # minimum height of PE window in meters\n",
    "        \"H_min_win\": SRwidgets.window.value,\n",
    "        # maximum robust dispersion in meters\n",
    "        \"sigma_r_max\": SRwidgets.sigma.value\n",
    "    }\n",
    "\n",
    "    # clear existing geodataframe\n",
    "    results = []\n",
    "    rsps = icesat2.__emptyframe()\n",
    "\n",
    "    # for each region of interest\n",
    "    for poly in m.regions:\n",
    "        # add polygon from map to sliderule parameters\n",
    "        parms[\"poly\"] = poly \n",
    "        # make the request to the SlideRule (ATL06-SR) endpoint\n",
    "        # and pass it the request parameters to request ATL06 Data\n",
    "        icesat2.atl06p(parms, asset, callback=demoCB)\n",
    "\n",
    "    rsps = geopandas.pd.concat(results)\n",
    "    return rsps\n",
    "\n",
    "# run sliderule action\n",
    "def on_run_clicked(b):\n",
    "    global atl06_rsps\n",
    "    with run_output:\n",
    "        print(f'SlideRule processing request... initiated\\r', end=\"\")\n",
    "        perf_start = time.perf_counter()\n",
    "        atl06_rsps = runSlideRule()\n",
    "        perf_duration = time.perf_counter() - perf_start\n",
    "        print(f'SlideRule processing request... completed in {perf_duration:.3f} seconds; returned {atl06_rsps.shape[0]} records                                   ')\n",
    "        m.GeoData(atl06_rsps, column_name=\"h_mean\", cmap=\"viridis\")\n",
    "\n",
    "# create button to run sliderule\n",
    "run_button = widgets.Button(description=\"Run SlideRule!\")\n",
    "run_output = widgets.Output()\n",
    "run_button.on_click(on_run_clicked)\n",
    "display(run_output)\n",
    "display(run_button)"
   ]
  },
  {
   "cell_type": "code",
   "execution_count": null,
   "metadata": {},
   "outputs": [],
   "source": [
    "# url input text box\n",
    "url_textbox = widgets.Text(\n",
    "    value='local',\n",
    "    placeholder='Input box for SlideRule url',\n",
    "    description='URL:',\n",
    "    disabled=False\n",
    ")\n",
    "display(url_textbox)\n",
    "\n",
    "# display widgets for setting SlideRule parameters\n",
    "widgets.VBox([\n",
    "    SRwidgets.surface_type,\n",
    "    SRwidgets.length,\n",
    "    SRwidgets.step,\n",
    "    SRwidgets.confidence,\n",
    "    SRwidgets.land_class,\n",
    "    SRwidgets.iteration,\n",
    "    SRwidgets.spread,\n",
    "    SRwidgets.count,\n",
    "    SRwidgets.window,\n",
    "    SRwidgets.sigma,\n",
    "])"
   ]
  },
  {
   "cell_type": "markdown",
   "metadata": {},
   "source": [
    "See http://icesat2sliderule.org/rtd/user_guide/ICESat-2.html#elevations for descriptions of each column"
   ]
  },
  {
   "cell_type": "markdown",
   "metadata": {},
   "source": [
    "### Step 3: Explore Data Points and Refresh Plot\n",
    "\n",
    "Choose a field in the returned results to plot."
   ]
  },
  {
   "cell_type": "code",
   "execution_count": null,
   "metadata": {},
   "outputs": [],
   "source": [
    "# refresh action\n",
    "def on_refresh_clicked(b):\n",
    "    global atl06_rsps\n",
    "    with refresh_output:\n",
    "        m.GeoData(atl06_rsps, column_name=SRwidgets.variable.value, cmap=SRwidgets.colormap)\n",
    "\n",
    "# create button to display geodataframe        \n",
    "refresh_button = widgets.Button(description=\"Refresh Plot\")\n",
    "refresh_output = widgets.Output()\n",
    "refresh_button.on_click(on_refresh_clicked)\n",
    "display(refresh_button, refresh_output)"
   ]
  },
  {
   "cell_type": "code",
   "execution_count": null,
   "metadata": {},
   "outputs": [],
   "source": [
    "widgets.VBox([\n",
    "    SRwidgets.variable,\n",
    "    SRwidgets.cmap,\n",
    "    SRwidgets.reverse\n",
    "])"
   ]
  },
  {
   "cell_type": "markdown",
   "metadata": {},
   "source": [
    "### Step 4: Plot Photon Cloud of Ground Track\n",
    "\n",
    "Enter the reference ground track, the cycle, and the individual ground track (10: GT1L, 20: GT1R, 30: GT2L, 40: GT2R, 50: GT3L, 60: GT3R) in the input boxes below.  If you click on an individual elevation in the map, it will automatically populate these inputs with the correct values."
   ]
  },
  {
   "cell_type": "code",
   "execution_count": null,
   "metadata": {},
   "outputs": [],
   "source": [
    "# atl03 plotting imports\n",
    "import numpy as np\n",
    "import matplotlib.pyplot as plt"
   ]
  },
  {
   "cell_type": "code",
   "execution_count": null,
   "metadata": {},
   "outputs": [],
   "source": [
    "# globals for atl03 processing\n",
    "atl03_rsps = None\n",
    "rgt_textbox = None\n",
    "cycle_textbox = None\n",
    "gt_textbox = None\n",
    "\n",
    "# track lookup tables\n",
    "gtlookup = {icesat2.GT1L: 1, icesat2.GT1R: 1, icesat2.GT2L: 2, icesat2.GT2R: 2, icesat2.GT3L: 3, icesat2.GT3R: 3}\n",
    "pairlookup = {icesat2.GT1L: 0, icesat2.GT1R: 1, icesat2.GT2L: 0, icesat2.GT2R: 1, icesat2.GT3L: 0, icesat2.GT3R: 1}"
   ]
  },
  {
   "cell_type": "code",
   "execution_count": null,
   "metadata": {},
   "outputs": [],
   "source": [
    "# ATL03 Subsetter\n",
    "def runATL03Subsetter():\n",
    "    global url_textbox, rgt_textbox, cycle_textbox, gt_textbox, parms\n",
    "    \n",
    "    # set the url for the sliderule service\n",
    "    if url_textbox.value == 'local':\n",
    "        url = 'host.docker.internal'\n",
    "    else:\n",
    "        url = url_textbox.value\n",
    "    icesat2.init(url, loglevel=logging.WARNING)\n",
    "\n",
    "    # sliderule asset and data release\n",
    "    asset = SRwidgets.asset.value\n",
    "\n",
    "    # build sliderule parameters using latest values from widget\n",
    "    parms = {\n",
    "        # surface type: 0-land, 1-ocean, 2-sea ice, 3-land ice, 4-inland water\n",
    "        \"srt\": SRwidgets.surface_type.index,\n",
    "        # length of ATL06-SR segment in meters\n",
    "        \"len\": SRwidgets.length.value,\n",
    "        # step distance for successive ATL06-SR segments in meters\n",
    "        \"res\": SRwidgets.step.value,\n",
    "        # confidence level for PE selection\n",
    "        \"cnf\": SRwidgets.confidence.value,\n",
    "        # ATL08 land surface classifications\n",
    "        \"atl08_class\": list(SRwidgets.land_class.value),\n",
    "        # minimum along track spread\n",
    "        \"ats\": SRwidgets.spread.value,\n",
    "        # minimum PE count\n",
    "        \"cnt\": SRwidgets.count.value,\n",
    "        \n",
    "        # region of interest\n",
    "        \"poly\": m.regions[0],\n",
    "        \n",
    "        # track selection\n",
    "        \"rgt\": int(rgt_textbox.value),\n",
    "        \"cycle\": int(cycle_textbox.value),\n",
    "        \"track\": gtlookup[int(gt_textbox.value)]\n",
    "    }\n",
    "\n",
    "    # make call to sliderule\n",
    "    rsps = icesat2.atl03sp(parms, asset)\n",
    "    \n",
    "    # return geodataframe\n",
    "    return rsps\n",
    "\n",
    "# photon_cloud action\n",
    "def on_pc_clicked(b):\n",
    "    global atl03_rsps\n",
    "    with pc_output:\n",
    "        print(f'SlideRule processing request... initiated\\r', end=\"\")\n",
    "        perf_start = time.perf_counter()\n",
    "        atl03_rsps = runATL03Subsetter()\n",
    "        perf_duration = time.perf_counter() - perf_start\n",
    "        print(f'SlideRule processing request... completed in {perf_duration:.3f} seconds; returned {atl03_rsps.shape[0]} records                                   ')\n",
    "        # Create Plots\n",
    "        fig = plt.figure(num=None, figsize=(24, 8))\n",
    "        colormap = np.array(['c','b','g','g','y']) # noise, ground, canopy, top of canopy, unclassified\n",
    "        ax = plt.subplot(111)\n",
    "        ax.set_title(\"Photon Cloud\")\n",
    "        gt_rsps = atl03_rsps[atl03_rsps[\"pair\"] == pairlookup[int(gt_textbox.value)]]\n",
    "        plot = ax.scatter(gt_rsps.index.values, gt_rsps[\"height\"].values, c=colormap[gt_rsps[\"atl08_class\"]], s=1.5)\n",
    "        display(plt.show())\n",
    "\n",
    "# create button to display geodataframe        \n",
    "pc_button = widgets.Button(description=\"Plot Photon Cloud\")\n",
    "pc_output = widgets.Output()\n",
    "pc_button.on_click(on_pc_clicked)\n",
    "display(pc_button, pc_output)"
   ]
  },
  {
   "cell_type": "code",
   "execution_count": null,
   "metadata": {},
   "outputs": [],
   "source": [
    "# reference ground track\n",
    "rgt_textbox = widgets.Text(\n",
    "    value='0',\n",
    "    placeholder='Input box for reference groud track',\n",
    "    description='RGT:',\n",
    "    disabled=False\n",
    ")\n",
    "\n",
    "# cycle input text box\n",
    "cycle_textbox = widgets.Text(\n",
    "    value='0',\n",
    "    placeholder='Input box for cycle',\n",
    "    description='Cycle:',\n",
    "    disabled=False\n",
    ")\n",
    "\n",
    "# ground track input text box\n",
    "gt_textbox = widgets.Text(\n",
    "    value='0',\n",
    "    placeholder='Input box for ground track',\n",
    "    description='Track:',\n",
    "    disabled=False\n",
    ")\n",
    "\n",
    "display(rgt_textbox)\n",
    "display(cycle_textbox)\n",
    "display(gt_textbox)\n",
    "\n",
    "\n",
    "def click_handler(feature):\n",
    "    if \"properties\" in feature:\n",
    "        if \"rgt\" in feature[\"properties\"] and \"cycle\" in feature[\"properties\"] and \"gt\" in feature[\"properties\"]:\n",
    "            rgt_textbox.value = str(feature[\"properties\"][\"rgt\"])\n",
    "            cycle_textbox.value = str(feature[\"properties\"][\"cycle\"])\n",
    "            gt_textbox.value = str(feature[\"properties\"][\"gt\"])\n",
    "    \n",
    "m.add_selected_callback(click_handler)"
   ]
  },
  {
   "cell_type": "code",
   "execution_count": null,
   "metadata": {},
   "outputs": [],
   "source": []
  }
 ],
 "metadata": {
  "interpreter": {
   "hash": "31f2aee4e71d21fbe5cf8b01ff0e069b9275f58929596ceb00d14d90e3e16cd6"
  },
  "kernelspec": {
   "display_name": "Python 3 (ipykernel)",
   "language": "python",
   "name": "python3"
  },
  "language_info": {
   "codemirror_mode": {
    "name": "ipython",
    "version": 3
   },
   "file_extension": ".py",
   "mimetype": "text/x-python",
   "name": "python",
   "nbconvert_exporter": "python",
   "pygments_lexer": "ipython3",
   "version": "3.8.12"
  },
  "toc-showtags": false
 },
 "nbformat": 4,
 "nbformat_minor": 4
}
