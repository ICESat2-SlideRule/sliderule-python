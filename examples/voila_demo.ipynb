{
 "cells": [
  {
   "cell_type": "markdown",
   "metadata": {},
   "source": [
    "# SlideRule Voila Demo\n",
    "\n",
    "SlideRule is an on-demand science data processing service that runs in the cloud and responds to REST API calls to process and return science results.\n",
    "\n",
    "This web page demonstrates a simple use of SlideRule to return elevations within a small region of interest using processing parameters specified at the time of the request.  The web page is implemented inside a Jupyter Notebook using SlideRule's Python client, and is statically served using Voila.  The source code for what you see here can be found at: https://github.com/ICESat2-SlideRule/sliderule-python/blob/main/examples/voila_demo.ipynb. \n",
    "\n",
    "For more information on SlideRule, how to install it and use it for your own analysis applications, please see our website at [icesat2sliderule.org](http://icesat2sliderule.org)."
   ]
  },
  {
   "cell_type": "code",
   "execution_count": null,
   "metadata": {},
   "outputs": [],
   "source": [
    "# load the necessary packages\n",
    "from sliderule import icesat2, ipysliderule, io\n",
    "import ipywidgets as widgets\n",
    "import geopandas\n",
    "import logging\n",
    "import warnings\n",
    "import time"
   ]
  },
  {
   "cell_type": "code",
   "execution_count": null,
   "metadata": {},
   "outputs": [],
   "source": [
    "# turn off warnings for demo\n",
    "warnings.filterwarnings('ignore')"
   ]
  },
  {
   "cell_type": "code",
   "execution_count": null,
   "metadata": {},
   "outputs": [],
   "source": [
    "# set the url for the sliderule service\n",
    "# set the logging level\n",
    "icesat2.init(\"icesat2sliderule.org\", loglevel=logging.WARNING)"
   ]
  },
  {
   "cell_type": "code",
   "execution_count": null,
   "metadata": {},
   "outputs": [],
   "source": [
    "# create global variables\n",
    "gdf = None\n",
    "parms = None\n",
    "results = []"
   ]
  },
  {
   "cell_type": "code",
   "execution_count": null,
   "metadata": {},
   "outputs": [],
   "source": [
    "# callback for handling results\n",
    "def demoCB(resource, result, index, total):\n",
    "    global gdf, parms, results\n",
    "    print(f'SlideRule processing request... [{index}/{total}] {resource} returned {len(results)} elevations\\r', end=\"\")\n",
    "    results.append(result)\n",
    "\n",
    "# build and transmit requests to SlideRule\n",
    "def runSlideRule():\n",
    "    global gdf, parms, results \n",
    "    \n",
    "    # sliderule asset and data release\n",
    "    asset = SRwidgets.asset.value\n",
    "    release = SRwidgets.release.value\n",
    "\n",
    "    # build sliderule parameters using latest values from widget\n",
    "    parms = {\n",
    "        # surface type: 0-land, 1-ocean, 2-sea ice, 3-land ice, 4-inland water\n",
    "        \"srt\": SRwidgets.surface_type.index,\n",
    "        # length of ATL06-SR segment in meters\n",
    "        \"len\": SRwidgets.length.value,\n",
    "        # step distance for successive ATL06-SR segments in meters\n",
    "        \"res\": SRwidgets.step.value,\n",
    "        # confidence level for PE selection\n",
    "        \"cnf\": SRwidgets.confidence.value,\n",
    "        # ATL08 land surface classifications\n",
    "        \"atl08_class\": list(SRwidgets.land_class.value),\n",
    "        # maximum iterations, not including initial least-squares-fit selection\n",
    "        \"maxi\": SRwidgets.iteration.value,\n",
    "        # minimum along track spread\n",
    "        \"ats\": SRwidgets.spread.value,\n",
    "        # minimum PE count\n",
    "        \"cnt\": SRwidgets.count.value,\n",
    "        # minimum height of PE window in meters\n",
    "        \"H_min_win\": SRwidgets.window.value,\n",
    "        # maximum robust dispersion in meters\n",
    "        \"sigma_r_max\": SRwidgets.sigma.value\n",
    "    }\n",
    "\n",
    "    # clear existing geodataframe\n",
    "    results = []\n",
    "    gdf = icesat2.__emptyframe()\n",
    "\n",
    "    # for each region of interest\n",
    "    for poly in m.regions:\n",
    "        # add polygon from map to sliderule parameters\n",
    "        parms[\"poly\"] = poly \n",
    "        # make the request to the SlideRule (ATL06-SR) endpoint\n",
    "        # and pass it the request parameters to request ATL06 Data\n",
    "        icesat2.atl06p(parms, asset, callback=demoCB, version=release)\n",
    "\n",
    "    gdf = geopandas.pd.concat(results)\n",
    "    return gdf"
   ]
  },
  {
   "cell_type": "markdown",
   "metadata": {},
   "source": [
    "### Step 1: Select Region of Interest"
   ]
  },
  {
   "cell_type": "code",
   "execution_count": null,
   "metadata": {},
   "outputs": [],
   "source": [
    "# create ipyleaflet map in specified projection\n",
    "m = ipysliderule.leaflet('Global')\n",
    "m.map"
   ]
  },
  {
   "cell_type": "markdown",
   "metadata": {},
   "source": [
    "### Step 2: Choose Processing Parameters and Run SlideRule"
   ]
  },
  {
   "cell_type": "code",
   "execution_count": null,
   "metadata": {},
   "outputs": [],
   "source": [
    "# button action\n",
    "def on_button_clicked1(b):\n",
    "    with output1:\n",
    "        print(f'SlideRule processing request... initiated\\r', end=\"\")\n",
    "        perf_start = time.perf_counter()\n",
    "        gdf = runSlideRule()\n",
    "        perf_duration = time.perf_counter() - perf_start\n",
    "        print(f'SlideRule processing request... completed in {perf_duration:.3f} seconds; returned {gdf.shape[0]} records                                   ')\n",
    "        m.GeoData(gdf, column_name=\"h_mean\", cmap=\"viridis\")\n",
    "\n",
    "# create button to run sliderule\n",
    "button1 = widgets.Button(description=\"Run SlideRule!\")\n",
    "output1 = widgets.Output()\n",
    "button1.on_click(on_button_clicked1)\n",
    "display(output1)\n",
    "display(button1)\n",
    "\n",
    "# display widgets for setting SlideRule parameters\n",
    "SRwidgets = ipysliderule.widgets()\n",
    "widgets.VBox([\n",
    "    SRwidgets.surface_type,\n",
    "    SRwidgets.length,\n",
    "    SRwidgets.step,\n",
    "    SRwidgets.confidence,\n",
    "    SRwidgets.land_class,\n",
    "    SRwidgets.iteration,\n",
    "    SRwidgets.spread,\n",
    "    SRwidgets.count,\n",
    "    SRwidgets.window,\n",
    "    SRwidgets.sigma,\n",
    "])"
   ]
  },
  {
   "cell_type": "markdown",
   "metadata": {},
   "source": [
    "See http://icesat2sliderule.org/rtd/user_guide/ICESat-2.html#elevations for descriptions of each column"
   ]
  },
  {
   "cell_type": "markdown",
   "metadata": {},
   "source": [
    "### Step 3: Explore Data Points and Refresh Plot"
   ]
  },
  {
   "cell_type": "code",
   "execution_count": null,
   "metadata": {},
   "outputs": [],
   "source": [
    "# refresh action\n",
    "def on_refresh_clicked(b):\n",
    "    global gdf\n",
    "    with refresh_output:\n",
    "        m.GeoData(gdf, column_name=SRwidgets.variable.value, cmap=SRwidgets.colormap)\n",
    "\n",
    "# create button to display geodataframe        \n",
    "refresh_button = widgets.Button(description=\"Refresh Plot\")\n",
    "refresh_output = widgets.Output()\n",
    "refresh_button.on_click(on_refresh_clicked)\n",
    "display(refresh_button, refresh_output)"
   ]
  },
  {
   "cell_type": "code",
   "execution_count": null,
   "metadata": {},
   "outputs": [],
   "source": [
    "widgets.VBox([\n",
    "    SRwidgets.variable,\n",
    "    SRwidgets.cmap,\n",
    "    SRwidgets.reverse\n",
    "])"
   ]
  }
 ],
 "metadata": {
  "interpreter": {
   "hash": "31f2aee4e71d21fbe5cf8b01ff0e069b9275f58929596ceb00d14d90e3e16cd6"
  },
  "kernelspec": {
   "display_name": "Python 3 (ipykernel)",
   "language": "python",
   "name": "python3"
  },
  "language_info": {
   "codemirror_mode": {
    "name": "ipython",
    "version": 3
   },
   "file_extension": ".py",
   "mimetype": "text/x-python",
   "name": "python",
   "nbconvert_exporter": "python",
   "pygments_lexer": "ipython3",
   "version": "3.8.12"
  },
  "toc-showtags": false
 },
 "nbformat": 4,
 "nbformat_minor": 4
}
