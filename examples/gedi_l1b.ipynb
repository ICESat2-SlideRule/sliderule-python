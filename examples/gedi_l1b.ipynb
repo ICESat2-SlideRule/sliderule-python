{
 "cells": [
  {
   "cell_type": "code",
   "execution_count": null,
   "id": "0e7a3594-2353-476d-a42a-b6bf1b279c61",
   "metadata": {},
   "outputs": [],
   "source": [
    "import time\n",
    "import numpy as np\n",
    "import matplotlib.pyplot as plt\n",
    "from sliderule import gedi\n",
    "from sliderule import earthdata\n",
    "import sliderule"
   ]
  },
  {
   "cell_type": "code",
   "execution_count": null,
   "id": "54acbd2a-23d8-4cb9-ac06-b3893a3b45db",
   "metadata": {},
   "outputs": [],
   "source": [
    "# initialize client (notebook only processes one granule, so one node is sufficient)\n",
    "gedi.init(\"slideruleearth.io\", verbose=True)"
   ]
  },
  {
   "cell_type": "code",
   "execution_count": null,
   "id": "e1421300-b0d1-4139-928e-f8bc612a8ac9",
   "metadata": {},
   "outputs": [],
   "source": [
    "# Specify region of interest from geojson\n",
    "poly_fn = 'grandmesa.geojson'\n",
    "region = sliderule.toregion(poly_fn)"
   ]
  },
  {
   "cell_type": "code",
   "execution_count": null,
   "id": "720dc13b-c6af-4580-ac55-ab4c5263b96e",
   "metadata": {
    "tags": []
   },
   "outputs": [],
   "source": [
    "granules = earthdata.cmr(short_name=\"GEDI01_B\", polygon=region[\"poly\"])"
   ]
  },
  {
   "cell_type": "code",
   "execution_count": null,
   "id": "a46a84ed-05f5-47b8-b4b7-d063dacfddde",
   "metadata": {},
   "outputs": [],
   "source": [
    "# Build GEDI L4A Request Parameters\n",
    "parms = {\n",
    "    \"poly\": region[\"poly\"],\n",
    "    \"degrade_flag\": 0,\n",
    "    \"quality_flag\": 1,\n",
    "    \"beam\": 0\n",
    "}"
   ]
  },
  {
   "cell_type": "code",
   "execution_count": null,
   "id": "02682045-e626-4864-b4eb-1ed04d77d778",
   "metadata": {},
   "outputs": [],
   "source": [
    "# Latch Start Time\n",
    "perf_start = time.perf_counter()\n",
    "\n",
    "# Request GEDI Data\n",
    "gedi01b = gedi.gedi01bp(parms, resources=['GEDI01_B_2019109210809_O01988_03_T02056_02_005_01_V002.h5'])\n",
    "                        \n",
    "# Latch Stop Time\n",
    "perf_stop = time.perf_counter()\n",
    "\n",
    "# Display Statistics\n",
    "perf_duration = perf_stop - perf_start\n",
    "print(\"Completed in {:.3f} seconds of wall-clock time\".format(perf_duration))\n",
    "print(\"Received {} footprints\".format(gedi01b.shape[0]))\n",
    "if len(gedi01b) > 0:\n",
    "    print(\"Beams: {}\".format(gedi01b[\"beam\"].unique()))"
   ]
  },
  {
   "cell_type": "code",
   "execution_count": null,
   "id": "92d482e1-08e2-49a4-9ff7-155b7952e178",
   "metadata": {},
   "outputs": [],
   "source": [
    "gedi01b"
   ]
  },
  {
   "cell_type": "code",
   "execution_count": null,
   "id": "eeade03e-0dc7-42fe-a879-8e59cce8e6af",
   "metadata": {},
   "outputs": [],
   "source": [
    "# plot elevations\n",
    "f, ax = plt.subplots(1, 2, figsize=[12,8])\n",
    "ax[0].set_title(\"Elevation of First Bin\")\n",
    "ax[0].set_aspect('equal')\n",
    "gedi01b.plot(ax=ax[0], column='elevation_start', cmap='inferno', s=0.1)\n",
    "ax[1].set_title(\"Elevation of Last Bin\")\n",
    "ax[1].set_aspect('equal')\n",
    "gedi01b.plot(ax=ax[1], column='elevation_stop', cmap='inferno', s=0.1)"
   ]
  },
  {
   "cell_type": "code",
   "execution_count": null,
   "id": "7d57bfaa-688f-4cb8-ad03-9631e9854dd5",
   "metadata": {
    "tags": []
   },
   "outputs": [],
   "source": [
    "f, ax = plt.subplots()\n",
    "i = 0\n",
    "waveform = np.ma.masked_equal(gedi01b['rx_waveform'].iloc[i], 0).compressed()\n",
    "elev_bins = np.linspace(gedi01b.iloc[i]['elevation_stop'], gedi01b.iloc[i]['elevation_start'], gedi01b.iloc[i]['rx_size'])\n",
    "ax.plot(waveform, elev_bins)\n",
    "ax.set_ylabel('Elevation (m)')\n",
    "ax.set_xlabel('Amplitude')\n",
    "title = f'{gedi01b.index[i]}, Beam {gedi01b.iloc[i][\"beam\"]}'\n",
    "ax.set_title(title)"
   ]
  },
  {
   "cell_type": "code",
   "execution_count": null,
   "id": "e2d213df-51c1-42ce-af45-f24840ba284b",
   "metadata": {
    "tags": []
   },
   "outputs": [],
   "source": [
    "f, ax = plt.subplots()\n",
    "for index, val in gedi01b.iterrows():\n",
    "    waveform = np.ma.masked_outside(val['rx_waveform'], 100, 500).compressed()\n",
    "    elev_bins = np.linspace(val['elevation_stop'], val['elevation_start'], waveform.shape[0])\n",
    "    ax.plot(waveform, elev_bins)\n",
    "#ax.set_ylabel('Elevation (m)')\n",
    "#ax.set_xlabel('Amplitude')"
   ]
  }
 ],
 "metadata": {
  "kernelspec": {
   "display_name": "Python 3 (ipykernel)",
   "language": "python",
   "name": "python3"
  },
  "language_info": {
   "codemirror_mode": {
    "name": "ipython",
    "version": 3
   },
   "file_extension": ".py",
   "mimetype": "text/x-python",
   "name": "python",
   "nbconvert_exporter": "python",
   "pygments_lexer": "ipython3",
   "version": "3.10.9"
  }
 },
 "nbformat": 4,
 "nbformat_minor": 5
}
