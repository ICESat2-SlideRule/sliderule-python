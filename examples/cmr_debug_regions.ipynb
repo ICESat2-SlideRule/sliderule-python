{
 "cells": [
  {
   "cell_type": "markdown",
   "metadata": {},
   "source": [
    "### SlideRule CMR Debug"
   ]
  },
  {
   "cell_type": "markdown",
   "metadata": {},
   "source": [
    "#### Load necessary packages"
   ]
  },
  {
   "cell_type": "code",
   "execution_count": null,
   "metadata": {},
   "outputs": [],
   "source": [
    "from sliderule import icesat2, ipysliderule\n",
    "import numpy as np\n",
    "import logging\n",
    "import matplotlib.cm as cm\n",
    "import matplotlib.colors as colors\n",
    "# autoreload\n",
    "%load_ext autoreload\n",
    "%autoreload 2\n",
    "# create logger\n",
    "logging.basicConfig(level=logging.INFO)"
   ]
  },
  {
   "cell_type": "markdown",
   "metadata": {},
   "source": [
    "#### Select regions of interest for querying CMR"
   ]
  },
  {
   "cell_type": "code",
   "execution_count": null,
   "metadata": {},
   "outputs": [],
   "source": [
    "# create ipyleaflet map in projection\n",
    "m = ipysliderule.leaflet('Global', center=(-25.3,131))\n",
    "m.map"
   ]
  },
  {
   "cell_type": "markdown",
   "metadata": {},
   "source": [
    "#### Build and transmit CMR requests"
   ]
  },
  {
   "cell_type": "code",
   "execution_count": null,
   "metadata": {},
   "outputs": [],
   "source": [
    "# for each region of interest\n",
    "granule_list = []\n",
    "granule_polygons = []\n",
    "for poly in m.regions:\n",
    "    # polygon from map\n",
    "    resources,polygons = icesat2.cmr(polygon=poly, return_polygons=True)\n",
    "    granule_list.extend(resources)\n",
    "    granule_polygons.extend(polygons)\n",
    "# print list of granules\n",
    "num_granules = len(granule_list)\n",
    "logging.info('Number of Granules: {0:d}'.format(num_granules))\n",
    "logging.debug(granule_list)"
   ]
  },
  {
   "cell_type": "markdown",
   "metadata": {},
   "source": [
    "#### Add granule polygons to map"
   ]
  },
  {
   "cell_type": "code",
   "execution_count": null,
   "metadata": {},
   "outputs": [],
   "source": [
    "cmap = iter(cm.viridis(np.linspace(0,1,num_granules)))\n",
    "for region in granule_polygons:\n",
    "    locations = [(p['lat'],p['lon']) for p in region]\n",
    "    color = colors.to_hex(next(cmap))\n",
    "    polygon = ipysliderule.ipyleaflet.Polygon(\n",
    "        locations=locations,\n",
    "        color=color,\n",
    "        fill_color=color,\n",
    "        opacity=0.8,\n",
    "        weight=1,   \n",
    "    )\n",
    "    m.map.add_layer(polygon)"
   ]
  }
 ],
 "metadata": {
  "interpreter": {
   "hash": "31f2aee4e71d21fbe5cf8b01ff0e069b9275f58929596ceb00d14d90e3e16cd6"
  },
  "kernelspec": {
   "display_name": "Python 3.8.10 64-bit",
   "name": "python3"
  },
  "language_info": {
   "codemirror_mode": {
    "name": "ipython",
    "version": 3
   },
   "file_extension": ".py",
   "mimetype": "text/x-python",
   "name": "python",
   "nbconvert_exporter": "python",
   "pygments_lexer": "ipython3",
   "version": "3.8.10"
  }
 },
 "nbformat": 4,
 "nbformat_minor": 4
}
