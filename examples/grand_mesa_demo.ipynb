{
 "cells": [
  {
   "cell_type": "code",
   "execution_count": null,
   "metadata": {},
   "outputs": [],
   "source": [
    "import sys\n",
    "import logging\n",
    "import pandas as pd\n",
    "import matplotlib.pyplot as plt\n",
    "import cartopy\n",
    "from pyproj import Transformer, CRS\n",
    "from shapely.geometry import Polygon, Point\n",
    "import h5pyd as h5py\n",
    "from sliderule import icesat2"
   ]
  },
  {
   "cell_type": "code",
   "execution_count": null,
   "metadata": {},
   "outputs": [],
   "source": [
    "# Configure Logging\n",
    "sliderule_logger = logging.getLogger(\"sliderule.sliderule\")\n",
    "sliderule_logger.setLevel(logging.INFO)\n",
    "icesat2_logger = logging.getLogger(\"icesat2.icesat2\")\n",
    "icesat2_logger.setLevel(logging.INFO)\n",
    "# Create Console Output\n",
    "ch = logging.StreamHandler()\n",
    "ch.setLevel(logging.INFO)\n",
    "sliderule_logger.addHandler(ch)\n",
    "icesat2_logger.addHandler(ch)"
   ]
  },
  {
   "cell_type": "code",
   "execution_count": null,
   "metadata": {},
   "outputs": [],
   "source": [
    "# Configure Session\n",
    "icesat2.init(\"http://44.227.4.67:9081\", False)\n",
    "region = [ {\"lon\": -108.3435200747503, \"lat\": 38.89102961045247},\n",
    "           {\"lon\": -107.7677425431139, \"lat\": 38.90611184543033}, \n",
    "           {\"lon\": -107.7818591266989, \"lat\": 39.26613714985466},\n",
    "           {\"lon\": -108.3605610678553, \"lat\": 39.25086131372244},\n",
    "           {\"lon\": -108.3435200747503, \"lat\": 38.89102961045247} ]"
   ]
  },
  {
   "cell_type": "code",
   "execution_count": null,
   "metadata": {},
   "outputs": [],
   "source": [
    "# Build ATL06 Request\n",
    "parms = {\n",
    "    \"poly\": region,\n",
    "    \"srt\": icesat2.SRT_LAND,\n",
    "    \"cnf\": icesat2.CNF_SURFACE_HIGH,\n",
    "    \"ats\": 10.0,\n",
    "    \"cnt\": 10,\n",
    "    \"len\": 40.0,\n",
    "    \"res\": 20.0,\n",
    "    \"maxi\": 1\n",
    "}\n",
    "\n",
    "# Request ATL06 Data\n",
    "rsps = icesat2.atl06p(parms, \"atl03-cloud\")\n",
    "\n",
    "# Build Dataframe of SlideRule Responses\n",
    "df = pd.DataFrame(data=list(zip(rsps[\"h_mean\"], rsps[\"lat\"], rsps[\"lon\"], rsps[\"spot\"])), index=rsps[\"segment_id\"], columns=[\"h_mean\", \"latitude\", \"longitude\", \"spot\"])"
   ]
  },
  {
   "cell_type": "code",
   "execution_count": null,
   "metadata": {},
   "outputs": [],
   "source": [
    "# Setup Columns\n",
    "columns = [\"h_li\", \"latitude\", \"longitude\"]"
   ]
  },
  {
   "cell_type": "code",
   "execution_count": null,
   "metadata": {},
   "outputs": [],
   "source": [
    "# Query ATL06 Files from NASA CMR System\n",
    "resources = icesat2.cmr(region, short_name='ATL06')"
   ]
  },
  {
   "cell_type": "code",
   "execution_count": null,
   "metadata": {},
   "outputs": [],
   "source": [
    "# Build empty atl06 dataset\n",
    "atl06 = {}\n",
    "for element in columns:\n",
    "    atl06[element] = []\n",
    "\n",
    "# Read each file\n",
    "for resource in resources:\n",
    "    \n",
    "    try:\n",
    "        # Open file\n",
    "        print(\"Reading {}\".format(resource))\n",
    "        f = h5py.File(\"/hsds/ATL06/\"+resource, \"r\")\n",
    "\n",
    "        # Build data dictionary of each element\n",
    "        for spot in [\"gt1l\", \"gt1r\", \"gt2l\", \"gt2r\", \"gt3l\", \"gt3r\"]:\n",
    "            data = {}\n",
    "            for element in columns:\n",
    "                dataset = spot + \"/land_ice_segments/\" + element\n",
    "                data[element] = f[dataset]\n",
    "                s = sum(data[element]) # guarantee read of all data\n",
    "            for element in columns:\n",
    "                atl06[element] += data[element]\n",
    "    except Exception as e:\n",
    "        print(\"Error reading {}: {}\".format(resource, e))\n"
   ]
  },
  {
   "cell_type": "code",
   "execution_count": null,
   "metadata": {},
   "outputs": [],
   "source": [
    "# Create Projection Transformer\n",
    "transformer = Transformer.from_crs(4326, 3857) # GPS to Web Mercator\n",
    "\n",
    "# Project Polygon\n",
    "pregion = []\n",
    "for point in region:\n",
    "    ppoint = transformer.transform(point[\"lat\"], point[\"lon\"])\n",
    "    pregion.append(ppoint)\n",
    "\n",
    "# Build empty trimmed region\n",
    "trimmed = {}\n",
    "for element in columns:\n",
    "    trimmed[element] = []\n",
    "    \n",
    "# Trim Results\n",
    "polygon = Polygon(pregion)\n",
    "for lat,lon,h in zip(atl06[\"latitude\"],atl06[\"longitude\"],atl06[\"h_li\"]):\n",
    "    c = transformer.transform(lat, lon)\n",
    "    point = Point(c[0], c[1])\n",
    "    if point.within(polygon):\n",
    "        trimmed[\"latitude\"].append(lat)\n",
    "        trimmed[\"longitude\"].append(lon)\n",
    "        trimmed[\"h_li\"].append(h)\n",
    "atl06 = trimmed"
   ]
  },
  {
   "cell_type": "code",
   "execution_count": null,
   "metadata": {},
   "outputs": [],
   "source": [
    "# Create Plot\n",
    "fig = plt.figure(num=None, figsize=(24, 12))\n",
    "box_lon = [e[\"lon\"] for e in region]\n",
    "box_lat = [e[\"lat\"] for e in region]\n",
    "\n",
    "# Plot Ground Tracks\n",
    "ax1 = plt.subplot(131,projection=cartopy.crs.PlateCarree())\n",
    "ax1.set_title(\"SlideRule Zoomed Ground Tracks\")\n",
    "ax1.scatter(df[\"longitude\"].values, df[\"latitude\"].values, s=2.5, c=df[\"h_mean\"], cmap='winter_r', zorder=3, transform=cartopy.crs.PlateCarree())\n",
    "ax1.set_extent((-108.4,-107.7,38.8,39.3),crs=cartopy.crs.PlateCarree())\n",
    "ax1.plot(box_lon, box_lat, linewidth=1.5, color='b', zorder=2, transform=cartopy.crs.Geodetic())\n",
    "\n",
    "# Plot Ground Tracks\n",
    "ax2 = plt.subplot(132,projection=cartopy.crs.PlateCarree())\n",
    "ax2.set_title(\"ATL06 Zoomed Ground Tracks\")\n",
    "ax2.scatter(atl06[\"longitude\"], atl06[\"latitude\"], s=2.5, c=atl06[\"h_li\"], cmap='winter_r', zorder=3, transform=cartopy.crs.PlateCarree())\n",
    "ax2.set_extent((-108.4,-107.7,38.8,39.3),crs=cartopy.crs.PlateCarree())\n",
    "ax2.plot(box_lon, box_lat, linewidth=1.5, color='b', zorder=2, transform=cartopy.crs.Geodetic())\n",
    "\n",
    "# Plot SlideRule Global View\n",
    "ax3 = plt.subplot(133,projection=cartopy.crs.PlateCarree())\n",
    "ax3.set_title(\"SlideRule Global Reference\")\n",
    "ax3.scatter(df[\"longitude\"].values, df[\"latitude\"].values, s=2.5, color='r', zorder=3, transform=cartopy.crs.PlateCarree())\n",
    "ax3.add_feature(cartopy.feature.LAND, zorder=0, edgecolor='black')\n",
    "ax3.add_feature(cartopy.feature.LAKES)\n",
    "ax3.set_extent((-180,180,-90,90),crs=cartopy.crs.PlateCarree())\n",
    "\n",
    "# Show Plot\n",
    "plt.show()"
   ]
  },
  {
   "cell_type": "code",
   "execution_count": null,
   "metadata": {},
   "outputs": [],
   "source": []
  }
 ],
 "metadata": {
  "kernelspec": {
   "display_name": "Python 3",
   "language": "python",
   "name": "python3"
  },
  "language_info": {
   "codemirror_mode": {
    "name": "ipython",
    "version": 3
   },
   "file_extension": ".py",
   "mimetype": "text/x-python",
   "name": "python",
   "nbconvert_exporter": "python",
   "pygments_lexer": "ipython3",
   "version": "3.8.6"
  }
 },
 "nbformat": 4,
 "nbformat_minor": 4
}
