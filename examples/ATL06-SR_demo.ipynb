{
 "cells": [
  {
   "cell_type": "markdown",
   "metadata": {},
   "source": [
    "# ATL06-SR Demo with Visualization\n",
    "David Shean  \n",
    "December 8, 2020\n",
    "\n",
    "Testing current SlideRule functionality for Everest and Grand Mesa sites"
   ]
  },
  {
   "cell_type": "code",
   "execution_count": null,
   "metadata": {},
   "outputs": [],
   "source": [
    "import sys\n",
    "import os\n",
    "import logging\n",
    "import time\n",
    "import json\n",
    "import pandas as pd\n",
    "import numpy as np\n",
    "import cartopy\n",
    "import matplotlib.pyplot as plt\n",
    "from datetime import datetime\n",
    "from sliderule import icesat2"
   ]
  },
  {
   "cell_type": "code",
   "execution_count": null,
   "metadata": {},
   "outputs": [],
   "source": [
    "def process_atl06_algorithm(parms, asset):\n",
    "\n",
    "    # Latch Start Time\n",
    "    perf_start = time.perf_counter()\n",
    "\n",
    "    # Request ATL06 Data\n",
    "    rsps = icesat2.atl06p(parms, asset)\n",
    "\n",
    "    # Latch Stop Time\n",
    "    perf_stop = time.perf_counter()\n",
    "\n",
    "    # Build DataFrame of SlideRule Responses\n",
    "    df = pd.DataFrame(rsps)\n",
    "\n",
    "    # Display Statistics\n",
    "    perf_duration = perf_stop - perf_start\n",
    "    print(\"Completed in {:.3f} seconds of wall-clock time\".format(perf_duration))\n",
    "    print(\"Reference Ground Tracks: {}\".format(df[\"rgt\"].unique()))\n",
    "    print(\"Cycles: {}\".format(df[\"cycle\"].unique()))\n",
    "    print(\"Received {} elevations\".format(len(df)))\n",
    "\n",
    "    # Return DataFrame\n",
    "    return df"
   ]
  },
  {
   "cell_type": "code",
   "execution_count": null,
   "metadata": {},
   "outputs": [],
   "source": [
    "# Configure Logging #\n",
    "logging.basicConfig(level=logging.INFO)"
   ]
  },
  {
   "cell_type": "code",
   "execution_count": null,
   "metadata": {},
   "outputs": [],
   "source": [
    "# Region of Interest #\n",
    "region_filename = 'everest.json'\n",
    "#region_filename = 'ngozumpa.json'\n",
    "with open(region_filename) as regionfile:\n",
    "   # region = json.load(regionfile)[\"region\"]\n",
    "    region = json.load(regionfile)[\"region\"]"
   ]
  },
  {
   "cell_type": "code",
   "execution_count": null,
   "metadata": {},
   "outputs": [],
   "source": [
    "#Can specify region manually\n",
    "#Grand Mesa\n",
    "\"\"\"\n",
    "region = [ {\"lon\": -108.3435200747503, \"lat\": 38.89102961045247},\n",
    "               {\"lon\": -107.7677425431139, \"lat\": 38.90611184543033}, \n",
    "               {\"lon\": -107.7818591266989, \"lat\": 39.26613714985466},\n",
    "               {\"lon\": -108.3605610678553, \"lat\": 39.25086131372244},\n",
    "               {\"lon\": -108.3435200747503, \"lat\": 38.89102961045247} ]\n",
    "\"\"\""
   ]
  },
  {
   "cell_type": "code",
   "execution_count": null,
   "metadata": {},
   "outputs": [],
   "source": [
    "# Set URL #\n",
    "url = [\"44.227.4.67\"]\n",
    "\n",
    "# Set Asset #\n",
    "asset = \"atlas-s3\"\n",
    "#asset = \"atl06-s3\""
   ]
  },
  {
   "cell_type": "code",
   "execution_count": null,
   "metadata": {},
   "outputs": [],
   "source": [
    "# Configure SlideRule\n",
    "icesat2.init(url, True)"
   ]
  },
  {
   "cell_type": "code",
   "execution_count": null,
   "metadata": {},
   "outputs": [],
   "source": [
    "# Build ATL06 Request\n",
    "parms = {\n",
    "    \"poly\": region,\n",
    "    \"srt\": icesat2.SRT_LAND,\n",
    "    \"cnf\": icesat2.CNF_SURFACE_HIGH,\n",
    "    \"ats\": 10.0,\n",
    "    \"cnt\": 10,\n",
    "    \"len\": 40.0,\n",
    "    \"res\": 20.0,\n",
    "    \"maxi\": 1\n",
    "}"
   ]
  },
  {
   "cell_type": "code",
   "execution_count": null,
   "metadata": {},
   "outputs": [],
   "source": [
    "out_fn = 'everest.pkl'\n",
    "if not os.path.exists(out_fn):\n",
    "    # Get ATL06 Elevations\n",
    "    atl06 = process_atl06_algorithm(parms, asset)\n",
    "    atl06.to_pickle(out_fn)\n",
    "else:\n",
    "    atl06 = pd.read_pickle(out_fn)"
   ]
  },
  {
   "cell_type": "code",
   "execution_count": null,
   "metadata": {},
   "outputs": [],
   "source": [
    "atl06.shape"
   ]
  },
  {
   "cell_type": "code",
   "execution_count": null,
   "metadata": {},
   "outputs": [],
   "source": [
    "atl06"
   ]
  },
  {
   "cell_type": "code",
   "execution_count": null,
   "metadata": {},
   "outputs": [],
   "source": [
    "#Currently using astropy for GPS time handling\n",
    "from astropy.time import Time\n",
    "\n",
    "def time_convert(df):\n",
    "    print(\"Converting GPS time to Pandas DateTime\")\n",
    "    \n",
    "    #Some early ATL03 delta_time values use different reference epoch, need to correct these \n",
    "    t_ref1 = Time('2018-01-06T00:00:00', format='isot')\n",
    "    t_ref2 = Time('1980-01-06T00:00:00', format='isot')\n",
    "    t_off = t_ref1.gps - t_ref2.gps\n",
    "    \n",
    "    df.loc[df['delta_time'] < t_ref1.gps, 'delta_time'] += t_off \n",
    "    \n",
    "    temp = Time(t_ref2.gps + df['delta_time'], format='gps')\n",
    "    \n",
    "    df['utc'] = pd.to_datetime(temp.isot)\n",
    "    \n",
    "    print(\"Converting timestamp to decyear\")\n",
    "    df['decyear'] = temp.decimalyear\n",
    "    \n",
    "    print(\"Resetting index and sorting\")\n",
    "    df.set_index('utc', inplace=True)\n",
    "    df.sort_index(inplace=True)"
   ]
  },
  {
   "cell_type": "code",
   "execution_count": null,
   "metadata": {},
   "outputs": [],
   "source": [
    "from pyproj import Transformer\n",
    "def add_xy(df):\n",
    "    #Add x and y coords in web mercator (for now)\n",
    "    crs = \"EPSG:3857\" #Web mercator\n",
    "    transformer = Transformer.from_crs(\"EPSG:4326\", crs)\n",
    "    print(\"Reprojecting to %s\" % crs)\n",
    "    df['x'], df['y'] = transformer.transform(df['lat'].values, df['lon'].values)"
   ]
  },
  {
   "cell_type": "code",
   "execution_count": null,
   "metadata": {},
   "outputs": [],
   "source": [
    "time_convert(atl06)"
   ]
  },
  {
   "cell_type": "code",
   "execution_count": null,
   "metadata": {},
   "outputs": [],
   "source": [
    "add_xy(atl06)"
   ]
  },
  {
   "cell_type": "code",
   "execution_count": null,
   "metadata": {},
   "outputs": [],
   "source": [
    "atl06.head()"
   ]
  },
  {
   "cell_type": "code",
   "execution_count": null,
   "metadata": {},
   "outputs": [],
   "source": [
    "import geopandas as gpd\n",
    "import contextily as cx"
   ]
  },
  {
   "cell_type": "code",
   "execution_count": null,
   "metadata": {},
   "outputs": [],
   "source": [
    "atl06_gdf = gpd.GeoDataFrame(atl06, geometry=gpd.points_from_xy(atl06['lon'], atl06['lat']), crs='EPSG:4326')"
   ]
  },
  {
   "cell_type": "code",
   "execution_count": null,
   "metadata": {},
   "outputs": [],
   "source": [
    "n = 100000\n",
    "t = atl06_gdf.sample(n=n)"
   ]
  },
  {
   "cell_type": "code",
   "execution_count": null,
   "metadata": {},
   "outputs": [],
   "source": [
    "f, axa = plt.subplots(1,2, figsize=(15,5))\n",
    "plot_kw = {'legend':True, 'markersize':1}\n",
    "t.plot(ax=axa[0], column='h_mean', **plot_kw)\n",
    "t.plot(ax=axa[1], column='decyear', **plot_kw)\n",
    "cx.add_basemap(axa[0], crs=t.crs.to_string(), source=cx.providers.Stamen.Terrain)\n",
    "cx.add_basemap(axa[1], crs=t.crs.to_string(), source=cx.providers.Stamen.Terrain)"
   ]
  },
  {
   "cell_type": "code",
   "execution_count": null,
   "metadata": {},
   "outputs": [],
   "source": [
    "import hvplot.pandas\n",
    "from holoviews.element.tiles import EsriImagery, StamenTerrain"
   ]
  },
  {
   "cell_type": "code",
   "execution_count": null,
   "metadata": {},
   "outputs": [],
   "source": [
    "#map_tiles = EsriImagery()\n",
    "map_tiles = StamenTerrain()"
   ]
  },
  {
   "cell_type": "code",
   "execution_count": null,
   "metadata": {},
   "outputs": [],
   "source": [
    "kw = {'cmap':'inferno', 'width':500, 'height':500, 'hover':False, 'data_aspect':1, 'alpha':1.0}\n",
    "kw['colorbar'] = True\n",
    "#kw['s'] = 1\n",
    "#kw['aggregator'] = 'mean'\n",
    "#kw['rasterize'] = False\n",
    "#Using datashade=True drops colorbar\n",
    "kw['datashade'] = True\n",
    "#kw['dynamic'] = True"
   ]
  },
  {
   "cell_type": "code",
   "execution_count": null,
   "metadata": {},
   "outputs": [],
   "source": [
    "map_tiles * atl06.hvplot.scatter(x='x', y='y', c='h_mean', title='%s: %s' % ('ATL06-SR', 'h_mean'), **kw) + \\\n",
    "map_tiles * atl06.hvplot.scatter(x='x', y='y', c='dec_year', title='%s: %s' % ('ATL06-SR', 'dec_year'), **kw)"
   ]
  },
  {
   "cell_type": "markdown",
   "metadata": {},
   "source": [
    "## Next Steps\n",
    "* Retrieve and plot original ATL06 points\n",
    "* Zoom for comparisons of ATL06-SR vs. ATL06"
   ]
  },
  {
   "cell_type": "code",
   "execution_count": null,
   "metadata": {},
   "outputs": [],
   "source": []
  }
 ],
 "metadata": {
  "kernelspec": {
   "display_name": "Python [conda env:sliderule]",
   "language": "python",
   "name": "conda-env-sliderule-py"
  },
  "language_info": {
   "codemirror_mode": {
    "name": "ipython",
    "version": 3
   },
   "file_extension": ".py",
   "mimetype": "text/x-python",
   "name": "python",
   "nbconvert_exporter": "python",
   "pygments_lexer": "ipython3",
   "version": "3.8.6"
  }
 },
 "nbformat": 4,
 "nbformat_minor": 4
}