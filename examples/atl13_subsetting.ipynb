{
 "cells": [
  {
   "cell_type": "markdown",
   "id": "e243172d-a731-4f1a-ae97-7c7a1fd63757",
   "metadata": {
    "tags": [],
    "user_expressions": []
   },
   "source": [
    "# ATL13 Subsetting"
   ]
  },
  {
   "cell_type": "markdown",
   "id": "a824b4cc-e7a1-4d4e-be55-13f3a6c8e96e",
   "metadata": {
    "user_expressions": []
   },
   "source": [
    "### Purpose\n",
    "Subset ATL13 granule using SlideRule"
   ]
  },
  {
   "cell_type": "markdown",
   "id": "e5e2efc2-078a-4e37-8083-75994ebf62e8",
   "metadata": {
    "tags": [],
    "user_expressions": []
   },
   "source": [
    "#### Import Packages"
   ]
  },
  {
   "cell_type": "code",
   "execution_count": null,
   "id": "338d80d9-e8f7-40ec-a294-683562437f69",
   "metadata": {
    "tags": []
   },
   "outputs": [],
   "source": [
    "from sliderule import sliderule, icesat2, earthdata\n",
    "import matplotlib.pyplot as plt"
   ]
  },
  {
   "cell_type": "markdown",
   "id": "7dc950a2-4b0c-4c8f-b7cc-ea6092f8c96e",
   "metadata": {
    "tags": [],
    "user_expressions": []
   },
   "source": [
    "#### Configure Logging"
   ]
  },
  {
   "cell_type": "markdown",
   "id": "613b066a-fbda-4583-a29c-dbe35c182252",
   "metadata": {
    "tags": [],
    "user_expressions": []
   },
   "source": [
    "#### Initialize SlideRule Python Client"
   ]
  },
  {
   "cell_type": "code",
   "execution_count": null,
   "id": "0ca128df-4ff0-4b95-ae40-d0a040c9a9db",
   "metadata": {
    "tags": []
   },
   "outputs": [],
   "source": [
    "#sliderule.init(\"localhost\", organization=None, verbose=True, loglevel=\"INFO\")\n",
    "sliderule.init()"
   ]
  },
  {
   "cell_type": "markdown",
   "id": "95e29e39-bef3-4312-8498-f037267da964",
   "metadata": {
    "tags": [],
    "user_expressions": []
   },
   "source": [
    "#### Build Request Parameters"
   ]
  },
  {
   "cell_type": "code",
   "execution_count": null,
   "id": "07da0425-2ebf-41aa-b84d-8f27a508cdbe",
   "metadata": {
    "tags": []
   },
   "outputs": [],
   "source": [
    "region = sliderule.toregion(\"../../sliderule/clients/python/tests/data/tarawa.geojson\")"
   ]
  },
  {
   "cell_type": "code",
   "execution_count": null,
   "id": "3f01b208-4665-47c0-90e3-95834cc61338",
   "metadata": {
    "tags": []
   },
   "outputs": [],
   "source": [
    "parms = {\n",
    "    \"poly\": region[\"poly\"],\n",
    "}"
   ]
  },
  {
   "cell_type": "markdown",
   "id": "90bb8070-d857-424a-a100-d1ea32631e82",
   "metadata": {
    "tags": [],
    "user_expressions": []
   },
   "source": [
    "#### Make ATL13 Subsetting Request"
   ]
  },
  {
   "cell_type": "code",
   "execution_count": null,
   "id": "ecc3f250-0785-4630-a261-13d12ab59819",
   "metadata": {
    "scrolled": true,
    "tags": []
   },
   "outputs": [],
   "source": [
    "sdp = icesat2.atl13sp(parms)\n",
    "sdp"
   ]
  },
  {
   "cell_type": "code",
   "execution_count": null,
   "id": "0aa1301a-f2cf-4549-927b-c8db796d6dbc",
   "metadata": {
    "tags": [],
    "user_expressions": []
   },
   "outputs": [],
   "source": [
    "f, ax = plt.subplots()\n",
    "ax.set_title(\"ATL13 Points\")\n",
    "sdp.plot(ax=ax, column='ht_water_surf', cmap='inferno', s=0.1)"
   ]
  },
  {
   "cell_type": "code",
   "execution_count": null,
   "id": "04137254-5356-4f1d-9438-2126063f2258",
   "metadata": {},
   "outputs": [],
   "source": []
  }
 ],
 "metadata": {
  "kernelspec": {
   "display_name": "Python 3 (ipykernel)",
   "language": "python",
   "name": "python3"
  },
  "language_info": {
   "codemirror_mode": {
    "name": "ipython",
    "version": 3
   },
   "file_extension": ".py",
   "mimetype": "text/x-python",
   "name": "python",
   "nbconvert_exporter": "python",
   "pygments_lexer": "ipython3",
   "version": "3.12.0"
  }
 },
 "nbformat": 4,
 "nbformat_minor": 5
}
