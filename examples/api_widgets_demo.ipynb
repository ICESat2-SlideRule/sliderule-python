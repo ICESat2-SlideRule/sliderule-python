{
 "cells": [
  {
   "cell_type": "markdown",
   "metadata": {},
   "source": [
    "# SlideRule API: Interactive Widget\n",
    "\n",
    "SlideRule is an on-demand science data processing service that runs in the cloud and responds to REST API calls to process and return science results.\n",
    "\n",
    "SlideRule can be accessed by any http client (e.g. curl) by making GET and POST requests to the SlideRule service. For the purposes of this document, all requests to SlideRule will originate from a Python script using Python's requests module.\n",
    "\n",
    "This notebook uses [Jupyter widgets](https://ipywidgets.readthedocs.io) to set parameters for using the SlideRule API.\n",
    "Regions of interest for submitting to SlideRule are drawn on a [leaflet](https://ipyleaflet.readthedocs.io) map.  Multiple polygons can be submitted at a given time."
   ]
  },
  {
   "cell_type": "markdown",
   "metadata": {},
   "source": [
    "#### Load necessary packages"
   ]
  },
  {
   "cell_type": "code",
   "execution_count": null,
   "metadata": {},
   "outputs": [],
   "source": [
    "from sliderule import icesat2, ipysliderule, io\n",
    "import logging\n",
    "import numpy as np\n",
    "import matplotlib.pyplot as plt\n",
    "import cartopy\n",
    "import ipywidgets as widgets\n",
    "# autoreload\n",
    "%load_ext autoreload\n",
    "%autoreload 2"
   ]
  },
  {
   "cell_type": "code",
   "execution_count": null,
   "metadata": {},
   "outputs": [],
   "source": [
    "#Turn off warnings for demo\n",
    "import warnings\n",
    "warnings.filterwarnings('ignore')"
   ]
  },
  {
   "cell_type": "markdown",
   "metadata": {},
   "source": [
    "#### Set options for making science data processing requests to SlideRule"
   ]
  },
  {
   "cell_type": "code",
   "execution_count": null,
   "metadata": {},
   "outputs": [],
   "source": [
    "# set the url for the sliderule service\n",
    "# set the logging level\n",
    "icesat2.init(\"icesat2sliderule.org\", loglevel=logging.WARNING)\n",
    "#icesat2.init(\"icesat2sliderule.org\", verbose=True)\n",
    "\n",
    "# display widgets for setting SlideRule parameters\n",
    "SRwidgets = ipysliderule.widgets()\n",
    "widgets.VBox([\n",
    "    SRwidgets.asset,\n",
    "    SRwidgets.release,\n",
    "    SRwidgets.surface_type,\n",
    "    SRwidgets.length,\n",
    "    SRwidgets.step,\n",
    "    SRwidgets.confidence,\n",
    "    SRwidgets.land_class,\n",
    "    SRwidgets.iteration,\n",
    "    SRwidgets.spread,\n",
    "    SRwidgets.count,\n",
    "    SRwidgets.window,\n",
    "    SRwidgets.sigma,\n",
    "    SRwidgets.projection\n",
    "])"
   ]
  },
  {
   "cell_type": "markdown",
   "metadata": {},
   "source": [
    "#### Select regions of interest for submitting to SlideRule"
   ]
  },
  {
   "cell_type": "code",
   "execution_count": null,
   "metadata": {},
   "outputs": [],
   "source": [
    "# create ipyleaflet map in specified projection\n",
    "m = ipysliderule.leaflet(SRwidgets.projection.value)\n",
    "m.map"
   ]
  },
  {
   "cell_type": "markdown",
   "metadata": {},
   "source": [
    "#### Build and transmit requests to SlideRule"
   ]
  },
  {
   "cell_type": "code",
   "execution_count": null,
   "metadata": {},
   "outputs": [],
   "source": [
    "%%time\n",
    "# sliderule asset and data release\n",
    "asset = SRwidgets.asset.value\n",
    "release = SRwidgets.release.value\n",
    "\n",
    "# build sliderule parameters using latest values from widget\n",
    "parms = {\n",
    "    # surface type: 0-land, 1-ocean, 2-sea ice, 3-land ice, 4-inland water\n",
    "    \"srt\": SRwidgets.surface_type.index,\n",
    "    # length of ATL06-SR segment in meters\n",
    "    \"len\": SRwidgets.length.value,\n",
    "    # step distance for successive ATL06-SR segments in meters\n",
    "    \"res\": SRwidgets.step.value,\n",
    "    # confidence level for PE selection\n",
    "    \"cnf\": SRwidgets.confidence.value,\n",
    "    # ATL08 land surface classifications\n",
    "    \"atl08_class\": list(SRwidgets.land_class.value),\n",
    "    # maximum iterations, not including initial least-squares-fit selection\n",
    "    \"maxi\": SRwidgets.iteration.value,\n",
    "    # minimum along track spread\n",
    "    \"ats\": SRwidgets.spread.value,\n",
    "    # minimum PE count\n",
    "    \"cnt\": SRwidgets.count.value,\n",
    "    # minimum height of PE window in meters\n",
    "    \"H_min_win\": SRwidgets.window.value,\n",
    "    # maximum robust dispersion in meters\n",
    "    \"sigma_r_max\": SRwidgets.sigma.value\n",
    "}\n",
    "\n",
    "# create an empty dataframe\n",
    "gdf = icesat2.__emptyframe()\n",
    "\n",
    "# for each region of interest\n",
    "for poly in m.regions:\n",
    "    # polygon from map\n",
    "    parms[\"poly\"] = poly \n",
    "    # make the request to the SlideRule (ATL06-SR) endpoint\n",
    "    # and pass it the request parameters to request ATL06 Data\n",
    "    gdf = gdf.append(icesat2.atl06p(parms, asset, version=release))"
   ]
  },
  {
   "cell_type": "markdown",
   "metadata": {},
   "source": [
    "#### Review output\n",
    "See http://icesat2sliderule.org/rtd/user_guide/ICESat-2.html#elevations for descriptions of each column"
   ]
  },
  {
   "cell_type": "code",
   "execution_count": null,
   "metadata": {},
   "outputs": [],
   "source": [
    "print(f'Returned {gdf.shape[0]} records')\n",
    "gdf.head()"
   ]
  },
  {
   "cell_type": "code",
   "execution_count": null,
   "metadata": {},
   "outputs": [],
   "source": [
    "import xyzservices.providers as xyz"
   ]
  },
  {
   "cell_type": "code",
   "execution_count": null,
   "metadata": {},
   "outputs": [],
   "source": [
    "def plotcol(gdf, col='h_mean', stride=10):\n",
    "    gdf['datetime'] = gdf.index.strftime('%Y-%m-%d %H:%M:%S UTC')\n",
    "    clim = gdf[col].quantile((0.02, 0.98)).values\n",
    "    m = gdf[::stride].explore(tiles=xyz.Esri.WorldImagery, column=col, cmap='inferno', vmin=clim[0], vmax=clim[1])\n",
    "    return m"
   ]
  },
  {
   "cell_type": "code",
   "execution_count": null,
   "metadata": {},
   "outputs": [],
   "source": [
    "plotcol(gdf, 'h_mean', stride=10)\n",
    "#plotcol(gdf, 'h_sigma')\n",
    "#plotcol(gdf, 'n_fit_photons')"
   ]
  },
  {
   "cell_type": "markdown",
   "metadata": {},
   "source": [
    "#### Create output plots\n",
    "\n",
    "1) Location globally of ground tracks output from SlideRule\n",
    "2) Local map of segment elevations output from SlideRule"
   ]
  },
  {
   "cell_type": "code",
   "execution_count": null,
   "metadata": {},
   "outputs": [],
   "source": [
    "# output map of resource location\n",
    "f1, ax1 = plt.subplots(num=1, nrows=1, ncols=1, figsize=(10,6),\n",
    "    subplot_kw=dict(projection=cartopy.crs.PlateCarree()))\n",
    "ax1.plot(gdf.geometry.x,gdf.geometry.y,'r.',\n",
    "    ms=1,transform=cartopy.crs.Geodetic())\n",
    "ax1.set_extent((-180,180,-90,90),crs=cartopy.crs.PlateCarree())\n",
    "# add coastlines with filled land and lakes\n",
    "ax1.add_feature(cartopy.feature.LAND, zorder=0, edgecolor='black')\n",
    "ax1.add_feature(cartopy.feature.LAKES)\n",
    "ax1.gridlines(xlocs=np.arange(-180.,181.,60.), ylocs=np.arange(-90.,91.,30.))\n",
    "# add title\n",
    "ax1.set_title('Ground Tracks')\n",
    "# stronger linewidth on frame\n",
    "ax1.spines['geo'].set_linewidth(2.0)\n",
    "ax1.spines['geo'].set_capstyle('projecting')\n",
    "# adjust subplot within figure\n",
    "f1.subplots_adjust(left=0.02,right=0.98,bottom=0.05,top=0.98)\n",
    "\n",
    "# output map of heights\n",
    "f2, ax2 = plt.subplots(num=2, nrows=1, ncols=1, figsize=(10,6),\n",
    "    subplot_kw=dict(projection=cartopy.crs.PlateCarree()))\n",
    "# create scatter plot of elevations\n",
    "sc = ax2.scatter(gdf.geometry.x,gdf.geometry.y,\n",
    "    c=gdf.h_mean,s=1,edgecolor='none',cmap=plt.cm.viridis,\n",
    "    transform=cartopy.crs.PlateCarree())\n",
    "# extract latitude and longitude of polygon\n",
    "for poly in m.regions:\n",
    "    lon,lat = io.from_region(poly)\n",
    "    ax2.plot(lon, lat, 'r', lw=1.5, transform=cartopy.crs.PlateCarree())\n",
    "# add coastlines with filled land and lakes\n",
    "ax2.add_feature(cartopy.feature.LAND, zorder=0, edgecolor='black')\n",
    "ax2.add_feature(cartopy.feature.LAKES)\n",
    "#-- Add colorbar axes at position rect [left, bottom, width, height]\n",
    "cbar_ax = f2.add_axes([0.87, 0.015, 0.0325, 0.94])\n",
    "#-- add extension triangles to upper and lower bounds\n",
    "cbar = f2.colorbar(sc, cax=cbar_ax, extend='both', extendfrac=0.0375,\n",
    "    drawedges=False, orientation='vertical')\n",
    "#-- rasterized colorbar to remove lines\n",
    "cbar.solids.set_rasterized(True)\n",
    "#-- Add label to the colorbar and adjust coordinates\n",
    "cbar.ax.set_ylabel('Height above WGS84 Ellipsoid',labelpad=10)\n",
    "cbar.ax.set_xlabel('m', rotation=0)\n",
    "cbar.ax.xaxis.set_label_coords(0.5, 1.05)\n",
    "cbar.ax.tick_params(which='both', width=1, direction='in')\n",
    "# stronger linewidth on frame\n",
    "ax2.spines['geo'].set_linewidth(2.0)\n",
    "ax2.spines['geo'].set_capstyle('projecting')\n",
    "# adjust subplot within figure\n",
    "f2.subplots_adjust(left=0.02,right=0.86,bottom=0.05,top=0.98)\n",
    "# show the figures\n",
    "plt.show()"
   ]
  },
  {
   "cell_type": "markdown",
   "metadata": {},
   "source": [
    "#### Save GeoDataFrame to output tile\n",
    "- [pytables HDF5](https://www.pytables.org/): easily read back as a Geopandas GeoDataFrame\n",
    "- [netCDF](https://www.unidata.ucar.edu/software/netcdf): interoperable with other programs"
   ]
  },
  {
   "cell_type": "code",
   "execution_count": null,
   "metadata": {},
   "outputs": [],
   "source": [
    "display(SRwidgets.filesaver)"
   ]
  },
  {
   "cell_type": "code",
   "execution_count": null,
   "metadata": {},
   "outputs": [],
   "source": [
    "# append sliderule api version to attributes\n",
    "version = icesat2.get_version()\n",
    "parms['version'] = version['icesat2']['version']\n",
    "parms['commit'] = version['icesat2']['commit']\n",
    "# save to file in format (HDF5 or netCDF)\n",
    "io.to_file(gdf, SRwidgets.file,\n",
    "    format=SRwidgets.format,\n",
    "    driver='pytables',\n",
    "    parameters=parms,\n",
    "    regions=m.regions,\n",
    "    verbose=True)"
   ]
  },
  {
   "cell_type": "markdown",
   "metadata": {},
   "source": [
    "#### Read GeoDataFrame from input file\n",
    "- [pytables HDF5](https://www.pytables.org/)\n",
    "- [netCDF](https://www.unidata.ucar.edu/software/netcdf)"
   ]
  },
  {
   "cell_type": "code",
   "execution_count": null,
   "metadata": {},
   "outputs": [],
   "source": [
    "display(SRwidgets.fileloader)"
   ]
  },
  {
   "cell_type": "code",
   "execution_count": null,
   "metadata": {},
   "outputs": [],
   "source": [
    "# read from file in format (HDF5 or netCDF)\n",
    "gdf = io.from_file(SRwidgets.file,\n",
    "    format=SRwidgets.format,\n",
    "    driver='pytables')"
   ]
  },
  {
   "cell_type": "code",
   "execution_count": null,
   "metadata": {},
   "outputs": [],
   "source": [
    "gdf.head()"
   ]
  }
 ],
 "metadata": {
  "interpreter": {
   "hash": "31f2aee4e71d21fbe5cf8b01ff0e069b9275f58929596ceb00d14d90e3e16cd6"
  },
  "kernelspec": {
   "display_name": "Python 3 (ipykernel)",
   "language": "python",
   "name": "python3"
  },
  "language_info": {
   "codemirror_mode": {
    "name": "ipython",
    "version": 3
   },
   "file_extension": ".py",
   "mimetype": "text/x-python",
   "name": "python",
   "nbconvert_exporter": "python",
   "pygments_lexer": "ipython3",
   "version": "3.9.10"
  }
 },
 "nbformat": 4,
 "nbformat_minor": 4
}
