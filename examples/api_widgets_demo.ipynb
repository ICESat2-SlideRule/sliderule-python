{
 "cells": [
  {
   "cell_type": "markdown",
   "source": [
    "### SlideRule API\n",
    "\n",
    "SlideRule is an on-demand science data processing service that runs in the cloud and responds to REST API calls to process and return science results.\n",
    "\n",
    "SlideRule can be accessed by any http client (e.g. curl) by making GET and POST requests to the SlideRule service. For the purposes of this document, all requests to SlideRule will originate from a Python script using Python's requests module.\n",
    "\n",
    "This notebook uses [Jupyter widgets](https://ipywidgets.readthedocs.io) to set parameters for using the SlideRule API.\n",
    "Regions of interest for submitting to SlideRule are drawn on a [leaflet](https://ipyleaflet.readthedocs.io) map.  Multiple polygons can be submitted at a given time."
   ],
   "metadata": {}
  },
  {
   "cell_type": "markdown",
   "source": [
    "#### Load necessary packages"
   ],
   "metadata": {}
  },
  {
   "cell_type": "code",
   "execution_count": null,
   "source": [
    "from sliderule import icesat2, ipysliderule, io\n",
    "import time\n",
    "import numpy as np\n",
    "import matplotlib.pyplot as plt\n",
    "import cartopy\n",
    "import ipywidgets as widgets\n",
    "# autoreload\n",
    "%load_ext autoreload\n",
    "%autoreload 2"
   ],
   "outputs": [],
   "metadata": {}
  },
  {
   "cell_type": "markdown",
   "source": [
    "#### Set options for making science data processing requests to SlideRule"
   ],
   "metadata": {}
  },
  {
   "cell_type": "code",
   "execution_count": null,
   "source": [
    "# set the url for the sliderule service.\n",
    "icesat2.init(\"icesat2sliderule.org\", False)\n",
    "\n",
    "# display widgets for setting SlideRule parameters\n",
    "SRwidgets = ipysliderule.widgets()\n",
    "widgets.VBox([\n",
    "    SRwidgets.asset,\n",
    "    SRwidgets.release,\n",
    "    SRwidgets.surface_type,\n",
    "    SRwidgets.length,\n",
    "    SRwidgets.step,\n",
    "    SRwidgets.confidence,\n",
    "    SRwidgets.land_class,\n",
    "    SRwidgets.iteration,\n",
    "    SRwidgets.spread,\n",
    "    SRwidgets.count,\n",
    "    SRwidgets.window,\n",
    "    SRwidgets.sigma,\n",
    "    SRwidgets.projection\n",
    "])"
   ],
   "outputs": [],
   "metadata": {}
  },
  {
   "cell_type": "markdown",
   "source": [
    "#### Select regions of interest for submitting to SlideRule"
   ],
   "metadata": {}
  },
  {
   "cell_type": "code",
   "execution_count": null,
   "source": [
    "# create ipyleaflet map in projection\n",
    "m = ipysliderule.leaflet(SRwidgets.projection.value)\n",
    "m.map"
   ],
   "outputs": [],
   "metadata": {}
  },
  {
   "cell_type": "markdown",
   "source": [
    "#### Build and transmit requests to SlideRule"
   ],
   "metadata": {}
  },
  {
   "cell_type": "code",
   "execution_count": null,
   "source": [
    "# sliderule asset and data release\n",
    "asset = SRwidgets.asset.value\n",
    "release = SRwidgets.release.value\n",
    "# get sliderule submission time\n",
    "submission_time = time.strftime('%Y%m%d%H%M%S',time.gmtime())\n",
    "\n",
    "# create an empty dataframe\n",
    "gdf = icesat2.__emptyframe()\n",
    "# for each region of interest\n",
    "for poly in m.regions:\n",
    "    # build sliderule parameters\n",
    "    parms = {\n",
    "        # polygon from map\n",
    "        \"poly\": poly,\n",
    "        # surface type: 0-land, 1-ocean, 2-sea ice, 3-land ice, 4-inland water\n",
    "        \"srt\": SRwidgets.surface_type.index,\n",
    "        # length of ATL06-SR segment in meters\n",
    "        \"len\": SRwidgets.length.value,\n",
    "        # step distance for successive ATL06-SR segments in meters\n",
    "        \"res\": SRwidgets.step.value,\n",
    "        # confidence level for PE selection\n",
    "        \"cnf\": SRwidgets.confidence.value,\n",
    "        # ATL08 land surface classifications\n",
    "        \"atl08_class\": list(SRwidgets.land_class.value),\n",
    "        # maximum iterations, not including initial least-squares-fit selection\n",
    "        \"maxi\": SRwidgets.iteration.value,\n",
    "        # minimum along track spread\n",
    "        \"ats\": SRwidgets.spread.value,\n",
    "        # minimum PE count\n",
    "        \"cnt\": SRwidgets.count.value,\n",
    "        # minimum height of PE window in meters\n",
    "        \"H_min_win\": SRwidgets.window.value,\n",
    "        # maximum robust dispersion in meters\n",
    "        \"sigma_r_max\": SRwidgets.sigma.value\n",
    "    }\n",
    "    # make the request to the SlideRule (ATL06-SR) endpoint\n",
    "    # and pass it the request parameters to request ATL06 Data\n",
    "    gdf = gdf.append(icesat2.atl06p(parms, asset, version=release))"
   ],
   "outputs": [],
   "metadata": {}
  },
  {
   "cell_type": "markdown",
   "source": [
    "#### Create output plots\n",
    "\n",
    "1) Location globally of ground tracks output from SlideRule\n",
    "2) Local map of segment elevations output from SlideRule"
   ],
   "metadata": {}
  },
  {
   "cell_type": "code",
   "execution_count": null,
   "source": [
    "# output map of resource location\n",
    "f1, ax1 = plt.subplots(num=1, nrows=1, ncols=1, figsize=(10,6),\n",
    "    subplot_kw=dict(projection=cartopy.crs.PlateCarree()))\n",
    "ax1.plot(gdf.geometry.values.x,gdf.geometry.values.y,'r.',\n",
    "    ms=1,transform=cartopy.crs.Geodetic())\n",
    "ax1.set_extent((-180,180,-90,90),crs=cartopy.crs.PlateCarree())\n",
    "# add coastlines with filled land and lakes\n",
    "ax1.add_feature(cartopy.feature.LAND, zorder=0, edgecolor='black')\n",
    "ax1.add_feature(cartopy.feature.LAKES)\n",
    "ax1.gridlines(xlocs=np.arange(-180.,181.,60.), ylocs=np.arange(-90.,91.,30.))\n",
    "# add title\n",
    "ax1.set_title('Ground Tracks')\n",
    "# stronger linewidth on frame\n",
    "ax1.spines['geo'].set_linewidth(2.0)\n",
    "ax1.spines['geo'].set_capstyle('projecting')\n",
    "# adjust subplot within figure\n",
    "f1.subplots_adjust(left=0.02,right=0.98,bottom=0.05,top=0.98)\n",
    "\n",
    "# output map of heights\n",
    "f2, ax2 = plt.subplots(num=2, nrows=1, ncols=1, figsize=(10,6),\n",
    "    subplot_kw=dict(projection=cartopy.crs.PlateCarree()))\n",
    "# create scatter plot of elevations\n",
    "sc = ax2.scatter(gdf.geometry.values.x,gdf.geometry.values.y,\n",
    "    c=gdf.h_mean,s=1,edgecolor='none',cmap=plt.cm.viridis,\n",
    "    transform=cartopy.crs.PlateCarree())\n",
    "# extract latitude and longitude of polygon\n",
    "for poly in m.regions:\n",
    "    lon,lat = ipysliderule.coordinates(poly)\n",
    "    ax2.plot(lon, lat, 'r', lw=1.5, transform=cartopy.crs.PlateCarree())\n",
    "# add coastlines with filled land and lakes\n",
    "ax2.add_feature(cartopy.feature.LAND, zorder=0, edgecolor='black')\n",
    "ax2.add_feature(cartopy.feature.LAKES)\n",
    "#-- Add colorbar axes at position rect [left, bottom, width, height]\n",
    "cbar_ax = f2.add_axes([0.87, 0.015, 0.0325, 0.94])\n",
    "#-- add extension triangles to upper and lower bounds\n",
    "cbar = f2.colorbar(sc, cax=cbar_ax, extend='both', extendfrac=0.0375,\n",
    "    drawedges=False, orientation='vertical')\n",
    "#-- rasterized colorbar to remove lines\n",
    "cbar.solids.set_rasterized(True)\n",
    "#-- Add label to the colorbar and adjust coordinates\n",
    "cbar.ax.set_ylabel('Height above WGS84 Ellipsoid',labelpad=10)\n",
    "cbar.ax.set_xlabel('m', rotation=0)\n",
    "cbar.ax.xaxis.set_label_coords(0.5, 1.05)\n",
    "cbar.ax.tick_params(which='both', width=1, direction='in')\n",
    "# stronger linewidth on frame\n",
    "ax2.spines['geo'].set_linewidth(2.0)\n",
    "ax2.spines['geo'].set_capstyle('projecting')\n",
    "# adjust subplot within figure\n",
    "f2.subplots_adjust(left=0.02,right=0.86,bottom=0.05,top=0.98)\n",
    "# show the figures\n",
    "plt.show()"
   ],
   "outputs": [],
   "metadata": {}
  },
  {
   "cell_type": "markdown",
   "source": [
    "#### Save GeoDataFrame to HDF5\n",
    "Outputs as a [pytables](https://www.pytables.org/) HDF5 which is easily read back as a Geopandas GeoDataFrame"
   ],
   "metadata": {}
  },
  {
   "cell_type": "code",
   "execution_count": null,
   "source": [
    "args = (submission_time,release)\n",
    "io.to_file(gdf,\"ATL06-SR_{0}_{1}.h5\".format(*args),\n",
    "    format='hdf', parameters=parms, regions=m.regions, verbose=True)"
   ],
   "outputs": [],
   "metadata": {}
  },
  {
   "cell_type": "markdown",
   "source": [
    "#### Read GeoDataFrame from HDF5\n",
    "Read the HDF5 back as a Geopandas GeoDataFrame for later use"
   ],
   "metadata": {}
  },
  {
   "cell_type": "code",
   "execution_count": null,
   "source": [
    "args = (submission_time,release)\n",
    "gdf = io.from_file(\"ATL06-SR_{0}_{1}.h5\".format(*args),format='hdf')"
   ],
   "outputs": [],
   "metadata": {}
  }
 ],
 "metadata": {
  "kernelspec": {
   "name": "python3",
   "display_name": "Python 3.8.10 64-bit"
  },
  "language_info": {
   "codemirror_mode": {
    "name": "ipython",
    "version": 3
   },
   "file_extension": ".py",
   "mimetype": "text/x-python",
   "name": "python",
   "nbconvert_exporter": "python",
   "pygments_lexer": "ipython3",
   "version": "3.8.10"
  },
  "interpreter": {
   "hash": "31f2aee4e71d21fbe5cf8b01ff0e069b9275f58929596ceb00d14d90e3e16cd6"
  }
 },
 "nbformat": 4,
 "nbformat_minor": 4
}