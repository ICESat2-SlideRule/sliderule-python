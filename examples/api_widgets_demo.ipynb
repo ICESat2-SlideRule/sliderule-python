{
 "cells": [
  {
   "cell_type": "markdown",
   "metadata": {},
   "source": [
    "# SlideRule API: Interactive Widget\n",
    "\n",
    "SlideRule is an on-demand science data processing service that runs in the cloud and responds to REST API calls to process and return science results.\n",
    "\n",
    "SlideRule can be accessed by any http client (e.g. curl) by making GET and POST requests to the SlideRule service. For the purposes of this document, all requests to SlideRule will originate from a Python script using Python's requests module.\n",
    "\n",
    "This notebook uses [Jupyter widgets](https://ipywidgets.readthedocs.io) to set parameters for using the SlideRule API.\n",
    "Regions of interest for submitting to SlideRule are drawn on a [leaflet](https://ipyleaflet.readthedocs.io) map.  Multiple polygons can be submitted at a given time."
   ]
  },
  {
   "cell_type": "markdown",
   "metadata": {},
   "source": [
    "#### Load necessary packages"
   ]
  },
  {
   "cell_type": "code",
   "execution_count": null,
   "metadata": {},
   "outputs": [],
   "source": [
    "from sliderule import icesat2, ipysliderule, io\n",
    "import ipywidgets as widgets\n",
    "import logging\n",
    "import warnings\n",
    "# autoreload\n",
    "%load_ext autoreload\n",
    "%autoreload 2\n",
    "# turn off warnings for demo\n",
    "warnings.filterwarnings('ignore')"
   ]
  },
  {
   "cell_type": "markdown",
   "metadata": {},
   "source": [
    "#### Set options for making science data processing requests to SlideRule"
   ]
  },
  {
   "cell_type": "code",
   "execution_count": null,
   "metadata": {},
   "outputs": [],
   "source": [
    "# set the url for the sliderule service\n",
    "# set the logging level\n",
    "icesat2.init(\"icesat2sliderule.org\", loglevel=logging.WARNING)"
   ]
  },
  {
   "cell_type": "code",
   "execution_count": null,
   "metadata": {},
   "outputs": [],
   "source": [
    "# display widgets for setting SlideRule parameters\n",
    "SRwidgets = ipysliderule.widgets()\n",
    "widgets.VBox([\n",
    "    SRwidgets.asset,\n",
    "    SRwidgets.release,\n",
    "    SRwidgets.surface_type,\n",
    "    SRwidgets.length,\n",
    "    SRwidgets.step,\n",
    "    SRwidgets.confidence,\n",
    "    SRwidgets.land_class,\n",
    "    SRwidgets.iteration,\n",
    "    SRwidgets.spread,\n",
    "    SRwidgets.count,\n",
    "    SRwidgets.window,\n",
    "    SRwidgets.sigma,\n",
    "    SRwidgets.projection\n",
    "])"
   ]
  },
  {
   "cell_type": "markdown",
   "metadata": {},
   "source": [
    "#### Select regions of interest for submitting to SlideRule"
   ]
  },
  {
   "cell_type": "code",
   "execution_count": null,
   "metadata": {},
   "outputs": [],
   "source": [
    "# create ipyleaflet map in specified projection\n",
    "m = ipysliderule.leaflet(SRwidgets.projection.value)\n",
    "m.map"
   ]
  },
  {
   "cell_type": "markdown",
   "metadata": {},
   "source": [
    "#### Build and transmit requests to SlideRule"
   ]
  },
  {
   "cell_type": "code",
   "execution_count": null,
   "metadata": {},
   "outputs": [],
   "source": [
    "%%time\n",
    "# sliderule asset and data release\n",
    "asset = SRwidgets.asset.value\n",
    "release = SRwidgets.release.value\n",
    "\n",
    "# build sliderule parameters using latest values from widget\n",
    "parms = {\n",
    "    # surface type: 0-land, 1-ocean, 2-sea ice, 3-land ice, 4-inland water\n",
    "    \"srt\": SRwidgets.surface_type.index,\n",
    "    # length of ATL06-SR segment in meters\n",
    "    \"len\": SRwidgets.length.value,\n",
    "    # step distance for successive ATL06-SR segments in meters\n",
    "    \"res\": SRwidgets.step.value,\n",
    "    # confidence level for PE selection\n",
    "    \"cnf\": SRwidgets.confidence.value,\n",
    "    # ATL08 land surface classifications\n",
    "    \"atl08_class\": list(SRwidgets.land_class.value),\n",
    "    # maximum iterations, not including initial least-squares-fit selection\n",
    "    \"maxi\": SRwidgets.iteration.value,\n",
    "    # minimum along track spread\n",
    "    \"ats\": SRwidgets.spread.value,\n",
    "    # minimum PE count\n",
    "    \"cnt\": SRwidgets.count.value,\n",
    "    # minimum height of PE window in meters\n",
    "    \"H_min_win\": SRwidgets.window.value,\n",
    "    # maximum robust dispersion in meters\n",
    "    \"sigma_r_max\": SRwidgets.sigma.value\n",
    "}\n",
    "\n",
    "# create an empty geodataframe\n",
    "gdf = icesat2.__emptyframe()\n",
    "\n",
    "# for each region of interest\n",
    "for poly in m.regions:\n",
    "    # add polygon from map to sliderule parameters\n",
    "    parms[\"poly\"] = poly \n",
    "    # make the request to the SlideRule (ATL06-SR) endpoint\n",
    "    # and pass it the request parameters to request ATL06 Data\n",
    "    gdf = gdf.append(icesat2.atl06p(parms, asset, version=release))"
   ]
  },
  {
   "cell_type": "markdown",
   "metadata": {},
   "source": [
    "#### Review output\n",
    "See http://icesat2sliderule.org/rtd/user_guide/ICESat-2.html#elevations for descriptions of each column"
   ]
  },
  {
   "cell_type": "code",
   "execution_count": null,
   "metadata": {},
   "outputs": [],
   "source": [
    "print(f'Returned {gdf.shape[0]} records')\n",
    "gdf.head()"
   ]
  },
  {
   "cell_type": "markdown",
   "metadata": {},
   "source": [
    "#### Add Height Data to Map"
   ]
  },
  {
   "cell_type": "code",
   "execution_count": null,
   "metadata": {},
   "outputs": [],
   "source": [
    "m.GeoData(gdf, column_name='h_mean', cmap='viridis')"
   ]
  },
  {
   "cell_type": "markdown",
   "metadata": {},
   "source": [
    "#### Save GeoDataFrame to output tile\n",
    "- [pytables HDF5](https://www.pytables.org/): easily read back as a Geopandas GeoDataFrame\n",
    "- [netCDF](https://www.unidata.ucar.edu/software/netcdf): interoperable with other programs"
   ]
  },
  {
   "cell_type": "code",
   "execution_count": null,
   "metadata": {},
   "outputs": [],
   "source": [
    "display(SRwidgets.filesaver)"
   ]
  },
  {
   "cell_type": "code",
   "execution_count": null,
   "metadata": {},
   "outputs": [],
   "source": [
    "# append sliderule api version to attributes\n",
    "version = icesat2.get_version()\n",
    "parms['version'] = version['icesat2']['version']\n",
    "parms['commit'] = version['icesat2']['commit']\n",
    "# save to file in format (HDF5 or netCDF)\n",
    "io.to_file(gdf, SRwidgets.file,\n",
    "    format=SRwidgets.format,\n",
    "    driver='pytables',\n",
    "    parameters=parms,\n",
    "    regions=m.regions,\n",
    "    verbose=True)"
   ]
  },
  {
   "cell_type": "markdown",
   "metadata": {},
   "source": [
    "#### Read GeoDataFrame from input file\n",
    "- [pytables HDF5](https://www.pytables.org/)\n",
    "- [netCDF](https://www.unidata.ucar.edu/software/netcdf)"
   ]
  },
  {
   "cell_type": "code",
   "execution_count": null,
   "metadata": {},
   "outputs": [],
   "source": [
    "display(SRwidgets.fileloader)"
   ]
  },
  {
   "cell_type": "code",
   "execution_count": null,
   "metadata": {},
   "outputs": [],
   "source": [
    "# read from file in format (HDF5 or netCDF)\n",
    "gdf = io.from_file(SRwidgets.file,\n",
    "    format=SRwidgets.format,\n",
    "    driver='pytables')"
   ]
  },
  {
   "cell_type": "code",
   "execution_count": null,
   "metadata": {},
   "outputs": [],
   "source": [
    "gdf.head()"
   ]
  }
 ],
 "metadata": {
  "interpreter": {
   "hash": "31f2aee4e71d21fbe5cf8b01ff0e069b9275f58929596ceb00d14d90e3e16cd6"
  },
  "kernelspec": {
   "display_name": "Python 3 (ipykernel)",
   "language": "python",
   "name": "python3"
  },
  "language_info": {
   "codemirror_mode": {
    "name": "ipython",
    "version": 3
   },
   "file_extension": ".py",
   "mimetype": "text/x-python",
   "name": "python",
   "nbconvert_exporter": "python",
   "pygments_lexer": "ipython3",
   "version": "3.8.10"
  }
 },
 "nbformat": 4,
 "nbformat_minor": 4
}
