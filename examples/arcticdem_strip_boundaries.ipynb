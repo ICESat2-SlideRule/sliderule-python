{
 "cells": [
  {
   "cell_type": "markdown",
   "id": "bd51a330-73c7-494a-b3d9-3f6f07935604",
   "metadata": {},
   "source": [
    "## ArcticDEM Strips Example\n",
    "\n",
    "### Purpose\n",
    "Demonstrate how to work with individual strips when sampling ArcticDEM at ATL06-SR points\n",
    "\n",
    "### Prerequisites\n",
    "Access to the PGC S3 bucket `pgc-opendata-dems`"
   ]
  },
  {
   "cell_type": "code",
   "execution_count": null,
   "id": "1f9ffe97-2292-4a2c-8f7b-166e5c6fd0c1",
   "metadata": {},
   "outputs": [],
   "source": [
    "#\n",
    "# Import Packages\n",
    "#\n",
    "import sliderule\n",
    "from sliderule import icesat2\n",
    "import matplotlib\n",
    "import matplotlib.pyplot as plt\n",
    "import pandas as pd\n",
    "import numpy as np\n",
    "import pyproj\n",
    "import re\n",
    "import os"
   ]
  },
  {
   "cell_type": "code",
   "execution_count": null,
   "id": "40f78a59-01d4-4959-83c8-e6eca4b8e9cf",
   "metadata": {},
   "outputs": [],
   "source": [
    "#\n",
    "# Initialize Python Client\n",
    "#\n",
    "icesat2.init(\"slideruleearth.io\", verbose=True)"
   ]
  },
  {
   "cell_type": "code",
   "execution_count": null,
   "id": "78db0877-2ba9-4e8f-ba2e-a07e4de491ca",
   "metadata": {},
   "outputs": [],
   "source": [
    "#\n",
    "#  Build Region of Interest\n",
    "#\n",
    "xy0=np.array([  -73000., -2683000.])\n",
    "transformer = pyproj.Transformer.from_crs(3413, 4326)\n",
    "xyB=[xy0[0]+np.array([-1, 1, 1, -1, -1])*1.e4, xy0[1]+np.array([-1, -1, 1, 1, -1])*1.e4]\n",
    "llB=transformer.transform(*xyB)\n",
    "poly=[{'lat':lat,'lon':lon} for lat, lon in zip(*llB)]\n",
    "plist = []\n",
    "for p in poly:\n",
    "    plist += p[\"lat\"], \n",
    "    plist += p[\"lon\"],\n",
    "region_of_interest = sliderule.toregion(plist)\n",
    "region_of_interest[\"gdf\"].plot()"
   ]
  },
  {
   "cell_type": "code",
   "execution_count": null,
   "id": "fb20da62-584a-4bbd-82ef-ec7061265907",
   "metadata": {},
   "outputs": [],
   "source": [
    "#\n",
    "# Make Processing Request\n",
    "#\n",
    "parms = { \"poly\": region_of_interest[\"poly\"],\n",
    "          \"cnf\": \"atl03_high\",\n",
    "          \"ats\": 10.0,\n",
    "          \"cnt\": 5,\n",
    "          \"len\": 40.0,\n",
    "          \"res\": 120.0,\n",
    "          \"maxi\": 5,\n",
    "          \"rgt\": 658,\n",
    "          \"time_start\":'2020-01-01',\n",
    "          \"time_end\":'2021-01-01',\n",
    "          \"samples\": {\"strips\": {\"asset\": \"arcticdem-strips\", \"with_flags\": True}} }\n",
    "gdf = icesat2.atl06p(parms, asset=\"nsidc-s3\")"
   ]
  },
  {
   "cell_type": "code",
   "execution_count": null,
   "id": "b815e8d8-c71a-4305-8649-fa4e95b64325",
   "metadata": {
    "tags": []
   },
   "outputs": [],
   "source": [
    "#\n",
    "# Set DEM of Interest\n",
    "#\n",
    "gdf.attrs['file_directory']"
   ]
  },
  {
   "cell_type": "code",
   "execution_count": null,
   "id": "06258dd1-cbb6-4666-9fc4-c37cbd94781d",
   "metadata": {
    "tags": []
   },
   "outputs": [],
   "source": [
    "#\n",
    "# Functions to Pull Out Bounding Box of Raster\n",
    "#\n",
    "def getXY(line):\n",
    "    line = line.replace(\"(\",\"$\")\n",
    "    line = line.replace(\")\",\"$\")\n",
    "    point = line.split(\"$\")[1]\n",
    "    coord = point.split(\",\")\n",
    "    x = float(coord[0].strip())\n",
    "    y = float(coord[1].strip())\n",
    "    return x, y\n",
    "\n",
    "def getLonLat(line):\n",
    "    line = line.replace(\"(\",\"$\")\n",
    "    line = line.replace(\")\",\"$\")\n",
    "    point = line.split(\"$\")[3]\n",
    "    coord = point.split(\",\")\n",
    "    deg, minutes, seconds, direction = re.split('[d\\'\"]', coord[1].strip())\n",
    "    lon = (float(deg) + float(minutes)/60 + float(seconds)/(60*60)) * (-1 if direction in ['W', 'S'] else 1)\n",
    "    deg, minutes, seconds, direction = re.split('[d\\'\"]', coord[0].strip())\n",
    "    lat = (float(deg) + float(minutes)/60 + float(seconds)/(60*60)) * (-1 if direction in ['W', 'S'] else 1)\n",
    "    return [lon, lat]\n",
    "\n",
    "def getBB(dem):\n",
    "    os.system(\"gdalinfo /vsis3/{} > /tmp/r.txt\".format(dem))\n",
    "    with open(\"/tmp/r.txt\", \"r\") as file:\n",
    "        lines = file.readlines()\n",
    "        for line in lines:\n",
    "            if \"Upper Left\" in line:\n",
    "                ul = getLonLat(line)\n",
    "            elif \"Lower Left\" in line:\n",
    "                ll = getLonLat(line)\n",
    "            elif \"Upper Right\" in line:\n",
    "                ur = getLonLat(line)\n",
    "            elif \"Lower Right\" in line:\n",
    "                lr = getLonLat(line)\n",
    "    return ul + ll + lr + ur + ul\n",
    "\n",
    "#\n",
    "# Get Boundaries for each Raster\n",
    "#\n",
    "p0 = 132\n",
    "p1 = 148\n",
    "raster_of_interest = {}\n",
    "for i in list(gdf.attrs['file_directory'].keys())[p0:p1]:\n",
    "    print(\"Retrieving raster info for:\", gdf.attrs['file_directory'][i])\n",
    "    rlist = getBB(gdf.attrs['file_directory'][i])\n",
    "    raster_of_interest[\"dem\"+str(i)] = sliderule.toregion(rlist)"
   ]
  },
  {
   "cell_type": "code",
   "execution_count": null,
   "id": "78948451-e3e3-4002-becd-c6ea040de21c",
   "metadata": {
    "tags": []
   },
   "outputs": [],
   "source": [
    "#\n",
    "# Pull Out DEM Values\n",
    "#\n",
    "def getValue(x, file_id):\n",
    "    l = np.where(x['strips.file_id'] == file_id)[0]\n",
    "    if len(l) == 1:\n",
    "        return x['strips.value'][l[0]]\n",
    "    else:\n",
    "        return None\n",
    "sampled_data = gdf[gdf['strips.time'].notnull()]\n",
    "for i in list(gdf.attrs['file_directory'].keys())[p0:p1]:\n",
    "    sampled_data[\"dem\"+str(i)] = sampled_data.apply(lambda x: getValue(x, i), axis=1)"
   ]
  },
  {
   "cell_type": "code",
   "execution_count": null,
   "id": "f23a3827-93b6-47cb-9842-8f8269e0a871",
   "metadata": {},
   "outputs": [],
   "source": [
    "#\n",
    "# Plot Overlays of Boundaries and Returns\n",
    "#\n",
    "fig = plt.figure(num=None, figsize=(24, 24))\n",
    "region_lons = [p[\"lon\"] for p in region_of_interest[\"poly\"]]\n",
    "region_lats = [p[\"lat\"] for p in region_of_interest[\"poly\"]]\n",
    "ax = {}\n",
    "k = 0\n",
    "for i in list(gdf.attrs['file_directory'].keys())[p0:p1]:\n",
    "    raster_lons = [p[\"lon\"] for p in raster_of_interest[\"dem\"+str(i)][\"poly\"]]\n",
    "    raster_lats = [p[\"lat\"] for p in raster_of_interest[\"dem\"+str(i)][\"poly\"]]\n",
    "    plot_data = sampled_data[sampled_data[\"dem\"+str(i)].notnull()]\n",
    "    plot_data = sampled_data[sampled_data[\"dem\"+str(i)] > -9990]\n",
    "    ax[k] = plt.subplot(5,4,k+1)\n",
    "    gdf.plot(ax=ax[k], column='h_mean', color='y', markersize=0.5)\n",
    "    plot_data.plot(ax=ax[k], column='h_mean', color='b', markersize=0.5)\n",
    "    ax[k].plot(region_lons, region_lats, linewidth=1.5, color='r', zorder=2)\n",
    "    ax[k].plot(raster_lons, raster_lats, linewidth=1.5, color='g', zorder=2)\n",
    "    k += 1\n",
    "plt.tight_layout()"
   ]
  },
  {
   "cell_type": "code",
   "execution_count": null,
   "id": "d904facf-b4b0-4651-aa0f-66cdccd44d49",
   "metadata": {},
   "outputs": [],
   "source": [
    "#\n",
    "# Plot the Different ArcticDEM Values against the SlideRule ATL06-SR Values\n",
    "#\n",
    "\n",
    "######################\n",
    "# Select DEM File ID #\n",
    "######################\n",
    "file_id = list(gdf.attrs['file_directory'].keys())[p0]\n",
    "\n",
    "# Setup Plot\n",
    "fig,ax = plt.subplots(num=None, figsize=(10, 8))\n",
    "ax.set_title(\"SlideRule vs. ArcticDEM Elevations\")\n",
    "ax.set_xlabel('distance (m)')\n",
    "ax.set_ylabel('height (m)')\n",
    "legend_elements = []\n",
    "\n",
    "# Filter Data to Plot\n",
    "plot_data = sampled_data[sampled_data[\"dem\"+str(file_id)].notnull()]\n",
    "plot_data = sampled_data[sampled_data[\"dem\"+str(file_id)] > -9990]\n",
    "\n",
    "# Set X Axis\n",
    "x_axis = plot_data[\"distance\"]\n",
    "\n",
    "# Plot SlideRule ATL06 Elevations\n",
    "sc1 = ax.scatter(x_axis, plot_data[\"h_mean\"].values, c='red', s=2.5)\n",
    "legend_elements.append(matplotlib.lines.Line2D([0], [0], color='red', lw=6, label='ATL06-SR'))\n",
    "\n",
    "# Plot ArcticDEM Elevations\n",
    "sc2 = ax.scatter(x_axis, plot_data[\"dem\"+str(file_id)].values, c='blue', s=2.5)\n",
    "legend_elements.append(matplotlib.lines.Line2D([0], [0], color='blue', lw=6, label='ArcticDEM'))\n",
    "\n",
    "# Display Legend\n",
    "lgd = ax.legend(handles=legend_elements, loc=3, frameon=True)\n",
    "lgd.get_frame().set_alpha(1.0)\n",
    "lgd.get_frame().set_edgecolor('white')\n",
    "\n",
    "# Show Plot\n",
    "plt.show()"
   ]
  },
  {
   "cell_type": "code",
   "execution_count": null,
   "id": "00ce06d8-57aa-4523-87d0-a6504970e494",
   "metadata": {},
   "outputs": [],
   "source": []
  }
 ],
 "metadata": {
  "kernelspec": {
   "display_name": "Python 3 (ipykernel)",
   "language": "python",
   "name": "python3"
  },
  "language_info": {
   "codemirror_mode": {
    "name": "ipython",
    "version": 3
   },
   "file_extension": ".py",
   "mimetype": "text/x-python",
   "name": "python",
   "nbconvert_exporter": "python",
   "pygments_lexer": "ipython3",
   "version": "3.11.0"
  }
 },
 "nbformat": 4,
 "nbformat_minor": 5
}
