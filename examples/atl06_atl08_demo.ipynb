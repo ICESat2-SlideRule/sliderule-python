{
 "cells": [
  {
   "cell_type": "markdown",
   "metadata": {},
   "source": [
    "# SlideRule: Interactive Tutorial\n",
    "## Combining ICESat-2 ATL06 and ATL08 with Landsat outputs\n",
    "\n",
    "Demonstrates the use of the SlideRule science data processing service for ICESat-2 applications\n",
    "\n",
    "### See examples, documentation and more at [slideruleearth.io](https://slideruleearth.io/)"
   ]
  },
  {
   "cell_type": "markdown",
   "metadata": {},
   "source": [
    "### SlideRule APIs\n",
    "\n",
    "- `sliderule` - the core module\n",
    "- `earthdata` - functions that access CMR (NASA's Common Metadata Repository)\n",
    "- `h5` - APIs for directly reading HDF5 and NetCD4 data\n",
    "- `raster` - APIs for sampling supported raster datasets\n",
    "- `icesat2` - APIs for processing ICESat-2 data\n",
    "- `gedi` - APIs for processing GEDI data\n",
    "- `io` - functions for reading and writing local files with SlideRule results\n",
    "- `ipysliderule` - functions for building interactive Jupyter notebooks that interface to SlideRule\n",
    "\n",
    "### Import and Configure SlideRule"
   ]
  },
  {
   "cell_type": "code",
   "execution_count": null,
   "metadata": {
    "tags": []
   },
   "outputs": [],
   "source": [
    "import warnings\n",
    "import geopandas\n",
    "import ipyleaflet\n",
    "import matplotlib.pyplot as plt\n",
    "from sliderule import earthdata, icesat2, ipysliderule, io, sliderule\n",
    "warnings.filterwarnings('ignore') # turn off warnings for demo\n",
    "\n",
    "# set the url for the sliderule service\n",
    "icesat2.init(\"slideruleearth.io\")"
   ]
  },
  {
   "cell_type": "markdown",
   "metadata": {},
   "source": [
    "### Set options for making science data processing requests to SlideRule\n",
    "\n",
    "SlideRule ICESat-2 APIs follow streamlined versions of the [ATL06 land ice height](https://nsidc.org/sites/default/files/documents/technical-reference/icesat2_atl03_atbd_v006.pdf) and [ATL08 land and vegetation height](https://nsidc.org/sites/default/files/documents/technical-reference/icesat2_atl08_atbd_v006_0.pdf) algorithms.\n",
    "\n",
    "SlideRule can use different sources for photon classification before calculating the average segment height.  \n",
    "This is useful for example, in cases where there may be a vegetated canopy affecting the spread of the photon returns.\n",
    "- ATL03 photon confidence values, based on algorithm-specific classification types for land, ocean, sea-ice, land-ice, or inland water\n",
    "- [ATL08 land and vegetation](https://nsidc.org/data/atl08) photon classification\n",
    "- YAPC (Yet Another Photon Classification) photon-density-based classification"
   ]
  },
  {
   "cell_type": "code",
   "execution_count": null,
   "metadata": {
    "tags": []
   },
   "outputs": [],
   "source": [
    "# display widgets for setting SlideRule parameters\n",
    "SRwidgets = ipysliderule.widgets()\n",
    "SRwidgets.set_atl08_defaults()\n",
    "SRwidgets.VBox(SRwidgets.atl08())"
   ]
  },
  {
   "cell_type": "markdown",
   "metadata": {},
   "source": [
    "### Select regions of interest for submitting to SlideRule\n",
    "\n",
    "Create polygons or bounding boxes to set our regions of interest.  \n",
    "This map is also our viewer for inspecting our SlideRule ICESat-2 data returns."
   ]
  },
  {
   "cell_type": "code",
   "execution_count": null,
   "metadata": {
    "tags": []
   },
   "outputs": [],
   "source": [
    "# create ipyleaflet map in specified projection\n",
    "m = ipysliderule.leaflet('Global', center=(39, -108), zoom=11)\n",
    "SRwidgets.variable.options = ['h_mean', 'h_sigma', 'h_canopy',\n",
    "    'h_min_canopy', 'h_mean_canopy', 'h_max_canopy',\n",
    "    'canopy_openness', 'h_te_median',\n",
    "    'landcover', 'snowcover', 'solar_elevation',\n",
    "    'dh_fit_dx', 'dh_fit_dy', 'rms_misfit',\n",
    "    'w_surface_window_final', 'landsat.value',\n",
    "    'delta_time', 'cycle', 'rgt']\n",
    "plot_controls = SRwidgets.VBox([SRwidgets.variable,SRwidgets.cmap,SRwidgets.reverse])\n",
    "widget_control = ipyleaflet.WidgetControl(widget=plot_controls, position='bottomright')\n",
    "m.map.add(widget_control)\n",
    "m.map"
   ]
  },
  {
   "cell_type": "markdown",
   "metadata": {},
   "source": [
    "### Build and transmit requests to SlideRule\n",
    "\n",
    "- SlideRule will query the [NASA Common Metadata Repository (CMR)](https://cmr.earthdata.nasa.gov/) for ATL03 data within our region of interest\n",
    "- ICESat-2 ATL03 data are then accessed from the NSIDC AWS s3 bucket in `us-west-2`\n",
    "- The ATL03 granules is spatially subset within SlideRule to our exact region of interest\n",
    "- SlideRule then uses our specified parameters to calculate average height segments from the ATL03 data in parallel\n",
    "- The completed data is streamed concurrently back and combined into a `geopandas` `GeoDataFrame` within the Python client"
   ]
  },
  {
   "cell_type": "code",
   "execution_count": null,
   "metadata": {
    "tags": []
   },
   "outputs": [],
   "source": [
    "%%time\n",
    "# build sliderule parameters using latest values from widget\n",
    "atl08_parms = SRwidgets.build_atl08()\n",
    "\n",
    "# add a sampling request to access Landsat data\n",
    "samples = {\n",
    "    \"landsat\": {\n",
    "        \"asset\": \"landsat-hls\",\n",
    "        \"closest_time\": \"2022-01-05T00:00:00Z\", \n",
    "        \"bands\": [\"NDVI\"]\n",
    "    }, \n",
    "}\n",
    "\n",
    "# clear existing geodataframe results\n",
    "elevations = [sliderule.emptyframe()]\n",
    "\n",
    "# for each region of interest\n",
    "sliderule.logger.warning('No valid regions to run') if not m.regions else None\n",
    "for poly in m.regions:\n",
    "    # add polygon from map to sliderule parameters\n",
    "    atl08_parms[\"poly\"] = poly\n",
    "    # get the HLS catalog for the region\n",
    "    catalog = earthdata.stac(short_name=\"HLS\", polygon=poly,\n",
    "        time_start=\"2022-01-01T00:00:00Z\", time_end=\"2022-03-01T00:00:00Z\",\n",
    "        as_str=True)\n",
    "    # make the request to the SlideRule (ATL08-SR and ATL06-SR) endpoint\n",
    "    # and pass it the request parameters to request ATL03 Data\n",
    "    # keep_id is set to True to keep track of the extent_id\n",
    "    atl08 = icesat2.atl08p(atl08_parms, keep_id=True)\n",
    "    # make the request to the SlideRule (ATL08-SR and ATL06-SR) endpoint\n",
    "    atl06_parms = atl08_parms.copy()\n",
    "    atl06_parms[\"samples\"] = samples\n",
    "    atl06 = icesat2.atl06p(atl06_parms, keep_id=True).drop(columns=['geometry'])\n",
    "    # skip iteration if there is an empty dataframe\n",
    "    if atl06.empty or atl08.empty:\n",
    "        continue\n",
    "    # merge dataframes if there are valid values\n",
    "    merged = geopandas.pd.merge(atl08, atl06, on='extent_id',\n",
    "        how='left', suffixes=(None,'.atl06')).set_axis(atl08.index)\n",
    "    elevations.append(merged)\n",
    "# concatenate the results into a single geodataframe\n",
    "gdf = geopandas.pd.concat(elevations).dropna()\n",
    "# clear elevations variable to save memory\n",
    "elevations = None\n",
    "\n",
    "# add the results to the map\n",
    "%matplotlib inline\n",
    "if gdf.empty:\n",
    "    sliderule.logger.warning('No valid SlideRule returns')\n",
    "else:\n",
    "    # ATL06-SR and ATL08-SR fields for hover tooltip\n",
    "    fields = ['h_mean', 'h_sigma', 'h_canopy',\n",
    "        'h_min_canopy', 'h_mean_canopy', 'h_max_canopy',\n",
    "        'landsat.value']\n",
    "    gdf.leaflet.GeoData(m.map, column_name=SRwidgets.variable.value,\n",
    "        cmap=SRwidgets.colormap, max_plot_points=10000,\n",
    "        tooltip=True, colorbar=True, fields=fields)\n",
    "    # install handlers and callbacks\n",
    "    gdf.leaflet.set_observables(SRwidgets)\n",
    "    gdf.leaflet.add_selected_callback(SRwidgets.atl06_click_handler)\n",
    "    m.add_region_callback(gdf.leaflet.handle_region)"
   ]
  },
  {
   "cell_type": "markdown",
   "metadata": {},
   "source": [
    "### Review tabular output\n",
    "Can inspect the columns, number of returns and returns at the top of the `GeoDataFrame`.\n",
    "\n",
    "See the [SlideRule ICESat-2 API documentation](https://slideruleearth.io/rtd/user_guide/ICESat-2.html#elevations) for descriptions of each column"
   ]
  },
  {
   "cell_type": "code",
   "execution_count": null,
   "metadata": {},
   "outputs": [],
   "source": [
    "print(f'Returned {gdf.shape[0]} records')\n",
    "gdf.head()"
   ]
  },
  {
   "cell_type": "markdown",
   "metadata": {},
   "source": [
    "### Create plots for a single track\n",
    "Select a track from the leaflet plot above by clicking on one of the plotted elevations: RGT and Cycle will automatically get populated below"
   ]
  },
  {
   "cell_type": "code",
   "execution_count": null,
   "metadata": {
    "tags": []
   },
   "outputs": [],
   "source": [
    "SRwidgets.VBox([\n",
    "    SRwidgets.rgt,\n",
    "    SRwidgets.ground_track,\n",
    "    SRwidgets.cycle,\n",
    "])"
   ]
  },
  {
   "cell_type": "code",
   "execution_count": null,
   "metadata": {
    "tags": []
   },
   "outputs": [],
   "source": [
    "%matplotlib widget\n",
    "fig, ax = plt.subplots(nrows=2, sharex=True)\n",
    "# create plots\n",
    "plot_kwargs = SRwidgets.plot_kwargs.copy()\n",
    "plot_kwargs.pop('column_name')\n",
    "gdf.icesat2.plot(ax=ax[0], kind='scatter',\n",
    "    data_type='atl06', column_name='h_mean', **plot_kwargs)\n",
    "gdf.icesat2.plot(ax=ax[1], kind='scatter',\n",
    "    data_type='atl08', column_name='h_canopy', **plot_kwargs)"
   ]
  },
  {
   "cell_type": "markdown",
   "metadata": {
    "tags": []
   },
   "source": [
    "### Save data to output file"
   ]
  },
  {
   "cell_type": "code",
   "execution_count": null,
   "metadata": {
    "tags": []
   },
   "outputs": [],
   "source": [
    "display(SRwidgets.filesaver)"
   ]
  },
  {
   "cell_type": "code",
   "execution_count": null,
   "metadata": {
    "tags": []
   },
   "outputs": [],
   "source": [
    "# append sliderule api version to attributes\n",
    "version = sliderule.get_version()\n",
    "atl08_parms['version'] = version['icesat2']['version']\n",
    "atl08_parms['commit'] = version['icesat2']['commit']\n",
    "atl08_parms['lineage'] = dict(short_name='ATL03', version=earthdata.__get_version(\"ATL03\"))\n",
    "# save to file in format (HDF5 or netCDF)\n",
    "io.to_file(gdf, SRwidgets.file,\n",
    "    format=SRwidgets.format,\n",
    "    parameters=atl08_parms,\n",
    "    regions=m.regions,\n",
    "    verbose=True)"
   ]
  },
  {
   "cell_type": "code",
   "execution_count": null,
   "metadata": {},
   "outputs": [],
   "source": []
  }
 ],
 "metadata": {
  "interpreter": {
   "hash": "31f2aee4e71d21fbe5cf8b01ff0e069b9275f58929596ceb00d14d90e3e16cd6"
  },
  "kernelspec": {
   "display_name": "Python 3 (ipykernel)",
   "language": "python",
   "name": "python3"
  },
  "language_info": {
   "codemirror_mode": {
    "name": "ipython",
    "version": 3
   },
   "file_extension": ".py",
   "mimetype": "text/x-python",
   "name": "python",
   "nbconvert_exporter": "python",
   "pygments_lexer": "ipython3",
   "version": "3.10.14"
  }
 },
 "nbformat": 4,
 "nbformat_minor": 4
}
