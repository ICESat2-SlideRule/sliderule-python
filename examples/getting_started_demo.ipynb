{
 "cells": [
  {
   "cell_type": "markdown",
   "metadata": {},
   "source": [
    "# SlideRule API: Interactive Widget\n",
    "\n",
    "SlideRule is an on-demand science data processing service that runs in the cloud and responds to REST API calls to process and return science results.\n",
    "\n",
    "SlideRule can be accessed by any http client (e.g. curl) by making GET and POST requests to the SlideRule service. For the purposes of this document, all requests to SlideRule will originate from a Python script using Python's requests module.\n",
    "\n",
    "This notebook uses [Jupyter widgets](https://ipywidgets.readthedocs.io) to set parameters for using the SlideRule API.\n",
    "Regions of interest for submitting to SlideRule are drawn on a [leaflet](https://ipyleaflet.readthedocs.io) map.  Multiple polygons can be submitted at a given time."
   ]
  },
  {
   "cell_type": "markdown",
   "metadata": {},
   "source": [
    "#### Load necessary packages"
   ]
  },
  {
   "cell_type": "code",
   "execution_count": 1,
   "metadata": {},
   "outputs": [],
   "source": [
    "from sliderule import icesat2, ipysliderule, io\n",
    "import ipywidgets as widgets\n",
    "import logging\n",
    "import warnings\n",
    "# autoreload\n",
    "%load_ext autoreload\n",
    "%autoreload 2\n",
    "# turn off warnings for demo\n",
    "warnings.filterwarnings('ignore')"
   ]
  },
  {
   "cell_type": "markdown",
   "metadata": {},
   "source": [
    "#### Set options for making science data processing requests to SlideRule"
   ]
  },
  {
   "cell_type": "code",
   "execution_count": 2,
   "metadata": {},
   "outputs": [],
   "source": [
    "# set the url for the sliderule service\n",
    "# set the logging level\n",
    "icesat2.init(\"icesat2sliderule.org\", loglevel=logging.WARNING)"
   ]
  },
  {
   "cell_type": "code",
   "execution_count": 3,
   "metadata": {},
   "outputs": [],
   "source": [
    "# create global variables\n",
    "gdf = None\n",
    "parms = None"
   ]
  },
  {
   "cell_type": "code",
   "execution_count": 4,
   "metadata": {},
   "outputs": [
    {
     "data": {
      "application/vnd.jupyter.widget-view+json": {
       "model_id": "5f4651ebbd7147ec97ee7089277fb21b",
       "version_major": 2,
       "version_minor": 0
      },
      "text/plain": [
       "VBox(children=(Dropdown(description='Asset:', index=2, options=('atlas-local', 'atlas-s3', 'nsidc-s3'), value=…"
      ]
     },
     "metadata": {},
     "output_type": "display_data"
    }
   ],
   "source": [
    "# display widgets for setting SlideRule parameters\n",
    "SRwidgets = ipysliderule.widgets()\n",
    "widgets.VBox([\n",
    "    SRwidgets.asset,\n",
    "    SRwidgets.release,\n",
    "    SRwidgets.surface_type,\n",
    "    SRwidgets.length,\n",
    "    SRwidgets.step,\n",
    "    SRwidgets.confidence,\n",
    "    SRwidgets.land_class,\n",
    "    SRwidgets.iteration,\n",
    "    SRwidgets.spread,\n",
    "    SRwidgets.count,\n",
    "    SRwidgets.window,\n",
    "    SRwidgets.sigma,\n",
    "    SRwidgets.projection\n",
    "])"
   ]
  },
  {
   "cell_type": "markdown",
   "metadata": {},
   "source": [
    "#### Select regions of interest for submitting to SlideRule"
   ]
  },
  {
   "cell_type": "code",
   "execution_count": 5,
   "metadata": {},
   "outputs": [
    {
     "data": {
      "application/vnd.jupyter.widget-view+json": {
       "model_id": "614d507a72754c0093936fb4fb58be53",
       "version_major": 2,
       "version_minor": 0
      },
      "text/plain": [
       "Map(center=[39, -108], controls=(ZoomControl(options=['position', 'zoom_in_text', 'zoom_in_title', 'zoom_out_t…"
      ]
     },
     "metadata": {},
     "output_type": "display_data"
    }
   ],
   "source": [
    "# create ipyleaflet map in specified projection\n",
    "m = ipysliderule.leaflet(SRwidgets.projection.value)\n",
    "m.map"
   ]
  },
  {
   "cell_type": "markdown",
   "metadata": {},
   "source": [
    "#### Build and transmit requests to SlideRule"
   ]
  },
  {
   "cell_type": "code",
   "execution_count": 6,
   "metadata": {},
   "outputs": [],
   "source": [
    "def runSlideRule():\n",
    "    global gdf, parms\n",
    "    \n",
    "    # sliderule asset and data release\n",
    "    asset = SRwidgets.asset.value\n",
    "    release = SRwidgets.release.value\n",
    "\n",
    "    # build sliderule parameters using latest values from widget\n",
    "    parms = {\n",
    "        # surface type: 0-land, 1-ocean, 2-sea ice, 3-land ice, 4-inland water\n",
    "        \"srt\": SRwidgets.surface_type.index,\n",
    "        # length of ATL06-SR segment in meters\n",
    "        \"len\": SRwidgets.length.value,\n",
    "        # step distance for successive ATL06-SR segments in meters\n",
    "        \"res\": SRwidgets.step.value,\n",
    "        # confidence level for PE selection\n",
    "        \"cnf\": SRwidgets.confidence.value,\n",
    "        # ATL08 land surface classifications\n",
    "        \"atl08_class\": list(SRwidgets.land_class.value),\n",
    "        # maximum iterations, not including initial least-squares-fit selection\n",
    "        \"maxi\": SRwidgets.iteration.value,\n",
    "        # minimum along track spread\n",
    "        \"ats\": SRwidgets.spread.value,\n",
    "        # minimum PE count\n",
    "        \"cnt\": SRwidgets.count.value,\n",
    "        # minimum height of PE window in meters\n",
    "        \"H_min_win\": SRwidgets.window.value,\n",
    "        # maximum robust dispersion in meters\n",
    "        \"sigma_r_max\": SRwidgets.sigma.value\n",
    "    }\n",
    "\n",
    "    # clear existing geodataframe\n",
    "    gdf = icesat2.__emptyframe()\n",
    "\n",
    "    # for each region of interest\n",
    "    for poly in m.regions:\n",
    "        # add polygon from map to sliderule parameters\n",
    "        parms[\"poly\"] = poly \n",
    "        # make the request to the SlideRule (ATL06-SR) endpoint\n",
    "        # and pass it the request parameters to request ATL06 Data\n",
    "        gdf = gdf.append(icesat2.atl06p(parms, asset, version=release))\n",
    "\n",
    "    return gdf"
   ]
  },
  {
   "cell_type": "markdown",
   "metadata": {
    "tags": []
   },
   "source": [
    "#### Add GeoDataFrame to Map\n",
    "Will limit the plot to be up to 10000 points as a default"
   ]
  },
  {
   "cell_type": "code",
   "execution_count": 6,
   "metadata": {},
   "outputs": [
    {
     "data": {
      "application/vnd.jupyter.widget-view+json": {
       "model_id": "778f9089dbf9472e94653db157cd0cf0",
       "version_major": 2,
       "version_minor": 0
      },
      "text/plain": [
       "Button(description='Run SlideRule!', style=ButtonStyle())"
      ]
     },
     "metadata": {},
     "output_type": "display_data"
    },
    {
     "data": {
      "application/vnd.jupyter.widget-view+json": {
       "model_id": "bdf6c5ab26c84671ade7d1e921f6edef",
       "version_major": 2,
       "version_minor": 0
      },
      "text/plain": [
       "Output()"
      ]
     },
     "metadata": {},
     "output_type": "display_data"
    }
   ],
   "source": [
    "def on_button_clicked1(b):\n",
    "    with output1:\n",
    "        print(\"SlideRule processing request...\", end=\"\")\n",
    "        gdf = runSlideRule()\n",
    "        print(f'complete; returned {gdf.shape[0]} records')\n",
    "        m.GeoData(gdf, column_name='h_mean', cmap='viridis')\n",
    "\n",
    "button1 = widgets.Button(description=\"Run SlideRule!\")\n",
    "output1 = widgets.Output()\n",
    "button1.on_click(on_button_clicked1)\n",
    "display(button1, output1)"
   ]
  },
  {
   "cell_type": "markdown",
   "metadata": {},
   "source": [
    "#### Review output\n",
    "See http://icesat2sliderule.org/rtd/user_guide/ICESat-2.html#elevations for descriptions of each column"
   ]
  },
  {
   "cell_type": "code",
   "execution_count": 14,
   "metadata": {},
   "outputs": [
    {
     "data": {
      "application/vnd.jupyter.widget-view+json": {
       "model_id": "4ad12498cfb4406b8d1ad2e488b0c428",
       "version_major": 2,
       "version_minor": 0
      },
      "text/plain": [
       "Button(description='Display GeoDataFrame', style=ButtonStyle())"
      ]
     },
     "metadata": {},
     "output_type": "display_data"
    },
    {
     "data": {
      "application/vnd.jupyter.widget-view+json": {
       "model_id": "f194edfa6ea845918f6a2722bd1a1e84",
       "version_major": 2,
       "version_minor": 0
      },
      "text/plain": [
       "Output()"
      ]
     },
     "metadata": {},
     "output_type": "display_data"
    }
   ],
   "source": [
    "def on_button_clicked2(b):\n",
    "    global gdf\n",
    "    with output2:\n",
    "        display(gdf.head())\n",
    "button2 = widgets.Button(description=\"Display GeoDataFrame\")\n",
    "output2 = widgets.Output()\n",
    "button2.on_click(on_button_clicked2)\n",
    "display(button2, output2)"
   ]
  },
  {
   "cell_type": "markdown",
   "metadata": {},
   "source": [
    "#### Save GeoDataFrame to output tile\n",
    "- [pytables HDF5](https://www.pytables.org/): easily read back as a Geopandas GeoDataFrame\n",
    "- [netCDF](https://www.unidata.ucar.edu/software/netcdf): interoperable with other programs"
   ]
  },
  {
   "cell_type": "code",
   "execution_count": 15,
   "metadata": {},
   "outputs": [
    {
     "data": {
      "application/vnd.jupyter.widget-view+json": {
       "model_id": "cb3ffa274ee744d08433c425ffeaec64",
       "version_major": 2,
       "version_minor": 0
      },
      "text/plain": [
       "HBox(children=(Button(description='Save As', style=ButtonStyle()), Text(value='ATL06-SR_20220217163141_004.h5'…"
      ]
     },
     "metadata": {},
     "output_type": "display_data"
    }
   ],
   "source": [
    "display(SRwidgets.filesaver)"
   ]
  },
  {
   "cell_type": "code",
   "execution_count": 16,
   "metadata": {},
   "outputs": [
    {
     "data": {
      "application/vnd.jupyter.widget-view+json": {
       "model_id": "79f27e3edfef46aab225bc12260a76af",
       "version_major": 2,
       "version_minor": 0
      },
      "text/plain": [
       "Button(description='Write to File', style=ButtonStyle())"
      ]
     },
     "metadata": {},
     "output_type": "display_data"
    },
    {
     "data": {
      "application/vnd.jupyter.widget-view+json": {
       "model_id": "2083c63f058f46ba8046167a4f8e9c20",
       "version_major": 2,
       "version_minor": 0
      },
      "text/plain": [
       "Output()"
      ]
     },
     "metadata": {},
     "output_type": "display_data"
    }
   ],
   "source": [
    "def on_button_clicked3(b):\n",
    "    global gdf\n",
    "    with output3:\n",
    "        # append sliderule api version to attributes\n",
    "        version = icesat2.get_version()\n",
    "        parms['version'] = version['icesat2']['version']\n",
    "        parms['commit'] = version['icesat2']['commit']\n",
    "        # save to file in format (HDF5 or netCDF)\n",
    "        io.to_file(gdf, SRwidgets.file,\n",
    "            format=SRwidgets.format,\n",
    "            driver='pytables',\n",
    "            parameters=parms,\n",
    "            regions=m.regions,\n",
    "            verbose=True)\n",
    "button3 = widgets.Button(description=\"Write to File\")\n",
    "output3 = widgets.Output()\n",
    "button3.on_click(on_button_clicked3)\n",
    "display(button3, output3)"
   ]
  },
  {
   "cell_type": "markdown",
   "metadata": {},
   "source": [
    "#### Read GeoDataFrame from input file\n",
    "- [pytables HDF5](https://www.pytables.org/)\n",
    "- [netCDF](https://www.unidata.ucar.edu/software/netcdf)"
   ]
  },
  {
   "cell_type": "code",
   "execution_count": null,
   "metadata": {},
   "outputs": [],
   "source": [
    "display(SRwidgets.fileloader)"
   ]
  },
  {
   "cell_type": "code",
   "execution_count": 17,
   "metadata": {},
   "outputs": [
    {
     "data": {
      "application/vnd.jupyter.widget-view+json": {
       "model_id": "40561790d8c54d75a27fdde73278f779",
       "version_major": 2,
       "version_minor": 0
      },
      "text/plain": [
       "Button(description='Read from File', style=ButtonStyle())"
      ]
     },
     "metadata": {},
     "output_type": "display_data"
    },
    {
     "data": {
      "application/vnd.jupyter.widget-view+json": {
       "model_id": "57780dbd8bd947848cac61a68b8fae73",
       "version_major": 2,
       "version_minor": 0
      },
      "text/plain": [
       "Output()"
      ]
     },
     "metadata": {},
     "output_type": "display_data"
    }
   ],
   "source": [
    "def on_button_clicked4(b):\n",
    "    global gdf\n",
    "    with output4:\n",
    "        # read from file in format (HDF5 or netCDF)\n",
    "        gdf = io.from_file(SRwidgets.file,\n",
    "            format=SRwidgets.format,\n",
    "            driver='pytables')\n",
    "        display(gdf.head())\n",
    "button4 = widgets.Button(description=\"Read from File\")\n",
    "output4 = widgets.Output()\n",
    "button4.on_click(on_button_clicked4)\n",
    "display(button4, output4)"
   ]
  },
  {
   "cell_type": "code",
   "execution_count": null,
   "metadata": {},
   "outputs": [],
   "source": []
  }
 ],
 "metadata": {
  "interpreter": {
   "hash": "31f2aee4e71d21fbe5cf8b01ff0e069b9275f58929596ceb00d14d90e3e16cd6"
  },
  "kernelspec": {
   "display_name": "Python 3 (ipykernel)",
   "language": "python",
   "name": "python3"
  },
  "language_info": {
   "codemirror_mode": {
    "name": "ipython",
    "version": 3
   },
   "file_extension": ".py",
   "mimetype": "text/x-python",
   "name": "python",
   "nbconvert_exporter": "python",
   "pygments_lexer": "ipython3",
   "version": "3.8.12"
  },
  "toc-showtags": false
 },
 "nbformat": 4,
 "nbformat_minor": 4
}
