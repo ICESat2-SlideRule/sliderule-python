{
 "cells": [
  {
   "cell_type": "code",
   "execution_count": null,
   "metadata": {},
   "outputs": [],
   "source": [
    "import sys\n",
    "import logging\n",
    "import pandas as pd\n",
    "import numpy as np\n",
    "import matplotlib.pyplot as plt\n",
    "import cartopy\n",
    "import time\n",
    "from datetime import datetime\n",
    "from pyproj import Transformer, CRS\n",
    "from shapely.geometry import Polygon, Point\n",
    "import h5pyd as h5py\n",
    "from sliderule import icesat2"
   ]
  },
  {
   "cell_type": "code",
   "execution_count": null,
   "metadata": {},
   "outputs": [],
   "source": [
    "# Configure Logging\n",
    "icesat2_logger = logging.getLogger(\"sliderule.icesat2\")\n",
    "icesat2_logger.setLevel(logging.INFO)\n",
    "# Create Console Output\n",
    "ch = logging.StreamHandler()\n",
    "ch.setLevel(logging.INFO)\n",
    "icesat2_logger.addHandler(ch)"
   ]
  },
  {
   "cell_type": "markdown",
   "metadata": {},
   "source": [
    "## SlideRule Configuration"
   ]
  },
  {
   "cell_type": "code",
   "execution_count": null,
   "metadata": {},
   "outputs": [],
   "source": [
    "# Configure ICESat-2 API\n",
    "icesat2.init(\"http://44.227.4.67:9081\", False)\n",
    "# Configure Region of Interest\n",
    "region = [ {\"lon\":-105.82971551223244, \"lat\": 39.81983728534918},\n",
    "           {\"lon\":-105.30742121965137, \"lat\": 39.81983728534918},\n",
    "           {\"lon\":-105.30742121965137, \"lat\": 40.164048017973755},\n",
    "           {\"lon\":-105.82971551223244, \"lat\": 40.164048017973755},\n",
    "           {\"lon\":-105.82971551223244, \"lat\": 39.81983728534918} ]"
   ]
  },
  {
   "cell_type": "markdown",
   "metadata": {},
   "source": [
    "## Execute ATL06 Algorithm using SlideRule"
   ]
  },
  {
   "cell_type": "code",
   "execution_count": null,
   "metadata": {},
   "outputs": [],
   "source": [
    "# Latch Start Time\n",
    "perf_start = time.perf_counter()\n",
    "\n",
    "# Build ATL06 Request\n",
    "parms = {\n",
    "    \"poly\": region,\n",
    "    \"srt\": icesat2.SRT_LAND,\n",
    "    \"cnf\": icesat2.CNF_SURFACE_HIGH,\n",
    "    \"ats\": 10.0,\n",
    "    \"cnt\": 10,\n",
    "    \"len\": 40.0,\n",
    "    \"res\": 20.0,\n",
    "    \"maxi\": 1\n",
    "}\n",
    "\n",
    "# Request ATL06 Data\n",
    "rsps = icesat2.atl06p(parms, \"atl03-cloud\")\n",
    "\n",
    "# Latch Stop Time\n",
    "perf_stop = time.perf_counter()\n",
    "\n",
    "# Build Dataframe of SlideRule Responses\n",
    "df = pd.DataFrame(rsps)\n",
    "\n",
    "# Display Statistics\n",
    "perf_duration = perf_stop - perf_start\n",
    "print(\"Completed in {:.3f} seconds of wall-clock time\". format(perf_duration))\n",
    "print(\"Reference Ground Tracks: {}\".format(df[\"rgt\"].unique()))\n",
    "print(\"Cycles: {}\".format(df[\"cycle\"].unique()))\n",
    "print(\"Received {} elevations\".format(len(df)))"
   ]
  },
  {
   "cell_type": "markdown",
   "metadata": {},
   "source": [
    "## Plot Region"
   ]
  },
  {
   "cell_type": "code",
   "execution_count": null,
   "metadata": {},
   "outputs": [],
   "source": [
    "# Calculate Extent\n",
    "lons = [p[\"lon\"] for p in region]\n",
    "lats = [p[\"lat\"] for p in region]\n",
    "lon_margin = (max(lons) - min(lons)) * 0.1\n",
    "lat_margin = (max(lats) - min(lats)) * 0.1\n",
    "extent = (min(lons) - lon_margin, max(lons) + lon_margin, min(lats) - lat_margin, max(lats) + lat_margin)\n",
    "\n",
    "# Create Plot\n",
    "fig = plt.figure(num=None, figsize=(24, 12))\n",
    "box_lon = [e[\"lon\"] for e in region]\n",
    "box_lat = [e[\"lat\"] for e in region]\n",
    "\n",
    "# Plot SlideRule Ground Tracks\n",
    "ax1 = plt.subplot(121,projection=cartopy.crs.PlateCarree())\n",
    "ax1.set_title(\"SlideRule Zoomed Ground Tracks\")\n",
    "ax1.scatter(df[\"lon\"].values, df[\"lat\"].values, s=2.5, c=df[\"h_mean\"], cmap='winter_r', zorder=3, transform=cartopy.crs.PlateCarree())\n",
    "ax1.set_extent(extent,crs=cartopy.crs.PlateCarree())\n",
    "ax1.plot(box_lon, box_lat, linewidth=1.5, color='r', zorder=2, transform=cartopy.crs.Geodetic())\n",
    "\n",
    "# Plot SlideRule Global View\n",
    "ax2 = plt.subplot(122,projection=cartopy.crs.PlateCarree())\n",
    "ax2.set_title(\"SlideRule Global Reference\")\n",
    "ax2.scatter(df[\"lon\"].values, df[\"lat\"].values, s=2.5, color='r', zorder=3, transform=cartopy.crs.PlateCarree())\n",
    "ax2.add_feature(cartopy.feature.LAND, zorder=0, edgecolor='black')\n",
    "ax2.add_feature(cartopy.feature.LAKES)\n",
    "ax2.set_extent((-180,180,-90,90),crs=cartopy.crs.PlateCarree())\n",
    "\n",
    "# Show Plot\n",
    "plt.show()"
   ]
  },
  {
   "cell_type": "markdown",
   "metadata": {},
   "source": [
    "## Plot Data Availability"
   ]
  },
  {
   "cell_type": "code",
   "execution_count": null,
   "metadata": {},
   "outputs": [],
   "source": [
    "# Setup Columns\n",
    "columns = [\"reference_photon_lat\", \"reference_photon_lon\", \"segment_ph_cnt\"]\n",
    "spots = [\"gt1l\", \"gt1r\", \"gt2l\", \"gt2r\", \"gt3l\", \"gt3r\"]\n",
    "\n",
    "# Query ATL03 Files from NASA CMR System\n",
    "resources = icesat2.cmr(region, short_name='ATL03')\n",
    "\n",
    "# Read each file\n",
    "atl03 = {}\n",
    "for resource in resources:\n",
    "    try:\n",
    "        # Read Resource\n",
    "        print(\"Reading {} at {}\".format(resource, datetime.now().strftime(\"%Y-%m-%d %H:%M:%S\")))\n",
    "        data = {}\n",
    "        for spot in spots:\n",
    "            data[spot] = {}\n",
    "            for column in columns:\n",
    "                data[spot][column] = icesat2.h5(spot + \"/geolocation/\" + column,  resource, \"atl03-cloud\")\n",
    "        atl03[resource] = data\n",
    "    except Exception as e:\n",
    "        print(\"Error reading {}: {}\".format(resource, e))\n",
    "\n",
    "# Status\n",
    "complete = len(atl03)\n",
    "print(\"Processed {} of {} at {}\".format(complete, len(resources), datetime.now().strftime(\"%Y-%m-%d %H:%M:%S\")))\n",
    "\n",
    "# Count Number of Elements\n",
    "numelements = {}\n",
    "for column in columns:\n",
    "    numelements[column] = 0\n",
    "for resource in atl03:\n",
    "    for spot in spots:\n",
    "        for column in columns:\n",
    "            numelements[column] += len(atl03[resource][spot][column])\n",
    "\n",
    "# Preallocate Dataset\n",
    "gidx = {} # global index\n",
    "fulldata = {}\n",
    "for column in columns:\n",
    "    print(\"Allocating {} number of {}\".format(numelements[column], column))\n",
    "    fulldata[column] = np.zeros(numelements[column])\n",
    "    gidx[column] = 0\n",
    "    \n",
    "# Copy Data In\n",
    "for resource in atl03:\n",
    "    print(\"Copying in data for {}\".format(resource))\n",
    "    for spot in spots:\n",
    "        for column in columns:\n",
    "            offset = gidx[column]\n",
    "            for idx,entry in enumerate(atl03[resource][spot][column]):\n",
    "                fulldata[column][offset + idx] = entry\n",
    "            gidx[column] += len(atl03[resource][spot][column])\n",
    "\n",
    "# Assign Back Flattened Data\n",
    "atl03 =  pd.DataFrame(fulldata)"
   ]
  },
  {
   "cell_type": "code",
   "execution_count": null,
   "metadata": {},
   "outputs": [],
   "source": [
    "# Calculate Extent and Bounding Box\n",
    "lons = [p[\"lon\"] for p in region]\n",
    "lats = [p[\"lat\"] for p in region]\n",
    "lon_margin = (max(lons) - min(lons)) * 1.0\n",
    "lat_margin = (max(lats) - min(lats)) * 1.0\n",
    "extent = (min(lons) - lon_margin, max(lons) + lon_margin, min(lats) - lat_margin, max(lats) + lat_margin)\n",
    "box_lon = [e[\"lon\"] for e in region]\n",
    "box_lat = [e[\"lat\"] for e in region]\n",
    "\n",
    "# Plot Ground Tracks\n",
    "fig = plt.figure(num=None, figsize=(24, 12))\n",
    "ax1 = plt.subplot(111,projection=cartopy.crs.PlateCarree())\n",
    "ax1.set_title(\"SlideRule Zoomed Ground Tracks\")\n",
    "ax1.scatter(atl03[\"reference_photon_lon\"].values, atl03[\"reference_photon_lat\"].values, s=2.5, c=atl03[\"segment_ph_cnt\"], cmap='winter_r', zorder=3, transform=cartopy.crs.PlateCarree())\n",
    "ax1.set_extent(extent,crs=cartopy.crs.PlateCarree())\n",
    "ax1.plot(box_lon, box_lat, linewidth=1.5, color='r', zorder=2, transform=cartopy.crs.Geodetic())\n",
    "\n",
    "# Show Plot\n",
    "plt.show()"
   ]
  },
  {
   "cell_type": "markdown",
   "metadata": {},
   "source": [
    "## Manually Subset Data (Runs REALLY Long Time)"
   ]
  },
  {
   "cell_type": "code",
   "execution_count": null,
   "metadata": {},
   "outputs": [],
   "source": [
    "# Allocate an Invalid Column\n",
    "atl03[\"invalid\"] = np.zeros(numelements[\"segment_ph_cnt\"])\n",
    "\n",
    "# Create Projection Transformer\n",
    "transformer = Transformer.from_crs(4326, 3857) # GPS to Web Mercator\n",
    "\n",
    "# Project Polygon\n",
    "pregion = []\n",
    "for point in bounding_box:\n",
    "    ppoint = transformer.transform(point[\"lat\"], point[\"lon\"])\n",
    "    pregion.append(ppoint)\n",
    "    \n",
    "# Trim Results\n",
    "polygon = Polygon(pregion)\n",
    "for lat,lon,h in zip(atl03df_full[\"reference_photon_lat\"],atl03df_full[\"reference_photon_lon\"],atl03df_full[\"segment_ph_cnt\"]):\n",
    "    c = transformer.transform(lat, lon)\n",
    "    point = Point(c[0], c[1])\n",
    "    if not point.within(polygon):\n",
    "        atl03[\"invalid\"] = True\n",
    "\n",
    "# Filter Invalid Data\n",
    "atl03 = atl03[atl03[\"invalid\"] == False]"
   ]
  }
 ],
 "metadata": {
  "kernelspec": {
   "display_name": "Python [conda env:sliderule]",
   "language": "python",
   "name": "conda-env-sliderule-py"
  },
  "language_info": {
   "codemirror_mode": {
    "name": "ipython",
    "version": 3
   },
   "file_extension": ".py",
   "mimetype": "text/x-python",
   "name": "python",
   "nbconvert_exporter": "python",
   "pygments_lexer": "ipython3",
   "version": "3.8.6"
  }
 },
 "nbformat": 4,
 "nbformat_minor": 4
}
