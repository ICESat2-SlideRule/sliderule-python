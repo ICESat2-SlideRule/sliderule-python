{
 "cells": [
  {
   "cell_type": "code",
   "execution_count": 1,
   "id": "0b7e6c08-fba9-405d-a278-767ec692efb4",
   "metadata": {
    "tags": []
   },
   "outputs": [
    {
     "name": "stderr",
     "output_type": "stream",
     "text": [
      "Unable to import sklearn... clustering support disabled\n"
     ]
    }
   ],
   "source": [
    "from sliderule import sliderule, earthdata, swot\n",
    "import matplotlib.pyplot as plt\n",
    "import numpy"
   ]
  },
  {
   "cell_type": "code",
   "execution_count": 2,
   "id": "f4155c77-d1bb-42c2-b47a-1089823a8c89",
   "metadata": {
    "tags": []
   },
   "outputs": [
    {
     "data": {
      "text/plain": [
       "['SWOT_L2_LR_SSH_Expert_009_009_20111121T053342_20111121T062448_DG10_01.nc',\n",
       " 'SWOT_L2_LR_SSH_Expert_238_002_20120705T114746_20120705T123852_DG10_01.nc']"
      ]
     },
     "execution_count": 2,
     "metadata": {},
     "output_type": "execute_result"
    }
   ],
   "source": [
    "region = sliderule.toregion(\"../data/grandmesa.geojson\")\n",
    "granules = earthdata.cmr(short_name=\"SWOT_SIMULATED_L2_KARIN_SSH_ECCO_LLC4320_CALVAL_V1\", polygon=region[\"poly\"], time_start=None)\n",
    "granules"
   ]
  },
  {
   "cell_type": "code",
   "execution_count": null,
   "id": "e4058afa-16f0-4401-8d7f-52d0521f3651",
   "metadata": {
    "tags": []
   },
   "outputs": [],
   "source": [
    "swot.init(\"localhost\", verbose=True, organization=None)\n",
    "region = sliderule.toregion(\"../data/antarctic.geojson\")\n",
    "rsps = swot.swotl2p({\"poly\":region[\"poly\"], \"variables\":[\"simulated_error_karin\"]}, resources=['SWOT_L2_LR_SSH_Expert_238_002_20120705T114746_20120705T123852_DG10_01.nc'])"
   ]
  },
  {
   "cell_type": "code",
   "execution_count": null,
   "id": "ea532080-6b13-46eb-bc59-0a80dc6c52e0",
   "metadata": {
    "tags": []
   },
   "outputs": [],
   "source": [
    "rsps['SWOT_L2_LR_SSH_Expert_238_002_20120705T114746_20120705T123852_DG10_01.nc']"
   ]
  },
  {
   "cell_type": "code",
   "execution_count": null,
   "id": "b02764b2-5329-49e6-8282-4cd18ff83c09",
   "metadata": {},
   "outputs": [],
   "source": []
  },
  {
   "cell_type": "code",
   "execution_count": null,
   "id": "114961d5-001d-4f3d-aa51-e7a6a0b493c8",
   "metadata": {},
   "outputs": [],
   "source": []
  },
  {
   "cell_type": "code",
   "execution_count": null,
   "id": "ce41ef10-cc29-48a9-96c3-3658fbad0695",
   "metadata": {
    "tags": []
   },
   "outputs": [],
   "source": [
    "region2 = sliderule.toregion(\"../data/grandmesa.geojson\")\n",
    "rsps2 = swot.swotl2p({\"poly\":region2[\"poly\"], \"variables\":[\"simulated_error_karin\"]})"
   ]
  },
  {
   "cell_type": "code",
   "execution_count": null,
   "id": "29d698d2-9454-4c13-9867-ebabdae6407a",
   "metadata": {},
   "outputs": [],
   "source": []
  },
  {
   "cell_type": "code",
   "execution_count": null,
   "id": "a8cd6329-2a2c-4051-a9e2-68b5d95756e6",
   "metadata": {},
   "outputs": [],
   "source": []
  },
  {
   "cell_type": "code",
   "execution_count": 3,
   "id": "6f27772e-630a-4e50-bcd3-aa7e1d6acff4",
   "metadata": {
    "tags": []
   },
   "outputs": [],
   "source": [
    "track ={\n",
    "    \"points\": [\n",
    "                {\n",
    "                  \"longitude\": -180,\n",
    "                  \"latitude\": 77.32443\n",
    "                },\n",
    "                {\n",
    "                  \"longitude\": -180,\n",
    "                  \"latitude\": 75.96161\n",
    "                },\n",
    "                {\n",
    "                  \"longitude\": -162.09458,\n",
    "                  \"latitude\": 72.95769\n",
    "                },\n",
    "                {\n",
    "                  \"longitude\": -148.71771,\n",
    "                  \"latitude\": 68.02475\n",
    "                },\n",
    "                {\n",
    "                  \"longitude\": -139.57473,\n",
    "                  \"latitude\": 61.46376\n",
    "                },\n",
    "                {\n",
    "                  \"longitude\": -132.76541,\n",
    "                  \"latitude\": 52.52883\n",
    "                },\n",
    "                {\n",
    "                  \"longitude\": -128.23535,\n",
    "                  \"latitude\": 42.33934\n",
    "                },\n",
    "                {\n",
    "                  \"longitude\": -124.53764,\n",
    "                  \"latitude\": 28.97745\n",
    "                },\n",
    "                {\n",
    "                  \"longitude\": -116.14332,\n",
    "                  \"latitude\": -22.21489\n",
    "                },\n",
    "                {\n",
    "                  \"longitude\": -112.54563,\n",
    "                  \"latitude\": -38.63235\n",
    "                },\n",
    "                {\n",
    "                  \"longitude\": -107.59535,\n",
    "                  \"latitude\": -52.02395\n",
    "                },\n",
    "                {\n",
    "                  \"longitude\": -101.02934,\n",
    "                  \"latitude\": -61.71245\n",
    "                },\n",
    "                {\n",
    "                  \"longitude\": -96.51192,\n",
    "                  \"latitude\": -65.80947\n",
    "                },\n",
    "                {\n",
    "                  \"longitude\": -91.33566,\n",
    "                  \"latitude\": -69.12003\n",
    "                },\n",
    "                {\n",
    "                  \"longitude\": -77.82439,\n",
    "                  \"latitude\": -74.1454\n",
    "                },\n",
    "                {\n",
    "                  \"longitude\": -59.19556,\n",
    "                  \"latitude\": -77.20514\n",
    "                },\n",
    "                {\n",
    "                  \"longitude\": -35.45207,\n",
    "                  \"latitude\": -78.29215\n",
    "                },\n",
    "                {\n",
    "                  \"longitude\": -35.45501,\n",
    "                  \"latitude\": -77.0331\n",
    "                },\n",
    "                {\n",
    "                  \"longitude\": -59.11783,\n",
    "                  \"latitude\": -75.83566\n",
    "                },\n",
    "                {\n",
    "                  \"longitude\": -77.9601,\n",
    "                  \"latitude\": -72.38965\n",
    "                },\n",
    "                {\n",
    "                  \"longitude\": -90.38687,\n",
    "                  \"latitude\": -67.38657\n",
    "                },\n",
    "                {\n",
    "                  \"longitude\": -99.59434,\n",
    "                  \"latitude\": -60.19465\n",
    "                },\n",
    "                {\n",
    "                  \"longitude\": -106.37693,\n",
    "                  \"latitude\": -50.25634\n",
    "                },\n",
    "                {\n",
    "                  \"longitude\": -111.51882,\n",
    "                  \"latitude\": -36.48096\n",
    "                },\n",
    "                {\n",
    "                  \"longitude\": -115.3008,\n",
    "                  \"latitude\": -19.27607\n",
    "                },\n",
    "                {\n",
    "                  \"longitude\": -123.63896,\n",
    "                  \"latitude\": 31.6175\n",
    "                },\n",
    "                {\n",
    "                  \"longitude\": -127.38371,\n",
    "                  \"latitude\": 45.02024\n",
    "                },\n",
    "                {\n",
    "                  \"longitude\": -131.90094,\n",
    "                  \"latitude\": 54.92655\n",
    "                },\n",
    "                {\n",
    "                  \"longitude\": -139.12559,\n",
    "                  \"latitude\": 63.9081\n",
    "                },\n",
    "                {\n",
    "                  \"longitude\": -148.94375,\n",
    "                  \"latitude\": 70.29256\n",
    "                },\n",
    "                {\n",
    "                  \"longitude\": -162.17736,\n",
    "                  \"latitude\": 74.64083\n",
    "                },\n",
    "                {\n",
    "                  \"longitude\": -180,\n",
    "                  \"latitude\": 77.32443\n",
    "                }\n",
    "              ]\n",
    "       }"
   ]
  },
  {
   "cell_type": "code",
   "execution_count": 4,
   "id": "2e82d4bf-b4c9-401a-bb0b-98fbde331989",
   "metadata": {
    "tags": []
   },
   "outputs": [
    {
     "data": {
      "text/plain": [
       "{'points': [{'longitude': -180, 'latitude': 77.32443},\n",
       "  {'longitude': -180, 'latitude': 75.96161},\n",
       "  {'longitude': -162.09458, 'latitude': 72.95769},\n",
       "  {'longitude': -148.71771, 'latitude': 68.02475},\n",
       "  {'longitude': -139.57473, 'latitude': 61.46376},\n",
       "  {'longitude': -132.76541, 'latitude': 52.52883},\n",
       "  {'longitude': -128.23535, 'latitude': 42.33934},\n",
       "  {'longitude': -124.53764, 'latitude': 28.97745},\n",
       "  {'longitude': -116.14332, 'latitude': -22.21489},\n",
       "  {'longitude': -112.54563, 'latitude': -38.63235},\n",
       "  {'longitude': -107.59535, 'latitude': -52.02395},\n",
       "  {'longitude': -101.02934, 'latitude': -61.71245},\n",
       "  {'longitude': -96.51192, 'latitude': -65.80947},\n",
       "  {'longitude': -91.33566, 'latitude': -69.12003},\n",
       "  {'longitude': -77.82439, 'latitude': -74.1454},\n",
       "  {'longitude': -59.19556, 'latitude': -77.20514},\n",
       "  {'longitude': -35.45207, 'latitude': -78.29215},\n",
       "  {'longitude': -35.45501, 'latitude': -77.0331},\n",
       "  {'longitude': -59.11783, 'latitude': -75.83566},\n",
       "  {'longitude': -77.9601, 'latitude': -72.38965},\n",
       "  {'longitude': -90.38687, 'latitude': -67.38657},\n",
       "  {'longitude': -99.59434, 'latitude': -60.19465},\n",
       "  {'longitude': -106.37693, 'latitude': -50.25634},\n",
       "  {'longitude': -111.51882, 'latitude': -36.48096},\n",
       "  {'longitude': -115.3008, 'latitude': -19.27607},\n",
       "  {'longitude': -123.63896, 'latitude': 31.6175},\n",
       "  {'longitude': -127.38371, 'latitude': 45.02024},\n",
       "  {'longitude': -131.90094, 'latitude': 54.92655},\n",
       "  {'longitude': -139.12559, 'latitude': 63.9081},\n",
       "  {'longitude': -148.94375, 'latitude': 70.29256},\n",
       "  {'longitude': -162.17736, 'latitude': 74.64083},\n",
       "  {'longitude': -180, 'latitude': 77.32443}]}"
      ]
     },
     "execution_count": 4,
     "metadata": {},
     "output_type": "execute_result"
    }
   ],
   "source": [
    "track"
   ]
  },
  {
   "cell_type": "code",
   "execution_count": 5,
   "id": "6ff89d99-3045-48db-b084-8757521e2462",
   "metadata": {},
   "outputs": [],
   "source": [
    "lat = [p['latitude'] for p in track['points']]\n",
    "lon = [p['longitude'] for p in track['points']]\n",
    "data = [x for x in range(len(lon))]"
   ]
  },
  {
   "cell_type": "code",
   "execution_count": 6,
   "id": "903e74a9-406e-4b92-ad47-cebbb7b1c7e2",
   "metadata": {
    "tags": []
   },
   "outputs": [],
   "source": [
    "import numpy"
   ]
  },
  {
   "cell_type": "code",
   "execution_count": 7,
   "id": "f9d6053b-de11-4151-9039-75aacfa633a5",
   "metadata": {
    "tags": []
   },
   "outputs": [],
   "source": [
    "a = {\"latitude\": lat, \"longitude\": lon, \"time\": numpy.array(data)}"
   ]
  },
  {
   "cell_type": "code",
   "execution_count": 8,
   "id": "0efbb2ca-64ce-4bd0-9220-1cc5b94a82e2",
   "metadata": {
    "tags": []
   },
   "outputs": [],
   "source": [
    "import sliderule"
   ]
  },
  {
   "cell_type": "code",
   "execution_count": 9,
   "id": "a69b9d87-584f-41c1-88a6-abb79298af61",
   "metadata": {
    "tags": []
   },
   "outputs": [],
   "source": [
    "gdf = sliderule.todataframe(a)"
   ]
  },
  {
   "cell_type": "code",
   "execution_count": 10,
   "id": "6e05b379-77b0-4f5e-acb7-0378a07c84ff",
   "metadata": {
    "tags": []
   },
   "outputs": [
    {
     "data": {
      "text/html": [
       "<div>\n",
       "<style scoped>\n",
       "    .dataframe tbody tr th:only-of-type {\n",
       "        vertical-align: middle;\n",
       "    }\n",
       "\n",
       "    .dataframe tbody tr th {\n",
       "        vertical-align: top;\n",
       "    }\n",
       "\n",
       "    .dataframe thead th {\n",
       "        text-align: right;\n",
       "    }\n",
       "</style>\n",
       "<table border=\"1\" class=\"dataframe\">\n",
       "  <thead>\n",
       "    <tr style=\"text-align: right;\">\n",
       "      <th></th>\n",
       "      <th>geometry</th>\n",
       "    </tr>\n",
       "    <tr>\n",
       "      <th>time</th>\n",
       "      <th></th>\n",
       "    </tr>\n",
       "  </thead>\n",
       "  <tbody>\n",
       "    <tr>\n",
       "      <th>1970-01-01 00:00:00.000000000</th>\n",
       "      <td>POINT (-180.00000 77.32443)</td>\n",
       "    </tr>\n",
       "    <tr>\n",
       "      <th>1970-01-01 00:00:00.000000001</th>\n",
       "      <td>POINT (-180.00000 75.96161)</td>\n",
       "    </tr>\n",
       "    <tr>\n",
       "      <th>1970-01-01 00:00:00.000000002</th>\n",
       "      <td>POINT (-162.09458 72.95769)</td>\n",
       "    </tr>\n",
       "    <tr>\n",
       "      <th>1970-01-01 00:00:00.000000003</th>\n",
       "      <td>POINT (-148.71771 68.02475)</td>\n",
       "    </tr>\n",
       "    <tr>\n",
       "      <th>1970-01-01 00:00:00.000000004</th>\n",
       "      <td>POINT (-139.57473 61.46376)</td>\n",
       "    </tr>\n",
       "    <tr>\n",
       "      <th>1970-01-01 00:00:00.000000005</th>\n",
       "      <td>POINT (-132.76541 52.52883)</td>\n",
       "    </tr>\n",
       "    <tr>\n",
       "      <th>1970-01-01 00:00:00.000000006</th>\n",
       "      <td>POINT (-128.23535 42.33934)</td>\n",
       "    </tr>\n",
       "    <tr>\n",
       "      <th>1970-01-01 00:00:00.000000007</th>\n",
       "      <td>POINT (-124.53764 28.97745)</td>\n",
       "    </tr>\n",
       "    <tr>\n",
       "      <th>1970-01-01 00:00:00.000000008</th>\n",
       "      <td>POINT (-116.14332 -22.21489)</td>\n",
       "    </tr>\n",
       "    <tr>\n",
       "      <th>1970-01-01 00:00:00.000000009</th>\n",
       "      <td>POINT (-112.54563 -38.63235)</td>\n",
       "    </tr>\n",
       "    <tr>\n",
       "      <th>1970-01-01 00:00:00.000000010</th>\n",
       "      <td>POINT (-107.59535 -52.02395)</td>\n",
       "    </tr>\n",
       "    <tr>\n",
       "      <th>1970-01-01 00:00:00.000000011</th>\n",
       "      <td>POINT (-101.02934 -61.71245)</td>\n",
       "    </tr>\n",
       "    <tr>\n",
       "      <th>1970-01-01 00:00:00.000000012</th>\n",
       "      <td>POINT (-96.51192 -65.80947)</td>\n",
       "    </tr>\n",
       "    <tr>\n",
       "      <th>1970-01-01 00:00:00.000000013</th>\n",
       "      <td>POINT (-91.33566 -69.12003)</td>\n",
       "    </tr>\n",
       "    <tr>\n",
       "      <th>1970-01-01 00:00:00.000000014</th>\n",
       "      <td>POINT (-77.82439 -74.14540)</td>\n",
       "    </tr>\n",
       "    <tr>\n",
       "      <th>1970-01-01 00:00:00.000000015</th>\n",
       "      <td>POINT (-59.19556 -77.20514)</td>\n",
       "    </tr>\n",
       "    <tr>\n",
       "      <th>1970-01-01 00:00:00.000000016</th>\n",
       "      <td>POINT (-35.45207 -78.29215)</td>\n",
       "    </tr>\n",
       "    <tr>\n",
       "      <th>1970-01-01 00:00:00.000000017</th>\n",
       "      <td>POINT (-35.45501 -77.03310)</td>\n",
       "    </tr>\n",
       "    <tr>\n",
       "      <th>1970-01-01 00:00:00.000000018</th>\n",
       "      <td>POINT (-59.11783 -75.83566)</td>\n",
       "    </tr>\n",
       "    <tr>\n",
       "      <th>1970-01-01 00:00:00.000000019</th>\n",
       "      <td>POINT (-77.96010 -72.38965)</td>\n",
       "    </tr>\n",
       "    <tr>\n",
       "      <th>1970-01-01 00:00:00.000000020</th>\n",
       "      <td>POINT (-90.38687 -67.38657)</td>\n",
       "    </tr>\n",
       "    <tr>\n",
       "      <th>1970-01-01 00:00:00.000000021</th>\n",
       "      <td>POINT (-99.59434 -60.19465)</td>\n",
       "    </tr>\n",
       "    <tr>\n",
       "      <th>1970-01-01 00:00:00.000000022</th>\n",
       "      <td>POINT (-106.37693 -50.25634)</td>\n",
       "    </tr>\n",
       "    <tr>\n",
       "      <th>1970-01-01 00:00:00.000000023</th>\n",
       "      <td>POINT (-111.51882 -36.48096)</td>\n",
       "    </tr>\n",
       "    <tr>\n",
       "      <th>1970-01-01 00:00:00.000000024</th>\n",
       "      <td>POINT (-115.30080 -19.27607)</td>\n",
       "    </tr>\n",
       "    <tr>\n",
       "      <th>1970-01-01 00:00:00.000000025</th>\n",
       "      <td>POINT (-123.63896 31.61750)</td>\n",
       "    </tr>\n",
       "    <tr>\n",
       "      <th>1970-01-01 00:00:00.000000026</th>\n",
       "      <td>POINT (-127.38371 45.02024)</td>\n",
       "    </tr>\n",
       "    <tr>\n",
       "      <th>1970-01-01 00:00:00.000000027</th>\n",
       "      <td>POINT (-131.90094 54.92655)</td>\n",
       "    </tr>\n",
       "    <tr>\n",
       "      <th>1970-01-01 00:00:00.000000028</th>\n",
       "      <td>POINT (-139.12559 63.90810)</td>\n",
       "    </tr>\n",
       "    <tr>\n",
       "      <th>1970-01-01 00:00:00.000000029</th>\n",
       "      <td>POINT (-148.94375 70.29256)</td>\n",
       "    </tr>\n",
       "    <tr>\n",
       "      <th>1970-01-01 00:00:00.000000030</th>\n",
       "      <td>POINT (-162.17736 74.64083)</td>\n",
       "    </tr>\n",
       "    <tr>\n",
       "      <th>1970-01-01 00:00:00.000000031</th>\n",
       "      <td>POINT (-180.00000 77.32443)</td>\n",
       "    </tr>\n",
       "  </tbody>\n",
       "</table>\n",
       "</div>"
      ],
      "text/plain": [
       "                                                   geometry\n",
       "time                                                       \n",
       "1970-01-01 00:00:00.000000000   POINT (-180.00000 77.32443)\n",
       "1970-01-01 00:00:00.000000001   POINT (-180.00000 75.96161)\n",
       "1970-01-01 00:00:00.000000002   POINT (-162.09458 72.95769)\n",
       "1970-01-01 00:00:00.000000003   POINT (-148.71771 68.02475)\n",
       "1970-01-01 00:00:00.000000004   POINT (-139.57473 61.46376)\n",
       "1970-01-01 00:00:00.000000005   POINT (-132.76541 52.52883)\n",
       "1970-01-01 00:00:00.000000006   POINT (-128.23535 42.33934)\n",
       "1970-01-01 00:00:00.000000007   POINT (-124.53764 28.97745)\n",
       "1970-01-01 00:00:00.000000008  POINT (-116.14332 -22.21489)\n",
       "1970-01-01 00:00:00.000000009  POINT (-112.54563 -38.63235)\n",
       "1970-01-01 00:00:00.000000010  POINT (-107.59535 -52.02395)\n",
       "1970-01-01 00:00:00.000000011  POINT (-101.02934 -61.71245)\n",
       "1970-01-01 00:00:00.000000012   POINT (-96.51192 -65.80947)\n",
       "1970-01-01 00:00:00.000000013   POINT (-91.33566 -69.12003)\n",
       "1970-01-01 00:00:00.000000014   POINT (-77.82439 -74.14540)\n",
       "1970-01-01 00:00:00.000000015   POINT (-59.19556 -77.20514)\n",
       "1970-01-01 00:00:00.000000016   POINT (-35.45207 -78.29215)\n",
       "1970-01-01 00:00:00.000000017   POINT (-35.45501 -77.03310)\n",
       "1970-01-01 00:00:00.000000018   POINT (-59.11783 -75.83566)\n",
       "1970-01-01 00:00:00.000000019   POINT (-77.96010 -72.38965)\n",
       "1970-01-01 00:00:00.000000020   POINT (-90.38687 -67.38657)\n",
       "1970-01-01 00:00:00.000000021   POINT (-99.59434 -60.19465)\n",
       "1970-01-01 00:00:00.000000022  POINT (-106.37693 -50.25634)\n",
       "1970-01-01 00:00:00.000000023  POINT (-111.51882 -36.48096)\n",
       "1970-01-01 00:00:00.000000024  POINT (-115.30080 -19.27607)\n",
       "1970-01-01 00:00:00.000000025   POINT (-123.63896 31.61750)\n",
       "1970-01-01 00:00:00.000000026   POINT (-127.38371 45.02024)\n",
       "1970-01-01 00:00:00.000000027   POINT (-131.90094 54.92655)\n",
       "1970-01-01 00:00:00.000000028   POINT (-139.12559 63.90810)\n",
       "1970-01-01 00:00:00.000000029   POINT (-148.94375 70.29256)\n",
       "1970-01-01 00:00:00.000000030   POINT (-162.17736 74.64083)\n",
       "1970-01-01 00:00:00.000000031   POINT (-180.00000 77.32443)"
      ]
     },
     "execution_count": 10,
     "metadata": {},
     "output_type": "execute_result"
    }
   ],
   "source": [
    "gdf"
   ]
  },
  {
   "cell_type": "code",
   "execution_count": 11,
   "id": "a1d88533-d5de-4f4f-a3fd-32c1e85d7399",
   "metadata": {
    "tags": []
   },
   "outputs": [
    {
     "data": {
      "text/plain": [
       "<Axes: >"
      ]
     },
     "execution_count": 11,
     "metadata": {},
     "output_type": "execute_result"
    },
    {
     "data": {
      "image/png": "[encoded data removed]",
      "text/plain": [
       "<Figure size 640x480 with 1 Axes>"
      ]
     },
     "metadata": {},
     "output_type": "display_data"
    }
   ],
   "source": [
    "gdf.plot()"
   ]
  },
  {
   "cell_type": "code",
   "execution_count": 12,
   "id": "a70b6526-1001-49d0-8f04-db41e1e7c87d",
   "metadata": {
    "tags": []
   },
   "outputs": [],
   "source": [
    "import geopandas as gpd"
   ]
  },
  {
   "cell_type": "code",
   "execution_count": 13,
   "id": "8abcc3a0-2a86-4c3f-9438-7e9befa320c4",
   "metadata": {
    "tags": []
   },
   "outputs": [
    {
     "data": {
      "text/plain": [
       "<Axes: >"
      ]
     },
     "execution_count": 13,
     "metadata": {},
     "output_type": "execute_result"
    },
    {
     "data": {
      "image/png": "[encoded data removed]",
      "text/plain": [
       "<Figure size 1200x600 with 1 Axes>"
      ]
     },
     "metadata": {},
     "output_type": "display_data"
    }
   ],
   "source": [
    "worldmap = gpd.read_file(gpd.datasets.get_path(\"naturalearth_lowres\"))\n",
    "fig, ax = plt.subplots(figsize=(12, 6))\n",
    "worldmap.plot(color=\"lightgrey\", ax=ax)\n",
    "gdf.plot(ax=ax)"
   ]
  },
  {
   "cell_type": "code",
   "execution_count": null,
   "id": "3ba51afd-98fe-4ac3-a885-d9a7975bc009",
   "metadata": {},
   "outputs": [],
   "source": []
  }
 ],
 "metadata": {
  "kernelspec": {
   "display_name": "Python 3 (ipykernel)",
   "language": "python",
   "name": "python3"
  },
  "language_info": {
   "codemirror_mode": {
    "name": "ipython",
    "version": 3
   },
   "file_extension": ".py",
   "mimetype": "text/x-python",
   "name": "python",
   "nbconvert_exporter": "python",
   "pygments_lexer": "ipython3",
   "version": "3.11.3"
  }
 },
 "nbformat": 4,
 "nbformat_minor": 5
}
